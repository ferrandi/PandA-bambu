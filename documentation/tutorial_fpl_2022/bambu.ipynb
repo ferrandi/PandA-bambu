{
  "cells": [
    {
      "cell_type": "markdown",
      "metadata": {
        "id": "V_2WzZoHkY8D"
      },
      "source": [
        "# **Initial setup**\n",
        "\n",
        "Install Bambu and required packages:"
      ]
    },
    {
      "cell_type": "code",
      "execution_count": null,
      "metadata": {
        "id": "fM6c5RAukY8J"
      },
      "outputs": [],
      "source": [
        "!echo \"deb http://ppa.launchpad.net/git-core/ppa/ubuntu $(cat /etc/os-release | grep UBUNTU_CODENAME | sed 's/.*=//g') main\" >> /etc/apt/sources.list.d/git-core.list\n",
        "!apt-key adv --keyserver keyserver.ubuntu.com --recv-keys A1715D88E1DF1F24\n",
        "!apt-get update\n",
        "!apt-get install -y --no-install-recommends build-essential ca-certificates gcc-multilib git iverilog verilator wget\n",
        "!wget https://release.bambuhls.eu/appimage/bambu-latest.AppImage\n",
        "!chmod +x bambu-*.AppImage\n",
        "!ln -sf $PWD/bambu-*.AppImage /bin/bambu\n",
        "!ln -sf $PWD/bambu-*.AppImage /bin/spider\n",
        "!ln -sf $PWD/bambu-*.AppImage /bin/tree-panda-gcc\n",
        "!ln -sf $PWD/bambu-*.AppImage /bin/clang-12\n",
        "!git clone --depth 1 --filter=blob:none --sparse https://github.com/ferrandi/PandA-bambu.git\n",
        "%cd PandA-bambu\n",
        "!git sparse-checkout set documentation/tutorial_fpl_2022 \n",
        "%cd ..\n",
        "!mv PandA-bambu/documentation/tutorial_fpl_2022/ bambu-tutorial"
      ]
    },
    {
      "cell_type": "markdown",
      "metadata": {
        "id": "1K0z3rWNkY8N"
      },
      "source": [
        "# **Productive HLS with Bambu**\n"
      ]
    },
    {
      "cell_type": "markdown",
      "metadata": {
        "id": "4mnSaH9BkY8N"
      },
      "source": [
        "## **Exercise 1**\n",
        "\n",
        "Have a look at the C code in /content/bambu-tutorial/01-introduction/Exercise1/icrc.c\n",
        "\n",
        "Launch bambu:"
      ]
    },
    {
      "cell_type": "code",
      "execution_count": null,
      "metadata": {
        "id": "8qyCr3u4kY8P"
      },
      "outputs": [],
      "source": [
        "%cd /content/bambu-tutorial/01-introduction/Exercise1\n",
        "!bambu icrc.c --top-fname=icrc1"
      ]
    },
    {
      "cell_type": "markdown",
      "metadata": {
        "id": "m6Gxt2YLkY8Q"
      },
      "source": [
        "Inspect the generated Verilog file in the explorer tab on the left (icrc1.v)\n"
      ]
    },
    {
      "cell_type": "markdown",
      "metadata": {
        "id": "uuKpPqQLkY8R"
      },
      "source": [
        "Take a brief look at the available Bambu options:\n"
      ]
    },
    {
      "cell_type": "code",
      "execution_count": null,
      "metadata": {
        "id": "kq5_j96FkY8S"
      },
      "outputs": [],
      "source": [
        "!bambu --help"
      ]
    },
    {
      "cell_type": "markdown",
      "metadata": {
        "id": "ewJCDjrpkY8S"
      },
      "source": [
        "Modify the command line to change the amount of debug information displayed, and generate VHDL instead of Verilog code:\n"
      ]
    },
    {
      "cell_type": "code",
      "execution_count": null,
      "metadata": {
        "id": "41_XU34tkY8T"
      },
      "outputs": [],
      "source": [
        "!bambu icrc.c --top-fname=icrc1 -wH"
      ]
    },
    {
      "cell_type": "markdown",
      "metadata": {
        "id": "Ll1qN_GfkY8U"
      },
      "source": [
        "## **Exercise 2**\n",
        "\n",
        "We remain on the same input C code as before, let's add co-simulation:\n"
      ]
    },
    {
      "cell_type": "code",
      "execution_count": null,
      "metadata": {
        "id": "mQetLrjPkY8V"
      },
      "outputs": [],
      "source": [
        "%cd /content/bambu-tutorial/01-introduction/Exercise1\n",
        "!bambu icrc.c --top-fname=icrc1 --simulate --simulator=VERILATOR"
      ]
    },
    {
      "cell_type": "markdown",
      "metadata": {
        "id": "OcEj7Mv3kY8V"
      },
      "source": [
        "We did not specify any input values. Inspect what Bambu generated automatically:"
      ]
    },
    {
      "cell_type": "code",
      "execution_count": null,
      "metadata": {
        "id": "ZjdchGrHkY8W"
      },
      "outputs": [],
      "source": [
        "!cat test.xml"
      ]
    },
    {
      "cell_type": "markdown",
      "metadata": {
        "id": "g4mAX0LzkY8W"
      },
      "source": [
        "You can find the actual testbench in HLS_output/simulation."
      ]
    },
    {
      "cell_type": "markdown",
      "metadata": {
        "id": "qVqDccKlkY8X"
      },
      "source": [
        "## **Exercise 3**\n",
        "\n",
        "Implement and synthesize a module that returns the minimum and maximum value in an array of integers with arbitrary size.\n",
        "\n",
        "Write the input C code starting from this snippet:"
      ]
    },
    {
      "cell_type": "code",
      "execution_count": null,
      "metadata": {
        "id": "zV1oZ1RfkY8X"
      },
      "outputs": [],
      "source": [
        "%%writefile /content/bambu-tutorial/01-introduction/Exercise2/minmax.c\n",
        "void min_max(int * input, int num_elements, int * max, int * min)\n",
        "{\n",
        "   int local_max = input[0];\n",
        "   int local_min = input[0];\n",
        "   int i = 0;\n",
        "   for(i = 0; i < num_elements; i++)\n",
        "   {\n",
        "      if(input[i] > local_max)\n",
        "      {\n",
        "         local_max = input[i];\n",
        "      }\n",
        "      else if(input[i] < local_min)\n",
        "      {\n",
        "         local_min = input[i];\n",
        "      }\n",
        "   }\n",
        "   *min = local_min;\n",
        "   *max = local_max;\n",
        "}"
      ]
    },
    {
      "cell_type": "markdown",
      "metadata": {
        "id": "gG5f1mdzkY8Y"
      },
      "source": [
        "Write a testbench to test arrays with different elements and different sizes.\n",
        "\n",
        "Start from the XML snippet below **(parameter names need to correspond to function arguments in your code)**:"
      ]
    },
    {
      "cell_type": "code",
      "execution_count": null,
      "metadata": {
        "id": "gs5Hch82kY8Y"
      },
      "outputs": [],
      "source": [
        "%%writefile /content/bambu-tutorial/01-introduction/Exercise2/testbench.xml\n",
        "<?xml version=\"1.0\"?>\n",
        "<function>\n",
        "   <testbench input=\"{0,1,2,3,4}\" num_elements=\"5\" max=\"{0}\" min=\"{0}\"/>\n",
        "   <testbench input=\"{0,1,2,3,4,5,6,7,8,9}\" num_elements=\"10\" max=\"{0}\" min=\"{0}\"/>\n",
        "   <testbench input=\"{0,0,0,0,0,0,0,0,0,0}\" num_elements=\"10\" max=\"{0}\" min=\"{0}\"/>\n",
        "   <testbench input=\"{0}\" num_elements=\"1\" max=\"{0}\" min=\"{0}\"/>\n",
        "</function>"
      ]
    },
    {
      "cell_type": "markdown",
      "metadata": {
        "id": "c-RVspt3kY8Z"
      },
      "source": [
        "Synthesize with Bambu and simulate with Verilator **(double check the command line if you changed file/function names)**:"
      ]
    },
    {
      "cell_type": "code",
      "execution_count": null,
      "metadata": {
        "id": "f_T0r66AkY8Z"
      },
      "outputs": [],
      "source": [
        "%cd /content/bambu-tutorial/01-introduction/Exercise2/\n",
        "!bambu minmax.c --top-fname=min_max --generate-tb=testbench.xml --simulate --simulator=VERILATOR"
      ]
    },
    {
      "cell_type": "markdown",
      "metadata": {
        "id": "UzvbptSYkY8a"
      },
      "source": [
        "What happens if you pass an array with a different number of elements than what is specified in num_elements? **(remember to fix the XML file afterwards, we will need it again)**"
      ]
    },
    {
      "cell_type": "markdown",
      "metadata": {
        "id": "r1Bp4LYckY8b"
      },
      "source": [
        "## **Exercise 4**\n",
        "\n",
        "Bambu can synthesize accelerators described in an LLVM IR through the Clang frontend.\n",
        "\n",
        "Synthesize /content/bambu-tutorial/01-introduction/Exercise3/matmul.ll, which contains a matrix multiplication kernel generated by [soda-opt](https://gitlab.pnnl.gov/sodalite/soda-opt):"
      ]
    },
    {
      "cell_type": "code",
      "execution_count": null,
      "metadata": {
        "id": "rDZvVlgVkY8b"
      },
      "outputs": [],
      "source": [
        "%cd /content/bambu-tutorial/01-introduction/Exercise3/\n",
        "!bambu matmul.ll --top-fname=main_kernel --generate-tb=test.xml --simulate --simulator=VERILATOR --compiler=I386_CLANG13"
      ]
    },
    {
      "cell_type": "markdown",
      "metadata": {
        "id": "w1GgyDUfkY8b"
      },
      "source": [
        "Note: kernels generated by soda-opt require at least Clang 10."
      ]
    },
    {
      "cell_type": "markdown",
      "metadata": {
        "id": "dD2n8XFRkY8c"
      },
      "source": [
        "## **Exercise 5**\n",
        "\n",
        "Let's go back to the C code that finds minumim and maximum in an array of numbers, and compare performance across different target platforms and frequencies.\n",
        "\n",
        "Start from the given command and modify the options appropriately to test the following combinations:\n",
        "\n",
        "\n",
        "*   nx1h140tsp (NG-LARGE) – 66MHz\n",
        "*   nx1h35S (NG-MEDIUM) - 50Mhz\n",
        "\n"
      ]
    },
    {
      "cell_type": "code",
      "execution_count": null,
      "metadata": {
        "id": "DGB_zYb0kY8c"
      },
      "outputs": [],
      "source": [
        "%cd /content/bambu-tutorial/01-introduction/Exercise2\n",
        "!bambu minmax.c --top-fname=min_max --device-name=nx1h35S --clock-period=20 --simulate --simulator=VERILATOR --generate-tb=testbench.xml"
      ]
    },
    {
      "cell_type": "markdown",
      "metadata": {
        "id": "tvRAqSe1kY8c"
      },
      "source": [
        "Look also at the different simulation and synthesis scripts generated by Bambu."
      ]
    },
    {
      "cell_type": "markdown",
      "metadata": {
        "id": "cLgC0cxVkY8c"
      },
      "source": [
        "## **Exercise 6**\n",
        "\n",
        "Ask Bambu to print a C verion of its internal IR and all relevant graphs:"
      ]
    },
    {
      "cell_type": "code",
      "execution_count": null,
      "metadata": {
        "id": "KC56EVOrkY8d"
      },
      "outputs": [],
      "source": [
        "!bambu minmax.c --top-fname=min_max --pretty-print=out.c --print-dot"
      ]
    },
    {
      "cell_type": "markdown",
      "metadata": {
        "id": "aMVwFt8okY8d"
      },
      "source": [
        "Look at /content/bambu-tutorial/01-introduction/Exercise2/out.c and then print the FSM graph:"
      ]
    },
    {
      "cell_type": "code",
      "execution_count": null,
      "metadata": {
        "id": "g32enpA0kY8d"
      },
      "outputs": [],
      "source": [
        "from graphviz import Source\n",
        "Source.from_file('HLS_output/dot/min_max/fsm.dot')"
      ]
    },
    {
      "cell_type": "code",
      "execution_count": null,
      "metadata": {
        "id": "FlSS4Ynj27Gb"
      },
      "outputs": [],
      "source": [
        "from graphviz import Source\n",
        "Source.from_file('HLS_output/dot/min_max/HLS_STGraph.dot')"
      ]
    },
    {
      "cell_type": "markdown",
      "metadata": {
        "id": "dLZBqaNqwdcU"
      },
      "source": [
        "## **Other examples**\n",
        "\n",
        "You can play around with a set of other examples that contain different applications and showcase different features of Bambu.\n",
        "\n",
        " - /content/bambu-tutorial/01-introduction/Exercise4: Function Proxy\n",
        " - /content/bambu-tutorial/04-simd/Exercise1: SIMD optimization\n",
        " - /content/bambu-tutorial/01-introduction/Exercise5: LU decomposition\n",
        " - /content/bambu-tutorial/01-introduction/Exercise6: integration of IPs written in Verilog\n",
        " - /content/bambu-tutorial/01-introduction/Exercise7: sorting algorithm\n",
        " - /content/bambu-tutorial/01-introduction/Exercise8: cryptographic core\n",
        " - /content/bambu-tutorial/01-introduction/Exercise9: search and insertion in a binary tree\n"
      ]
    },
    {
      "cell_type": "markdown",
      "metadata": {
        "id": "IlQDB6nqHqz0"
      },
      "source": [
        "# **Optimizations**"
      ]
    },
    {
      "cell_type": "markdown",
      "metadata": {
        "id": "dWWTy4TGZLfk"
      },
      "source": [
        "## **Exercise 1** \n",
        "\n",
        "Modify Bambu options to evaluate the effect of:\n",
        "\n",
        "\n",
        "*   different levels of optimization (-O0, -O1, -O2, -O3, -Os)\n",
        "*   vectorization (-ftree-vectorize)\n",
        "*   inlining (-finline-limit=100000)\n",
        "*   different frontend compilers (--compiler={I386_GCC49|I386_GCC7|I386_CLANG12|I386_CLANG13})\n",
        "\n",
        "#### **ADPCM from CHStone benchmark suite**\n",
        "Adaptive Diferential Pulse-Code Modulation is an algorithm used to perform audio compression (mainly in telephony). It is part of the CHStone benchmark suite for C-based HLS tools.\n",
        "* Yuko Hara, Hiroyuki Tomiyama, Shinya Honda and Hiroaki Takada, \"Proposal and Quantitative Analysis of the CHStone Benchmark Program Suite for Practical C-based High-level Synthesis\", *Journal of Information Processing*, Vol. 17, pp.242-254, (2009)."
      ]
    },
    {
      "cell_type": "code",
      "execution_count": null,
      "metadata": {
        "id": "YOXiFqzSIDR9"
      },
      "outputs": [],
      "source": [
        "%cd /content/bambu-tutorial/03-optimizations/Exercise1/\n",
        "!bambu adpcm.c -O0 --simulate"
      ]
    },
    {
      "cell_type": "markdown",
      "metadata": {
        "id": "mJOV50V4IiE2"
      },
      "source": [
        "## **Exercise 2** \n",
        "\n",
        "Use the command that yielded the best result in Exercise 1 and verify if SDC scheduling can introduce further improvements.\n",
        "\n",
        "* -s or --speculative-sdc-scheduling"
      ]
    },
    {
      "cell_type": "code",
      "execution_count": null,
      "metadata": {
        "id": "Qi_ZpIr1IzZ7"
      },
      "outputs": [],
      "source": [
        "%cd /content/bambu-tutorial/03-optimizations/Exercise1/\n",
        "!bambu adpcm.c -O0 --simulate"
      ]
    },
    {
      "cell_type": "markdown",
      "metadata": {
        "id": "StGBkKaJJEfr"
      },
      "source": [
        "## **Exercise 3**\n",
        "\n",
        "Modify Bambu options to evaluate the effect of different integer division implementations.\n",
        "\n",
        "--hls-div=<method\\>\n",
        "* none  - use a HDL based pipelined restoring division\n",
        "* nr1   - use a C-based non-restoring division with unrolling factor equal to 1 (default)\n",
        "* nr2   - use a C-based non-restoring division with unrolling factor equal to 2\n",
        "* NR    - use a C-based Newton-Raphson division\n",
        "* as    - use a C-based align divisor shift dividend method\n",
        "\n",
        "#### **FPDiv from CHStone**\n",
        "Soft floating-point division implementation from the CHStone benchmark suite for C-based HLS.\n",
        "* Yuko Hara, Hiroyuki Tomiyama, Shinya Honda and Hiroaki Takada, \"Proposal and Quantitative Analysis of the CHStone Benchmark Program Suite for Practical C-based High-level Synthesis\", *Journal of Information Processing*, Vol. 17, pp.242-254, (2009).\n"
      ]
    },
    {
      "cell_type": "code",
      "execution_count": null,
      "metadata": {
        "id": "bnEJ4nwuJLfo"
      },
      "outputs": [],
      "source": [
        "%cd /content/bambu-tutorial/03-optimizations/Exercise3/\n",
        "!bambu dfdiv.c --simulate --clock-period=15 --hls-div=none"
      ]
    },
    {
      "cell_type": "markdown",
      "metadata": {
        "id": "elFjSeb2oq9s"
      },
      "source": [
        "## **Exercise 4**\n",
        "Not all target devices may expose support for the synthesis of the whole set of Bambu IR instructions. If this is the case, Bambu takes care of replacing unsupported IR instructions with function calls which implement the same functionality using supported functional units only.\n",
        "\n",
        "As an example, NanoXplore nx1h140tsp FPGA board does not support 64x64 integer multiplication, thus Bambu will replace this simple IR instruction with a function call to a different multiplier implementation which exploits smaller multipliers to build the final result."
      ]
    },
    {
      "cell_type": "code",
      "execution_count": null,
      "metadata": {
        "id": "Q21rEJY2o-i3"
      },
      "outputs": [],
      "source": [
        "%%writefile /content/bambu-tutorial/03-optimizations/Exercise4/module.c\n",
        "long long func_replace(long long a, long long b)\n",
        "{\n",
        "   return a * b;\n",
        "}"
      ]
    },
    {
      "cell_type": "markdown",
      "metadata": {
        "id": "YEYtnEJe_FS0"
      },
      "source": [
        "Make sure you run the above cell before launching Bambu in the following.\n"
      ]
    },
    {
      "cell_type": "code",
      "execution_count": null,
      "metadata": {
        "id": "oL1QqXero2pR"
      },
      "outputs": [],
      "source": [
        "%cd /content/bambu-tutorial/03-optimizations/Exercise4/\n",
        "!bambu module.c --top-fname=func_replace --device-name=nx1h140tsp --generate-tb=a=4,b=5 --simulate --panda-parameter=function-opt=0 --print-dot"
      ]
    },
    {
      "cell_type": "markdown",
      "metadata": {
        "id": "UjV9dfwz_O9e"
      },
      "source": [
        "Once the synthesis has completed it is possible to have a look at the initial and final call graph. In the former no function calls are present, while in the latter a __umul64 function call has been added. This function implements the 64x64 integer multiplication by means of smaller 32x32 multipliers."
      ]
    },
    {
      "cell_type": "code",
      "execution_count": null,
      "metadata": {
        "id": "Jgv1TnykqT2V"
      },
      "outputs": [],
      "source": [
        "from graphviz import Source\n",
        "Source.from_file('HLS_output/dot/call_graph.dot')"
      ]
    },
    {
      "cell_type": "code",
      "execution_count": null,
      "metadata": {
        "id": "bSBnpIUKqV_6"
      },
      "outputs": [],
      "source": [
        "from graphviz import Source\n",
        "Source.from_file('HLS_output/dot/call_graph_final.dot')"
      ]
    },
    {
      "cell_type": "markdown",
      "metadata": {
        "id": "wiVlnuPy_wQO"
      },
      "source": [
        "Also it is possible to have a look at the __umul64 FSM graph to see how the 64x64 multiplication logic is implemented."
      ]
    },
    {
      "cell_type": "code",
      "execution_count": null,
      "metadata": {
        "id": "g9i03s7Uqa1w"
      },
      "outputs": [],
      "source": [
        "from graphviz import Source\n",
        "Source.from_file('HLS_output/dot/__umul64/fsm.dot')"
      ]
    },
    {
      "cell_type": "markdown",
      "metadata": {
        "id": "YSRwNv1o2Jqx"
      },
      "source": [
        "## **Exercise 5** \n",
        "Bambu expose a complete support for floating-point arithemtic and all libm functions.\n",
        "In the following you can define any arbitrary floating-point computation and take a look at the generated design structure.\n",
        "\n",
        "As an example, try to write a C implementation that compute the following:\n",
        "\n",
        "# $awesome\\_math(a,b,c) = acos(\\frac{a^2+b^2-c^2}{2ab})$\n",
        "\n",
        "Experiment with single and double precision data types, different softfloat and libm implementations offered by bambu.\n",
        "\n",
        "Start by editing this code and then try different bambu options:\n",
        "* Different floating-point arithmetic implementations (--softfloat, --soft-fp, --flopoco)\n",
        "* Different libm implementations (--libm-std-rounding)\n",
        "* Different square implementation (pow, simple multiplication)"
      ]
    },
    {
      "cell_type": "code",
      "execution_count": null,
      "metadata": {
        "id": "LuhiArbj6XnA"
      },
      "outputs": [],
      "source": [
        "%%writefile /content/bambu-tutorial/03-optimizations/Exercise5/module.c\n",
        "#include <math.h>\n",
        "float awesome_math(float a, float b, float c)\n",
        "{\n",
        "   return a * b + c;\n",
        "}"
      ]
    },
    {
      "cell_type": "markdown",
      "metadata": {
        "id": "4dstvQzcCt9z"
      },
      "source": [
        "Make sure you run the above cell after you write the C implementation inside, so that the file is updated, then launch Bambu to perform the synthesis."
      ]
    },
    {
      "cell_type": "code",
      "execution_count": null,
      "metadata": {
        "id": "_Rg4Gthy2vDm"
      },
      "outputs": [],
      "source": [
        "%cd /content/bambu-tutorial/03-optimizations/Exercise5/\n",
        "!bambu module.c -O3 -lm --simulate --top-fname=awesome_math --generate-tb=\"a=3.0,b=4.0,c=5.0\" --panda-parameter=function-opt=0 --print-dot"
      ]
    },
    {
      "cell_type": "markdown",
      "metadata": {
        "id": "Rlg6keEyDARF"
      },
      "source": [
        "After the synthesis has completed it is possible to observe how the floating-point operations have been converted to function calls to the internal Bambu arithmetic cores and libm implementation."
      ]
    },
    {
      "cell_type": "code",
      "execution_count": null,
      "metadata": {
        "id": "r9Lplti4nD-H"
      },
      "outputs": [],
      "source": [
        "from graphviz import Source\n",
        "Source.from_file('HLS_output/dot/call_graph_final.dot')"
      ]
    },
    {
      "cell_type": "code",
      "execution_count": null,
      "metadata": {
        "id": "wUcQsiLvn_nF"
      },
      "outputs": [],
      "source": [
        "from graphviz import Source\n",
        "Source.from_file('HLS_output/dot/__float_adde8m23b_127nih/fsm.dot')"
      ]
    },
    {
      "cell_type": "markdown",
      "metadata": {
        "id": "xoE9JUqsDa4Z"
      },
      "source": [
        "## **Excercise 6**\n",
        "Further support for custom floating-point arithmetic is also available in Bambu.\n",
        "\n",
        "The user may define custom floating-point types through the command line API and the HLS engine will take care of the conversions and implementation starting from standard float/double types defined in the C implementation.\n",
        "\n",
        "```\n",
        "--fp-subnormal\n",
        "        Enable the soft-based implementation of floating-point operations with\n",
        "        subnormals support.\n",
        "\n",
        "--fp-exception-mode=<ieee|saturation|overflow>\n",
        "    Set the soft-based exception handling mode:\n",
        "          ieee    - IEEE754 standard exceptions (default)\n",
        "       saturation - Inf is replaced with max value, Nan becomes undefined behaviour\n",
        "        overflow  - Inf and Nan results in undefined behaviour\n",
        "\n",
        "--fp-rounding-mode=<nearest_even|truncate>\n",
        "    Set the soft-based rounding handling mode:\n",
        "       nearest_even - IEEE754 standard rounding mode (default)\n",
        "          truncate  - No rounding is applied\n",
        "\n",
        "--fp-format=<func_name>*e<exp_bits>m<frac_bits>b<exp_bias><rnd_mode><exc_mode><?spec><?sign>\n",
        "    Define arbitrary precision floating-point format by function (use comma separated\n",
        "    list for multiple definitions). (i.e.: e8m27b-127nihs represent IEEE754 single precision FP)\n",
        "       func_name - Set arbitrary floating-point format for a specific function (using\n",
        "                   @ symbol here will resolve to the top function)\n",
        "                   (Arbitrary floating-point format will apply to specified function\n",
        "                   only, use --propagate-fp-format to extend it to called functions)\n",
        "        exp_bits - Number of bits used by the exponent\n",
        "       frac_bits - Number of bits used by the fractional value\n",
        "        exp_bias - Bias applied to the unsigned value represented by the exponent bits\n",
        "        rnd_mode - Rounding mode (exclusive option):\n",
        "                      n - nearest_even: IEEE754 standard rounding mode\n",
        "                      t - truncate    : no rounding is applied\n",
        "        exc_mode - Exception mode (exclusive option):\n",
        "                      i - ieee      : IEEE754 standard exceptions\n",
        "                      a - saturation: Inf is replaced with max value, Nan becomes undefined behaviour\n",
        "                      o - overflow  : Inf and Nan results in undefined behaviour\n",
        "          spec   - Floating-point specialization string (multiple choice):\n",
        "                      h - hidden one: IEEE754 standard representation with hidden one\n",
        "                      s - subnormals: IEEE754 subnormal numbers\n",
        "          sign   - Static sign representation (exclusive option):\n",
        "                        - IEEE754 dynamic sign is used if omitted\n",
        "                      1 - all values are considered as negative numbers\n",
        "                      0 - all values are considered as positive numbers\n",
        "\n",
        "--fp-format=inline-math\n",
        "    The \"inline-math\" flag may be added to fp-format option to force floating-point\n",
        "    arithmetic operators always inline policy\n",
        "\n",
        "--fp-format=inline-conversion\n",
        "    The \"inline-conversion\" flag may be added to fp-format option to force floating-point\n",
        "    conversion operators always inline policy\n",
        "\n",
        "--fp-format-interface\n",
        "    User-defined floating-point format is applied to top interface signature if required\n",
        "    (default modifies top function body only)\n",
        "\n",
        "--fp-format-propagate\n",
        "    Propagate user-defined floating-point format to called function when possible\n",
        "```"
      ]
    },
    {
      "cell_type": "code",
      "execution_count": null,
      "metadata": {
        "id": "6JnEKX_4EFJ2"
      },
      "outputs": [],
      "source": [
        "%%writefile /content/bambu-tutorial/03-optimizations/Exercise6/module.c\n",
        "float user_fp(float a, float b, float c)\n",
        "{\n",
        "   return a * b + c;\n",
        "}"
      ]
    },
    {
      "cell_type": "markdown",
      "metadata": {
        "id": "tmQE2zMsEOps"
      },
      "source": [
        "As an example, the above code may be synthesized as is with standard single-precision floating-point arithmetic or it may be synthesized replacing float with half-precision encoding, thus a 16-bit floating-point format through the following."
      ]
    },
    {
      "cell_type": "code",
      "execution_count": null,
      "metadata": {
        "id": "qGJlenxDEpOA"
      },
      "outputs": [],
      "source": [
        "%cd /content/bambu-tutorial/03-optimizations/Exercise6/\n",
        "!bambu module.c -O3 -lm --simulate --top-fname=user_fp --fp-format=user_fp*e5m10b-16nih --fp-format-interface --generate-tb=\"a=3.0,b=4.0,c=5.0\" --print-dot"
      ]
    },
    {
      "cell_type": "code",
      "execution_count": null,
      "metadata": {
        "id": "KtnrCuAbFsdw"
      },
      "outputs": [],
      "source": [
        "from graphviz import Source\n",
        "Source.from_file('HLS_output/dot/call_graph_final.dot')"
      ]
    },
    {
      "cell_type": "markdown",
      "metadata": {
        "id": "W7Xm7x00kY8k"
      },
      "source": [
        "# AXI"
      ]
    },
    {
      "cell_type": "markdown",
      "metadata": {
        "id": "astRZQCPkY8k"
      },
      "source": [
        "## **Exercise 1**\n",
        "Start by writing a C function called read that simply reads a number from an AXI bus and returns the value that is retrieved from the bus.\n"
      ]
    },
    {
      "cell_type": "code",
      "execution_count": null,
      "metadata": {
        "id": "8WWTClIgkY8k"
      },
      "outputs": [],
      "source": [
        "%%writefile /content/bambu-tutorial/04-axi/Exercise1/module.c\n"
      ]
    },
    {
      "cell_type": "markdown",
      "metadata": {
        "id": "k6gr5V0OkY8l"
      },
      "source": [
        "Now add the interface infer flag to the bambu command and execute."
      ]
    },
    {
      "cell_type": "code",
      "execution_count": null,
      "metadata": {
        "id": "DPtMp3i9kY8l"
      },
      "outputs": [],
      "source": [
        "%cd /content/bambu-tutorial/04-axi/Exercise1/\n",
        "!bambu module.c --top-fname=read --compiler=I386_CLANG12"
      ]
    },
    {
      "cell_type": "markdown",
      "metadata": {
        "id": "vlliLe-skY8l"
      },
      "source": [
        "Open the generated Verilog file and look for the top module, called read. Notice the presence of the AXI signals and how their size matches the size of the data.\n",
        "\n"
      ]
    },
    {
      "cell_type": "code",
      "execution_count": null,
      "metadata": {
        "id": "E2Skz8FskY8m"
      },
      "outputs": [],
      "source": [
        "%cd /content/bambu-tutorial/04-axi/Exercise1/\n",
        "!cat read.v"
      ]
    },
    {
      "cell_type": "markdown",
      "metadata": {
        "id": "_bARuIvZkY8m"
      },
      "source": [
        "Finally, launch the simulation and check that everything works properly."
      ]
    },
    {
      "cell_type": "code",
      "execution_count": null,
      "metadata": {
        "id": "F35QAjj-kY8m"
      },
      "outputs": [],
      "source": [
        "%cd /content/bambu-tutorial/04-axi/Exercise1/\n",
        "!bambu module.c --top-fname=read --compiler=I386_CLANG12 --generate-interface=INFER --generate-tb=\"data={96}\" --simulator=VERILATOR --simulate -v4"
      ]
    },
    {
      "cell_type": "markdown",
      "metadata": {
        "id": "C_GmMHuokY8m"
      },
      "source": [
        "## **Exercise 2**"
      ]
    },
    {
      "cell_type": "markdown",
      "metadata": {
        "id": "RQWFRIg4kY8n"
      },
      "source": [
        "Consider the following code, that adds up all of the n elements of a vector v. Edit the code so that both the number of elements and the elements of the vector are read from an external memory through an AXI bus."
      ]
    },
    {
      "cell_type": "code",
      "execution_count": null,
      "metadata": {
        "id": "4QUMMgpnkY8n"
      },
      "outputs": [],
      "source": [
        "%%writefile /content/bambu-tutorial/04-axi/Exercise2/module.c\n",
        "\n",
        "int sum(int* v, unsigned* n)\n",
        "{\n",
        "   int sum = 0;\n",
        "\n",
        "   for(unsigned i = 0; i < *(n); i++)\n",
        "   {\n",
        "      sum += v[i];\n",
        "   }\n",
        "\n",
        "   return sum;\n",
        "}"
      ]
    },
    {
      "cell_type": "markdown",
      "metadata": {},
      "source": [
        "Let's also write a test file"
      ]
    },
    {
      "cell_type": "code",
      "execution_count": null,
      "metadata": {},
      "outputs": [],
      "source": [
        "%%writefile /content/bambu-tutorial/04-axi/Exercise2/test.xml\n",
        "<?xml version=\"1.0\"?>\n",
        "<function>\n",
        "   <testbench v=\"{1, 5, -6, 2, 8}\" n=\"{5}\"/>\n",
        "</function>"
      ]
    },
    {
      "cell_type": "markdown",
      "metadata": {
        "id": "XFRxYuA5kY8n"
      },
      "source": [
        "Launch bambu and simulate the execution."
      ]
    },
    {
      "cell_type": "code",
      "execution_count": null,
      "metadata": {
        "id": "j6_SFQLbkY8n"
      },
      "outputs": [],
      "source": [
        "%cd /content/bambu-tutorial/04-axi/Exercise2/\n",
        "!bambu module.c --top-fname=sum --compiler=I386_CLANG12 --generate-interface=INFER --generate-tb=test.xml --simulator=VERILATOR --simulate -v4"
      ]
    },
    {
      "cell_type": "markdown",
      "metadata": {
        "id": "X9fgghWdkY8n"
      },
      "source": [
        "## **Exercise 3**"
      ]
    },
    {
      "cell_type": "markdown",
      "metadata": {
        "id": "QbhpuMj1kY8n"
      },
      "source": [
        "Let's consider the following code, that computes the maximum among the elements of a vector. We want to read the number of elements of the vector and its data from an AXI bus, however, instead of returning the result, we then want to write the result to an external memory available over a different AXI bus. In order for bambu to generate the module according to our needs, we will need to provide additional information through \"bundle\", an optional parameter of the pragma directive.\n",
        "With the addition of the optional parameter, the directive becomes:\n",
        "\n",
        "#pragma HLS interface port=<variable_name> mode=m_axi offset=direct bundle=<bundle_name>\n",
        "\n",
        "By associating different variables to the same bundle name, we are telling bambu that they will use the same bus. When different names are used, bambu will generate a bus for each bundle.\n",
        "\n"
      ]
    },
    {
      "cell_type": "code",
      "execution_count": null,
      "metadata": {
        "id": "hay4ndWJkY8o"
      },
      "outputs": [],
      "source": [
        "%%writefile /content/bambu-tutorial/04-axi/Exercise3/module.c\n",
        "\n",
        "void maxNumbers(int* a, unsigned int* n_ptr, int* res)\n",
        "\n",
        "{\n",
        "   unsigned i;\n",
        "   int result;\n",
        "   unsigned int n = *n_ptr;\n",
        "\n",
        "   if(n == 0)\n",
        "   {\n",
        "      *res = (int)(1 << 31);\n",
        "      return;\n",
        "   }\n",
        "   result = a[0];\n",
        "   for(i = 1; i < n; ++i)\n",
        "      result = result < a[i] ? a[i] : result;\n",
        "   *res = result;\n",
        "}"
      ]
    },
    {
      "cell_type": "code",
      "execution_count": null,
      "metadata": {},
      "outputs": [],
      "source": [
        "%%writefile /content/bambu-tutorial/04-axi/Exercise3/test.xml\n",
        "<?xml version=\"1.0\"?>\n",
        "<function>\n",
        "   <testbench a=\"{21, 8, -3, -90}\" n_ptr=\"{4}\"/>\n",
        "</function>"
      ]
    },
    {
      "cell_type": "markdown",
      "metadata": {
        "id": "3Z5AxO4jkY8o"
      },
      "source": [
        "Once again, we can run bambu with the same command and perform a simulation."
      ]
    },
    {
      "cell_type": "code",
      "execution_count": null,
      "metadata": {
        "id": "3vtw_MkckY8o"
      },
      "outputs": [],
      "source": [
        "%cd /content/bambu-tutorial/04-axi/Exercise3/\n",
        "!bambu module.c --top-fname=maxNumbers --compiler=I386_CLANG12 --generate-interface=INFER --generate-tb=test.xml --simulator=VERILATOR --simulate -v4"
      ]
    },
    {
      "cell_type": "markdown",
      "metadata": {
        "id": "MRgKzu0VkY8o"
      },
      "source": [
        "If we open the module definition, we can actually check that two AXI buses are defined and used."
      ]
    },
    {
      "cell_type": "code",
      "execution_count": null,
      "metadata": {
        "id": "bld4NJSlkY8o"
      },
      "outputs": [],
      "source": [
        "%cd /content/bambu-tutorial/04-axi/Exercise3/\n",
        "!cat maxNumbers.v"
      ]
    }
  ],
  "metadata": {
    "colab": {
      "collapsed_sections": [],
      "provenance": []
    },
    "kernelspec": {
      "display_name": "Python 3 (ipykernel)",
      "language": "python",
      "name": "python3"
    },
    "language_info": {
      "codemirror_mode": {
        "name": "ipython",
        "version": 3
      },
      "file_extension": ".py",
      "mimetype": "text/x-python",
      "name": "python",
      "nbconvert_exporter": "python",
      "pygments_lexer": "ipython3",
      "version": "3.10.4"
    },
    "vscode": {
      "interpreter": {
        "hash": "916dbcbb3f70747c44a77c7bcd40155683ae19c65e1c03b4aa3499c5328201f1"
      }
    }
  },
  "nbformat": 4,
  "nbformat_minor": 0
}
