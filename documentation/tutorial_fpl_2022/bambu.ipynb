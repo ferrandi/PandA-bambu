{
 "cells": [
  {
   "cell_type": "markdown",
   "metadata": {
    "id": ""
   },
   "source": [
    "# **Initial setup**\n",
    "\n",
    "Install Bambu and required packages:"
   ]
  },
  {
   "cell_type": "code",
   "execution_count": 1,
   "metadata": {
    "id": ""
   },
   "outputs": [
    {
     "name": "stdout",
     "output_type": "stream",
     "text": [
      "Warning: apt-key is deprecated. Manage keyring files in trusted.gpg.d instead (see apt-key(8)).\n",
      "Executing: /tmp/apt-key-gpghome.411W8yrzMG/gpg.1.sh --keyserver keyserver.ubuntu.com --recv-keys A1715D88E1DF1F24\n",
      "gpg: key A1715D88E1DF1F24: \"Launchpad PPA for Ubuntu Git Maintainers\" not changed\n",
      "gpg: Total number processed: 1\n",
      "gpg:              unchanged: 1\n",
      "Hit:1 http://ppa.launchpad.net/git-core/ppa/ubuntu jammy InRelease\n",
      "Hit:2 http://it.archive.ubuntu.com/ubuntu jammy InRelease                      \n",
      "Hit:3 http://security.ubuntu.com/ubuntu jammy-security InRelease\n",
      "Hit:4 http://it.archive.ubuntu.com/ubuntu jammy-updates InRelease\n",
      "Hit:5 http://it.archive.ubuntu.com/ubuntu jammy-backports InRelease\n",
      "Reading package lists... Done\n",
      "W: http://ppa.launchpad.net/git-core/ppa/ubuntu/dists/jammy/InRelease: Key is stored in legacy trusted.gpg keyring (/etc/apt/trusted.gpg), see the DEPRECATION section in apt-key(8) for details.\n",
      "W: Target Packages (main/binary-amd64/Packages) is configured multiple times in /etc/apt/sources.list.d/git-core.list:1 and /etc/apt/sources.list.d/git-core.list:2\n",
      "W: Target Packages (main/binary-i386/Packages) is configured multiple times in /etc/apt/sources.list.d/git-core.list:1 and /etc/apt/sources.list.d/git-core.list:2\n",
      "W: Target Packages (main/binary-all/Packages) is configured multiple times in /etc/apt/sources.list.d/git-core.list:1 and /etc/apt/sources.list.d/git-core.list:2\n",
      "W: Target Translations (main/i18n/Translation-en_US) is configured multiple times in /etc/apt/sources.list.d/git-core.list:1 and /etc/apt/sources.list.d/git-core.list:2\n",
      "W: Target Translations (main/i18n/Translation-en) is configured multiple times in /etc/apt/sources.list.d/git-core.list:1 and /etc/apt/sources.list.d/git-core.list:2\n",
      "W: Target DEP-11 (main/dep11/Components-amd64.yml) is configured multiple times in /etc/apt/sources.list.d/git-core.list:1 and /etc/apt/sources.list.d/git-core.list:2\n",
      "W: Target DEP-11 (main/dep11/Components-all.yml) is configured multiple times in /etc/apt/sources.list.d/git-core.list:1 and /etc/apt/sources.list.d/git-core.list:2\n",
      "W: Target DEP-11-icons-small (main/dep11/icons-48x48.tar) is configured multiple times in /etc/apt/sources.list.d/git-core.list:1 and /etc/apt/sources.list.d/git-core.list:2\n",
      "W: Target DEP-11-icons (main/dep11/icons-64x64.tar) is configured multiple times in /etc/apt/sources.list.d/git-core.list:1 and /etc/apt/sources.list.d/git-core.list:2\n",
      "W: Target DEP-11-icons-hidpi (main/dep11/icons-64x64@2.tar) is configured multiple times in /etc/apt/sources.list.d/git-core.list:1 and /etc/apt/sources.list.d/git-core.list:2\n",
      "W: Target CNF (main/cnf/Commands-amd64) is configured multiple times in /etc/apt/sources.list.d/git-core.list:1 and /etc/apt/sources.list.d/git-core.list:2\n",
      "W: Target CNF (main/cnf/Commands-all) is configured multiple times in /etc/apt/sources.list.d/git-core.list:1 and /etc/apt/sources.list.d/git-core.list:2\n",
      "W: Target Packages (main/binary-amd64/Packages) is configured multiple times in /etc/apt/sources.list.d/git-core.list:1 and /etc/apt/sources.list.d/git-core.list:2\n",
      "W: Target Packages (main/binary-i386/Packages) is configured multiple times in /etc/apt/sources.list.d/git-core.list:1 and /etc/apt/sources.list.d/git-core.list:2\n",
      "W: Target Packages (main/binary-all/Packages) is configured multiple times in /etc/apt/sources.list.d/git-core.list:1 and /etc/apt/sources.list.d/git-core.list:2\n",
      "W: Target Translations (main/i18n/Translation-en_US) is configured multiple times in /etc/apt/sources.list.d/git-core.list:1 and /etc/apt/sources.list.d/git-core.list:2\n",
      "W: Target Translations (main/i18n/Translation-en) is configured multiple times in /etc/apt/sources.list.d/git-core.list:1 and /etc/apt/sources.list.d/git-core.list:2\n",
      "W: Target DEP-11 (main/dep11/Components-amd64.yml) is configured multiple times in /etc/apt/sources.list.d/git-core.list:1 and /etc/apt/sources.list.d/git-core.list:2\n",
      "W: Target DEP-11 (main/dep11/Components-all.yml) is configured multiple times in /etc/apt/sources.list.d/git-core.list:1 and /etc/apt/sources.list.d/git-core.list:2\n",
      "W: Target DEP-11-icons-small (main/dep11/icons-48x48.tar) is configured multiple times in /etc/apt/sources.list.d/git-core.list:1 and /etc/apt/sources.list.d/git-core.list:2\n",
      "W: Target DEP-11-icons (main/dep11/icons-64x64.tar) is configured multiple times in /etc/apt/sources.list.d/git-core.list:1 and /etc/apt/sources.list.d/git-core.list:2\n",
      "W: Target DEP-11-icons-hidpi (main/dep11/icons-64x64@2.tar) is configured multiple times in /etc/apt/sources.list.d/git-core.list:1 and /etc/apt/sources.list.d/git-core.list:2\n",
      "W: Target CNF (main/cnf/Commands-amd64) is configured multiple times in /etc/apt/sources.list.d/git-core.list:1 and /etc/apt/sources.list.d/git-core.list:2\n",
      "W: Target CNF (main/cnf/Commands-all) is configured multiple times in /etc/apt/sources.list.d/git-core.list:1 and /etc/apt/sources.list.d/git-core.list:2\n",
      "Reading package lists... Done\n",
      "Building dependency tree... Done\n",
      "Reading state information... Done\n",
      "build-essential is already the newest version (12.9ubuntu3).\n",
      "ca-certificates is already the newest version (20211016).\n",
      "gcc-multilib is already the newest version (4:11.2.0-1ubuntu1).\n",
      "wget is already the newest version (1.21.2-2ubuntu1).\n",
      "iverilog is already the newest version (11.0-1.1).\n",
      "verilator is already the newest version (4.038-1).\n",
      "git is already the newest version (1:2.37.3-0ppa1~ubuntu22.04.1).\n",
      "The following packages were automatically installed and are no longer required:\n",
      "  app-install-data-partner binutils-arm-linux-gnueabi\n",
      "  binutils-arm-linux-gnueabihf bsdmainutils cpp-11-arm-linux-gnueabi\n",
      "  cpp-11-arm-linux-gnueabihf cpp-9-arm-linux-gnueabi cpp-9-arm-linux-gnueabihf\n",
      "  cpp-arm-linux-gnueabi cpp-arm-linux-gnueabihf gcc-10-base:i386\n",
      "  gcc-10-cross-base gcc-11-arm-linux-gnueabi-base\n",
      "  gcc-11-arm-linux-gnueabihf-base gcc-11-cross-base gcc-12-cross-base\n",
      "  gcc-9-arm-linux-gnueabi-base gcc-9-arm-linux-gnueabihf-base gcc-9-cross-base\n",
      "  genisoimage gir1.2-clutter-1.0 gir1.2-clutter-gst-3.0 gir1.2-cogl-1.0\n",
      "  gir1.2-coglpango-1.0 gir1.2-gnomebluetooth-1.0 gir1.2-gst-plugins-base-1.0\n",
      "  gir1.2-gtkclutter-1.0 gnome-getting-started-docs gnome-screenshot\n",
      "  i965-va-driver:i386 intel-media-va-driver:i386 ippusbxd libamtk-5-0\n",
      "  libamtk-5-common libaom0 libaom0:i386 libaom3:i386 libasan5-armel-cross\n",
      "  libasan5-armhf-cross libasan6-armhf-cross libasn1-8-heimdal\n",
      "  libasn1-8-heimdal:i386 libatomic1-armel-cross libatomic1-armhf-cross\n",
      "  libavcodec58:i386 libavutil56:i386 libboost-atomic1.71.0\n",
      "  libboost-chrono1.71.0 libboost-container1.71.0 libboost-context1.71.0\n",
      "  libboost-coroutine1.71.0 libboost-date-time1.71.0 libboost-fiber1.71.0\n",
      "  libboost-filesystem1.71.0 libboost-graph-parallel1.71.0 libboost-graph1.71.0\n",
      "  libboost-iostreams1.71.0 libboost-locale1.71.0 libboost-log1.71.0\n",
      "  libboost-math1.71.0 libboost-mpi1.71.0 libboost-numpy1.71.0\n",
      "  libboost-program-options1.71.0 libboost-python1.71.0 libboost-random1.71.0\n",
      "  libboost-regex1.71.0 libboost-serialization1.71.0 libboost-stacktrace1.71.0\n",
      "  libboost-system1.71.0 libboost-test1.71.0 libboost-thread1.71.0\n",
      "  libboost-timer1.71.0 libboost-type-erasure1.71.0 libboost-wave1.71.0\n",
      "  libbrlapi0.7 libc6-armel-cross libc6-armhf-cross libc6-dev-armhf-cross\n",
      "  libcamel-1.2-62 libcbor0.6 libcdio18 libcodec2-0.9 libcodec2-0.9:i386\n",
      "  libcodec2-1.0:i386 libcurl3-gnutls:i386 libdav1d5:i386 libdns-export1109\n",
      "  libdrm-intel1:i386 libdvdnav4 libdvdread7 libedataserver-1.2-24\n",
      "  libedataserverui-1.2-2 libegl-dev libextutils-pkgconfig-perl libffi7:i386\n",
      "  libfftw3-double3 libfuse2 libfwupdplugin1 libgcc-11-dev-armhf-cross\n",
      "  libgcc-9-dev-armel-cross libgcc-9-dev-armhf-cross libgcc-s1-armel-cross\n",
      "  libgcc-s1-armhf-cross libgdbm-compat4:i386 libgdbm6:i386\n",
      "  libgdk-pixbuf-xlib-2.0-0 libgdk-pixbuf-xlib-2.0-0:i386 libgdk-pixbuf2.0-0\n",
      "  libgdk-pixbuf2.0-0:i386 libgl1-mesa-dev libgles-dev libgles1\n",
      "  libglu1-mesa:i386 libglvnd-core-dev libglvnd-dev libgomp1:i386\n",
      "  libgomp1-armel-cross libgomp1-armhf-cross libgraphblas3 libgssapi3-heimdal\n",
      "  libgssapi3-heimdal:i386 libgupnp-1.2-0 libhandy-0.0-0 libhcrypto4-heimdal\n",
      "  libhcrypto4-heimdal:i386 libheimbase1-heimdal libheimbase1-heimdal:i386\n",
      "  libheimntlm0-heimdal libheimntlm0-heimdal:i386 libhogweed5 libhogweed5:i386\n",
      "  libhx509-5-heimdal libhx509-5-heimdal:i386 libicu66 libicu66:i386 libidn11\n",
      "  libieee1284-3:i386 libigdgmm11 libigdgmm11:i386 libigdgmm12:i386 libjson-c4\n",
      "  libkrb5-26-heimdal libkrb5-26-heimdal:i386 libldap-2.4-2 libldap-2.4-2:i386\n",
      "  libllvm12:i386 libmozjs-68-0 libmpdec2 libmysqlclient21\n",
      "  libmysqlclient21:i386 libnettle7 libnettle7:i386 libnspr4:i386 libnss3:i386\n",
      "  libntfs-3g883 libnuma1:i386 libodbc1:i386 libodbccr2:i386 libomp-12-dev\n",
      "  libomp5-12 libopengl-dev libopengl0:i386 libopenjp2-7:i386 libpci3:i386\n",
      "  libpciaccess0:i386 libpcre2-posix2 libperl5.34:i386 libpgm-5.2-0\n",
      "  libphonenumber7 libpoppler-glib8:i386 libpoppler118:i386 libpoppler97\n",
      "  libprotobuf17 libpython3.8 libpython3.8-dev libpython3.8-minimal\n",
      "  libpython3.8-stdlib libqpdf26 libroken18-heimdal libroken18-heimdal:i386\n",
      "  libsane libsane:i386 libsane1:i386 libshine3:i386 libsnappy1v5:i386\n",
      "  libsnmp40:i386 libsoxr0:i386 libssl1.1:i386 libstdc++6-armel-cross\n",
      "  libstdc++6-armhf-cross libswresample3:i386 libtepl-4-0\n",
      "  libtracker-control-2.0-0 libtracker-miner-2.0-0 libtracker-sparql-2.0-0\n",
      "  libubsan1-armel-cross libubsan1-armhf-cross libunwind-12 libva-drm2:i386\n",
      "  libva-x11-2:i386 libva2:i386 libvdpau1:i386 libvpx6 libvpx6:i386 libwebp6\n",
      "  libwebp6:i386 libwebpmux3:i386 libwind0-heimdal libwind0-heimdal:i386\n",
      "  libwmf0.2-7 libwrap0:i386 libx264-155 libx264-155:i386 libx264-163:i386\n",
      "  libx265-179 libx265-179:i386 libx265-199:i386 libxmlb1 libxvidcore4:i386\n",
      "  libzvbi0:i386 linux-headers-generic-hwe-20.04 linux-image-generic-hwe-20.04\n",
      "  linux-libc-dev-armhf-cross llvm-10-runtime llvm-12-runtime ltrace lz4\n",
      "  mesa-va-drivers:i386 mesa-vdpau-drivers:i386 mysql-common ncal\n",
      "  popularity-contest python3-requests-unixsocket python3-simplejson python3.8\n",
      "  python3.8-dev python3.8-minimal ruby-connection-pool ruby-molinillo\n",
      "  ruby-net-http-persistent ruby-thor ruby2.7 va-driver-all:i386\n",
      "  vdpau-driver-all:i386 x11proto-xext-dev xul-ext-ubufox\n",
      "Use 'sudo apt autoremove' to remove them.\n"
     ]
    },
    {
     "name": "stdout",
     "output_type": "stream",
     "text": [
      "0 upgraded, 0 newly installed, 0 to remove and 12 not upgraded.\n",
      "--2022-08-31 22:01:50--  https://release.bambuhls.eu/appimage/bambu-fpl22.AppImage\n",
      "Resolving release.bambuhls.eu (release.bambuhls.eu)... 131.175.120.155\n",
      "Connecting to release.bambuhls.eu (release.bambuhls.eu)|131.175.120.155|:443... connected.\n",
      "HTTP request sent, awaiting response... 200 OK\n",
      "Length: 1226536128 (1,1G) [application/octet-stream]\n",
      "Saving to: ‘bambu-fpl22.AppImage.2’\n",
      "\n",
      "bambu-fpl22.AppImag 100%[===================>]   1,14G  7,56MB/s    in 2m 36s  \n",
      "\n",
      "2022-08-31 22:04:26 (7,48 MB/s) - ‘bambu-fpl22.AppImage.2’ saved [1226536128/1226536128]\n",
      "\n",
      "fatal: destination path 'PandA-bambu' already exists and is not an empty directory.\n",
      "/home/claudio/Desktop/panda/PandA-bambu/documentation/tutorial_fpl_2022/PandA-bambu\n",
      "/home/claudio/Desktop/panda/PandA-bambu/documentation/tutorial_fpl_2022\n",
      "mv: cannot stat 'PandA-bambu/documentation/tutorial_fpl_2022/': No such file or directory\n"
     ]
    }
   ],
   "source": [
    "!echo \"deb http://ppa.launchpad.net/git-core/ppa/ubuntu $(cat /etc/os-release | grep UBUNTU_CODENAME | sed 's/.*=//g') main\" >> /etc/apt/sources.list.d/git-core.list\n",
    "!apt-key adv --keyserver keyserver.ubuntu.com --recv-keys A1715D88E1DF1F24\n",
    "!apt-get update\n",
    "!apt-get install -y --no-install-recommends build-essential ca-certificates gcc-multilib git iverilog verilator wget\n",
    "!wget https://release.bambuhls.eu/appimage/bambu-fpl22.AppImage\n",
    "!chmod +x bambu-*.AppImage\n",
    "!ln -sf $PWD/bambu-*.AppImage /bin/bambu\n",
    "!ln -sf $PWD/bambu-*.AppImage /bin/spider\n",
    "!ln -sf $PWD/bambu-*.AppImage /bin/tree-panda-gcc\n",
    "!ln -sf $PWD/bambu-*.AppImage /bin/clang-12\n",
    "!git clone --depth 1 --filter=blob:none --sparse https://github.com/ferrandi/PandA-bambu.git --branch doc/fpl22\n",
    "%cd PandA-bambu\n",
    "!git sparse-checkout set documentation/tutorial_fpl_2022 \n",
    "%cd ..\n",
    "!mv PandA-bambu/documentation/tutorial_fpl_2022/ bambu-tutorial"
   ]
  },
  {
   "cell_type": "markdown",
   "metadata": {
    "id": ""
   },
   "source": [
    "# **Productive HLS with Bambu**\n"
   ]
  },
  {
   "cell_type": "markdown",
   "metadata": {
    "id": ""
   },
   "source": [
    "## **Exercise 1**\n",
    "\n",
    "Have a look at the C code in /content/bambu-tutorial/01-introduction/Exercise1/icrc.c\n",
    "\n",
    "Launch bambu:"
   ]
  },
  {
   "cell_type": "code",
   "execution_count": 2,
   "metadata": {
    "id": ""
   },
   "outputs": [
    {
     "name": "stdout",
     "output_type": "stream",
     "text": [
      "[Errno 2] No such file or directory: '/content/bambu-tutorial/01-introduction/Exercise1'\n",
      "/home/claudio/Desktop/panda/PandA-bambu/documentation/tutorial_fpl_2022\n",
      " ==  Bambu executed with: /tmp/.mount_bambuhy25ke/usr/bin/bambu --top-fname=icrc1 icrc.c \n",
      "\n",
      "\n",
      "********************************************************************************\n",
      "                    ____                  _\n",
      "                   | __ )  __ _ _ __ ___ | |_   _   _\n",
      "                   |  _ \\ / _` | '_ ` _ \\| '_ \\| | | |\n",
      "                   | |_) | (_| | | | | | | |_) | |_| |\n",
      "                   |____/ \\__,_|_| |_| |_|_.__/ \\__,_|\n",
      "\n",
      "********************************************************************************\n",
      "                         High-Level Synthesis Tool\n",
      "\n",
      "                         Politecnico di Milano - DEIB\n",
      "                          System Architectures Group\n",
      "********************************************************************************\n",
      "                Copyright (C) 2004-2022 Politecnico di Milano\n",
      "Version: PandA 0.9.8 - Revision 136523957d7935c4772f8e5a9199602f1f172eff-dev/panda\n",
      "\n",
      "Target technology = FPGA\n",
      "Error in compilation\n",
      "clang-12: error: no such file or directory: '/home/claudio/Desktop/panda/PandA-bambu/documentation/tutorial_fpl_2022/icrc.c'\n",
      "clang-12: error: no input files\n",
      "error -> Front-end compiler returns an error during compilation 2\n",
      "\n"
     ]
    }
   ],
   "source": [
    "%cd /content/bambu-tutorial/01-introduction/Exercise1\n",
    "!bambu icrc.c --top-fname=icrc1"
   ]
  },
  {
   "cell_type": "markdown",
   "metadata": {
    "id": ""
   },
   "source": [
    "Inspect the generated Verilog file in the explorer tab on the left (icrc1.v)\n"
   ]
  },
  {
   "cell_type": "markdown",
   "metadata": {
    "id": ""
   },
   "source": [
    "Take a brief look at the available Bambu options:\n"
   ]
  },
  {
   "cell_type": "code",
   "execution_count": 3,
   "metadata": {
    "id": ""
   },
   "outputs": [
    {
     "name": "stdout",
     "output_type": "stream",
     "text": [
      "\r\n",
      "********************************************************************************\r\n",
      "                    ____                  _\r\n",
      "                   | __ )  __ _ _ __ ___ | |_   _   _\r\n",
      "                   |  _ \\ / _` | '_ ` _ \\| '_ \\| | | |\r\n",
      "                   | |_) | (_| | | | | | | |_) | |_| |\r\n",
      "                   |____/ \\__,_|_| |_| |_|_.__/ \\__,_|\r\n",
      "\r\n",
      "********************************************************************************\r\n",
      "                         High-Level Synthesis Tool\r\n",
      "\r\n",
      "                         Politecnico di Milano - DEIB\r\n",
      "                          System Architectures Group\r\n",
      "********************************************************************************\r\n",
      "                Copyright (C) 2004-2022 Politecnico di Milano\r\n",
      "Version: PandA 0.9.8 - Revision 136523957d7935c4772f8e5a9199602f1f172eff-dev/panda\r\n",
      "\r\n",
      "Usage:\r\n",
      "       bambu [Options] <source_file> [<constraints_file>] [<technology_file>]\r\n",
      "\r\n",
      "Options:\r\n",
      "\r\n",
      "  General options:\r\n",
      "\r\n",
      "    --help, -h\r\n",
      "        Display this usage information.\r\n",
      "\r\n",
      "    --version, -V\r\n",
      "        Display the version of the program.\r\n",
      "\r\n",
      "\r\n",
      "  Output options:\r\n",
      "\r\n",
      "    --verbosity, -v <level>\r\n",
      "        Set the output verbosity level\r\n",
      "        Possible values for <level>:\r\n",
      "            0 - NONE\r\n",
      "            1 - MINIMUM\r\n",
      "            2 - VERBOSE\r\n",
      "            3 - PEDANTIC\r\n",
      "            4 - VERY PEDANTIC\r\n",
      "        (default = 1)\r\n",
      "\r\n",
      "    --no-clean\r\n",
      "        Do not remove temporary files.\r\n",
      "\r\n",
      "    --benchmark-name=<name>\r\n",
      "        Set the name of the current benchmark for data collection.\r\n",
      "        Mainly useful for data collection from extensive regression tests.\r\n",
      "\r\n",
      "    --configuration-name=<name>\r\n",
      "        Set the name of the current tool configuration for data collection.\r\n",
      "        Mainly useful for data collection from extensive regression tests.\r\n",
      "\r\n",
      "    --benchmark-fake-parameters\r\n",
      "        Set the parameters string for data collection. The parameters in the\r\n",
      "        string are not actually used, but they are used for data collection in\r\n",
      "        extensive regression tests.\r\n",
      "\r\n",
      "    --output-temporary-directory=<path>\r\n",
      "        Set the directory where temporary files are saved.\r\n",
      "        Default is 'panda-temp'\r\n",
      "\r\n",
      "    --print-dot\r\n",
      "        Dump to file several different graphs used in the IR of the tool.\r\n",
      "        The graphs are saved in .dot files, in graphviz format\r\n",
      "\r\n",
      "    --pretty-print=<file>\r\n",
      "        C-based pretty print of the internal IRx\r\n",
      "\r\n",
      "    --writer,-w<language>\r\n",
      "        Output RTL language:\r\n",
      "            V - Verilog (default)\r\n",
      "            H - VHDL\r\n",
      "\r\n",
      "    --no-mixed-design\r\n",
      "        Avoid mixed design.\r\n",
      "\r\n",
      "    --generate-tb=<file>\r\n",
      "        Generate testbench for the input values defined in the specified XML\r\n",
      "        file.\r\n",
      "\r\n",
      "    --top-fname=<fun_name>\r\n",
      "        Define the top function to be synthesized. (default=main)\r\n",
      "\r\n",
      "    --top-rtldesign-name=<top_name>\r\n",
      "        Define the top module name for the RTL backend.\r\n",
      "\r\n",
      "    --inline-fname=<fun_name>[,<fun_name>]*\r\n",
      "        Define functions to be always inlined.\r\n",
      "        Automatic inlining is always performed using internal metrics.\r\n",
      "        Maximum cost to allow function inlining is defined through\r\n",
      "        --panda-parameter=inline-max-cost=<value>. (default=65)\r\n",
      "\r\n",
      "    --file-input-data=<file_list>\r\n",
      "        A comma-separated list of input files used by the C specification.\r\n",
      "\r\n",
      "    --C-no-parse=<file>\r\n",
      "        Specify a comma-separated list of C files used only during the\r\n",
      "        co-simulation phase.\r\n",
      "\r\n",
      "\r\n",
      "  GCC/CLANG front-end compiler options:\r\n",
      "\r\n",
      "    --compiler=<compiler_version>\r\n",
      "        Specify which compiler is used.\r\n",
      "        Possible values for <compiler_version> are:\r\n",
      "            I386_GCC49\r\n",
      "            I386_GCC7\r\n",
      "            I386_CLANG6\r\n",
      "            I386_CLANG12\r\n",
      "\r\n",
      "    -O<level>\r\n",
      "        Enable a specific optimization level. Possible values are the usual\r\n",
      "        optimization flags accepted by compilers, plus some others:\r\n",
      "        -O0,-O1,-O2,-O3,-Os,-O4,-O5.\r\n",
      "\r\n",
      "    -f<option>\r\n",
      "        Enable or disable a GCC/CLANG optimization option. All the -f or -fno options\r\n",
      "        are supported. In particular, -ftree-vectorize option triggers the\r\n",
      "        high-level synthesis of vectorized operations.\r\n",
      "\r\n",
      "    -I<path>\r\n",
      "        Specify a path where headers are searched for.\r\n",
      "\r\n",
      "    -W<warning>\r\n",
      "        Specify a warning option passed to GCC/CLANG. All the -W options available in\r\n",
      "        GCC/CLANG are supported.\r\n",
      "\r\n",
      "    -E\r\n",
      "        Enable preprocessing mode of GCC/CLANG.\r\n",
      "\r\n",
      "    --std=<standard>\r\n",
      "        Assume that the input sources are for <standard>. All\r\n",
      "        the --std options available in GCC/CLANG are supported.\r\n",
      "\r\n",
      "    -D<name>\r\n",
      "        Predefine name as a macro, with definition 1.\r\n",
      "\r\n",
      "    -D<name=definition>\r\n",
      "        Tokenize <definition> and process as if it appeared as a #define directive.\r\n",
      "\r\n",
      "    -U<name>\r\n",
      "        Remove existing definition for macro <name>.\r\n",
      "\r\n",
      "    --param <name>=<value>\r\n",
      "        Set the amount <value> for the GCC/CLANG parameter <name> that could be used for\r\n",
      "        some optimizations.\r\n",
      "\r\n",
      "    -l<library>\r\n",
      "        Search the library named <library> when linking.\r\n",
      "\r\n",
      "    -L<dir>\r\n",
      "        Add directory <dir> to the list of directories to be searched for -l.\r\n",
      "\r\n",
      "    --use-raw\r\n",
      "        Specify that input file is already a raw file and not a source file.\r\n",
      "\r\n",
      "    -m<machine-option>\r\n",
      "        Specify machine dependend options (currently not used).\r\n",
      "\r\n",
      "    --Include-sysdir\r\n",
      "        Return the system include directory used by the wrapped GCC/CLANG compiler.\r\n",
      "\r\n",
      "    --gcc-config\r\n",
      "        Return the GCC/CLANG configuration.\r\n",
      "\r\n",
      "    --extra-gcc-options\r\n",
      "        Specify custom extra options to the compiler.\r\n",
      "\r\n",
      "\r\n",
      "  Target:\r\n",
      "\r\n",
      "    --target-file=file, -b<file>\r\n",
      "        Specify an XML description of the target device.\r\n",
      "\r\n",
      "    --generate-interface=<type>\r\n",
      "        Wrap the top level module with an external interface.\r\n",
      "        Possible values for <type> and related interfaces:\r\n",
      "            MINIMAL  -  minimal interface (default)\r\n",
      "            INFER    -  top function is built with an hardware interface inferred from\r\n",
      "                        the pragmas or from the top function signature\r\n",
      "            WB4      -  WishBone 4 interface\r\n",
      "\r\n",
      "    --interface-xml-filename=<filename>\r\n",
      "        User defined interface file.\r\n",
      "\r\n",
      "\r\n",
      "  Scheduling:\r\n",
      "\r\n",
      "    --parametric-list-based[=<type>]\r\n",
      "        Perform priority list-based scheduling. This is the default scheduling algorithm\r\n",
      "        in bambu. The optional <type> argument can be used to set options for\r\n",
      "        list-based scheduling as follows:\r\n",
      "            0 - Dynamic mobility (default)\r\n",
      "            1 - Static mobility\r\n",
      "            2 - Priority-fixed mobility\r\n",
      "\r\n",
      "    --post-rescheduling\r\n",
      "        Perform post rescheduling to better distribute resources.\r\n",
      "\r\n",
      "    --speculative-sdc-scheduling,-s\r\n",
      "        Perform scheduling by using speculative SDC.\r\n",
      "        The speculative SDC is more conservative, in case \r\n",
      "        --panda-parameter=enable-conservative-sdc=1 is passed.\r\n",
      "\r\n",
      "    --pipelining,-p\r\n",
      "        Perform functional pipelining starting from the top function.\r\n",
      "\r\n",
      "    --pipelining,-p=<func_name>[=<init_interval>][,<func_name>[=<init_interval>]]*\r\n",
      "        Perform pipelining of comma separated list of specified functions with optional \r\n",
      "        initiation interval (default II=1).\r\n",
      "        To pipeline softfloat operators it is possible to specify the __float_<op_name> prefix \r\n",
      "        or simply __float to pipeline all softfloat library.\r\n",
      "\r\n",
      "    --fixed-scheduling=<file>\r\n",
      "        Provide scheduling as an XML file.\r\n",
      "\r\n",
      "    --no-chaining\r\n",
      "        Disable chaining optimization.\r\n",
      "\r\n",
      "\r\n",
      "  Binding:\r\n",
      "\r\n",
      "    --register-allocation=<type>\r\n",
      "        Set the algorithm used for register allocation. Possible values for the\r\n",
      "        <type> argument are the following:\r\n",
      "            WEIGHTED_TS         - use weighted clique covering algorithm by\r\n",
      "                                  exploiting the Tseng&Siewiorek heuristics\r\n",
      "                                  (default)\r\n",
      "            COLORING            - use simple coloring algorithm\r\n",
      "            WEIGHTED_COLORING   - use weighted coloring algorithm\r\n",
      "            CHORDAL_COLORING    - use chordal coloring algorithm\r\n",
      "            BIPARTITE_MATCHING  - use bipartite matching algorithm\r\n",
      "            TTT_CLIQUE_COVERING - use a weighted clique covering algorithm\r\n",
      "            UNIQUE_BINDING      - unique binding algorithm\r\n",
      "\r\n",
      "    --module-binding=<type>\r\n",
      "        Set the algorithm used for module binding. Possible values for the\r\n",
      "        <type> argument are one the following:\r\n",
      "            WEIGHTED_TS        - solve the weighted clique covering problem by\r\n",
      "                                 exploiting the Tseng&Siewiorek heuristics\r\n",
      "                                 (default)\r\n",
      "            WEIGHTED_COLORING  - solve the weighted clique covering problem\r\n",
      "                                 performing a coloring on the conflict graph\r\n",
      "            COLORING           - solve the unweighted clique covering problem\r\n",
      "                                 performing a coloring on the conflict graph\r\n",
      "            TTT_FAST           - use Tomita, A. Tanaka, H. Takahashi maxima\r\n",
      "                                 weighted cliques heuristic to solve the clique\r\n",
      "                                 covering problem\r\n",
      "            TTT_FAST2          - use Tomita, A. Tanaka, H. Takahashi maximal\r\n",
      "                                 weighted cliques heuristic to incrementally\r\n",
      "                                 solve the clique covering problem\r\n",
      "            TTT_FULL           - use Tomita, A. Tanaka, H. Takahashi maximal\r\n",
      "                                 weighted cliques algorithm to solve the clique\r\n",
      "                                 covering problem\r\n",
      "            TTT_FULL2          - use Tomita, A. Tanaka, H. Takahashi maximal\r\n",
      "                                 weighted cliques algorithm to incrementally\r\n",
      "                                 solve the clique covering problem\r\n",
      "            TS                 - solve the unweighted clique covering problem\r\n",
      "                                 by exploiting the Tseng&Siewiorek heuristic\r\n",
      "            BIPARTITE_MATCHING - solve the weighted clique covering problem\r\n",
      "                                 exploiting the bipartite matching approach\r\n",
      "            UNIQUE             - use a 1-to-1 binding algorithm\r\n",
      "\r\n",
      "\r\n",
      "    --shared-input-registers\r\n",
      "        The module bindings and the register binding try to share more resources by \r\n",
      "        sharing the input registers\r\n",
      "\r\n",
      "\r\n",
      "  Memory allocation:\r\n",
      "\r\n",
      "    --xml-memory-allocation=<xml_file_name>\r\n",
      "        Specify the file where the XML configuration has been defined.\r\n",
      "\r\n",
      "    --memory-allocation-policy=<type>\r\n",
      "        Set the policy for memory allocation. Possible values for the <type>\r\n",
      "        argument are the following:\r\n",
      "            ALL_BRAM           - all objects that need to be stored in memory\r\n",
      "                                 are allocated on BRAMs (default)\r\n",
      "            LSS                - all local variables, static variables and\r\n",
      "                                 strings are allocated on BRAMs\r\n",
      "            GSS                - all global variables, static variables and\r\n",
      "                                 strings are allocated on BRAMs\r\n",
      "            NO_BRAM            - all objects that need to be stored in memory\r\n",
      "                                 are allocated on an external memory\r\n",
      "            EXT_PIPELINED_BRAM - all objects that need to be stored in memory\r\n",
      "                                 are allocated on an external pipelined memory\r\n",
      "\r\n",
      "   --base-address=address\r\n",
      "        Define the starting address for objects allocated externally to the top\r\n",
      "        module.\r\n",
      "\r\n",
      "   --initial-internal-address=address\r\n",
      "        Define the starting address for the objects allocated internally to the\r\n",
      "        top module.\r\n",
      "\r\n",
      "   --channels-type=<type>\r\n",
      "        Set the type of memory connections.\r\n",
      "        Possible values for <type> are:\r\n",
      "            MEM_ACC_11 - the accesses to the memory have a single direct\r\n",
      "                         connection or a single indirect connection (default)\r\n",
      "            MEM_ACC_N1 - the accesses to the memory have n parallel direct\r\n",
      "                         connections or a single indirect connection\r\n",
      "            MEM_ACC_NN - the accesses to the memory have n parallel direct\r\n",
      "                         connections or n parallel indirect connections\r\n",
      "\r\n",
      "   --channels-number=<n>\r\n",
      "        Define the number of parallel direct or indirect accesses.\r\n",
      "\r\n",
      "   --memory-ctrl-type=type\r\n",
      "        Define which type of memory controller is used. Possible values for the\r\n",
      "        <type> argument are the following:\r\n",
      "            D00 - no extra delay (default)\r\n",
      "            D10 - 1 clock cycle extra-delay for LOAD, 0 for STORE\r\n",
      "            D11 - 1 clock cycle extra-delay for LOAD, 1 for STORE\r\n",
      "            D21 - 2 clock cycle extra-delay for LOAD, 1 for STORE\r\n",
      "\r\n",
      "    --memory-banks-number=<n>\r\n",
      "        Define the number of memory banks.\r\n",
      "\r\n",
      "    --sparse-memory[=on/off]\r\n",
      "        Control how the memory allocation happens.\r\n",
      "            on - allocate the data in addresses which reduce the decoding logic (default)\r\n",
      "           off - allocate the data in a contiguous addresses.\r\n",
      "\r\n",
      "    --do-not-use-asynchronous-memories\r\n",
      "        Do not add asynchronous memories to the possible set of memories used\r\n",
      "        by bambu during the memory allocation step.\r\n",
      "\r\n",
      "    --distram-threshold=value\r\n",
      "        Define the threshold in bitsize used to infer DISTRIBUTED/ASYNCHRONOUS RAMs (default 256).\r\n",
      "\r\n",
      "    --serialize-memory-accesses\r\n",
      "        Serialize the memory accesses using the GCC virtual use-def chains\r\n",
      "        without taking into account any alias analysis information.\r\n",
      "\r\n",
      "    --unaligned-access\r\n",
      "        Use only memories supporting unaligned accesses.\r\n",
      "\r\n",
      "    --aligned-access\r\n",
      "        Assume that all accesses are aligned and so only memories supporting aligned\r\n",
      "\r\n",
      "        accesses are used.\r\n",
      "\r\n",
      "    --do-not-chain-memories\r\n",
      "        When enabled LOADs and STOREs will not be chained with other\r\n",
      "        operations.\r\n",
      "\r\n",
      "    --rom-duplication\r\n",
      "        Assume that read-only memories can be duplicated in case timing requires.\r\n",
      "\r\n",
      "    --bram-high-latency=[3,4]\r\n",
      "        Assume a 'high latency bram'-'faster clock frequency' block RAM memory\r\n",
      "        based architectures:\r\n",
      "        3 => LOAD(II=1,L=3) STORE(1).\r\n",
      "        4 => LOAD(II=1,L=4) STORE(II=1,L=2).\r\n",
      "\r\n",
      "    --mem-delay-read=value\r\n",
      "        Define the external memory latency when LOAD are performed (default 2).\r\n",
      "\r\n",
      "    --mem-delay-write=value\r\n",
      "        Define the external memory latency when STORE are performed (default 1).\r\n",
      "\r\n",
      "    --expose-globals\r\n",
      "        All global variables can be accessed from outside the accelerator.\r\n",
      "\r\n",
      "    --data-bus-bitsize=<bitsize>\r\n",
      "        Set the bitsize of the external data bus.\r\n",
      "\r\n",
      "    --addr-bus-bitsize=<bitsize>\r\n",
      "        Set the bitsize of the external address bus.\r\n",
      "\r\n",
      "\r\n",
      "  Evaluation of HLS results:\r\n",
      "\r\n",
      "    --simulate\r\n",
      "        Simulate the RTL implementation.\r\n",
      "\r\n",
      "    --simulator=<type>\r\n",
      "        Specify the simulator used in generated simulation scripts:\r\n",
      "            MODELSIM - Mentor Modelsim\r\n",
      "            XSIM - Xilinx XSim\r\n",
      "            ISIM - Xilinx iSim\r\n",
      "            ICARUS - Verilog Icarus simulator\r\n",
      "            VERILATOR - Verilator simulator\r\n",
      "\r\n",
      "    --verilator-parallel\r\n",
      "        Enable multi-threaded simulation when using verilator\r\n",
      "\r\n",
      "    --max-sim-cycles=<cycles>\r\n",
      "        Specify the maximum number of cycles a HDL simulation may run.\r\n",
      "        (default 20000000).\r\n",
      "\r\n",
      "    --accept-nonzero-return\r\n",
      "        Do not assume that application main must return 0.\r\n",
      "\r\n",
      "    --generate-vcd\r\n",
      "        Enable .vcd output file generation for waveform visualization (requires\r\n",
      "        testbench generation).\r\n",
      "\r\n",
      "    --evaluation[=type]\r\n",
      "        Perform evaluation of the results.\r\n",
      "        The value of 'type' selects the objectives to be evaluated\r\n",
      "        If nothing is specified all the following are evaluated\r\n",
      "        The 'type' argument can be a string containing any of the following\r\n",
      "        strings, separated with commas, without spaces:\r\n",
      "            AREA            - Area usage\r\n",
      "            AREAxTIME       - Area x Latency product\r\n",
      "            TIME            - Latency for the average computation\r\n",
      "            TOTAL_TIME      - Latency for the whole computation\r\n",
      "            CYCLES          - n. of cycles for the average computation\r\n",
      "            TOTAL_CYCLES    - n. of cycles for the whole computation\r\n",
      "            BRAMS           - number of BRAMs\r\n",
      "            CLOCK_SLACK     - Slack between actual and required clock period\r\n",
      "            DSPS            - number of DSPs\r\n",
      "            FREQUENCY       - Maximum target frequency\r\n",
      "            PERIOD          - Actual clock period\r\n",
      "            REGISTERS       - number of registers\r\n",
      "\r\n",
      "\r\n",
      "  RTL synthesis:\r\n",
      "\r\n",
      "    --clock-name=id\r\n",
      "        Specify the clock signal name of the top interface (default = clock).\r\n",
      "\r\n",
      "    --reset-name=id\r\n",
      "        Specify the reset signal name of the top interface (default = reset).\r\n",
      "\r\n",
      "    --start-name=id\r\n",
      "        Specify the start signal name of the top interface (default = start_port).\r\n",
      "\r\n",
      "    --done-name=id\r\n",
      "        Specify the done signal name of the top interface (default = done_port).\r\n",
      "\r\n",
      "    --clock-period=value\r\n",
      "        Specify the period of the clock signal (default = 10ns).\r\n",
      "\r\n",
      "    --backend-script-extensions=file\r\n",
      "        Specify a file that will be included in the backend specific synthesis\r\n",
      "        scripts.\r\n",
      "\r\n",
      "    --backend-sdc-extensions=file\r\n",
      "        Specify a file that will be included in the Synopsys Design Constraints\r\n",
      "        file (SDC).\r\n",
      "\r\n",
      "   --parallel-backend\r\n",
      "        when possible enable a parallel synthesis backend\r\n",
      "    --VHDL-library=libraryname\r\n",
      "        Specify the library in which the VHDL generated files are compiled.\r\n",
      "\r\n",
      "    --device-name=value\r\n",
      "        Specify the name of the device. Three different cases are foreseen:\r\n",
      "            - Xilinx:  a comma separated string specifying device, speed grade\r\n",
      "                       and package (e.g.,: \"xc7z020,-1,clg484,VVD\")\r\n",
      "            - Altera:  a string defining the device string (e.g. EP2C70F896C6)\r\n",
      "            - Lattice: a string defining the device string (e.g.\r\n",
      "                       LFE5U85F8BG756C)\r\n",
      "\r\n",
      "    --power-optimization\r\n",
      "        Enable Xilinx power based optimization (default no).\r\n",
      "\r\n",
      "    --no-iob\r\n",
      "        Disconnect primary ports from the IOB (the default is to connect\r\n",
      "        primary input and outpur ports to IOBs).\r\n",
      "\r\n",
      "    --soft-float (default)\r\n",
      "        Enable the soft-based implementation of floating-point operations.\r\n",
      "        Bambu uses as default a faithfully rounded version of softfloat with rounding mode\r\n",
      "        equal to round to nearest even. Subnormal numbers are disabled by default.\r\n",
      "        Default FP formats are e8m23b-127nih and e11m52b-1023nih for single and double \r\n",
      "        precision floating-point types respectively.\r\n",
      "\r\n",
      "    --flopoco\r\n",
      "        Enable the flopoco-based implementation of floating-point operations.\r\n",
      "\r\n",
      "    --libm-std-rounding\r\n",
      "        Enable the use of classical libm. This library combines a customized version of \r\n",
      "        glibc, newlib and musl libm implementations into a single libm library synthetizable\r\n",
      "        with bambu.\r\n",
      "        Without this option, Bambu uses as default a faithfully rounded version of libm.\r\n",
      "\r\n",
      "    --soft-fp\r\n",
      "        Enable the use of soft_fp GCC library instead of bambu customized version of softfloat library.\r\n",
      "\r\n",
      "    --max-ulp\r\n",
      "        Define the maximal ULP (Unit in the last place, i.e., is the spacing\r\n",
      "        between floating-point numbers) accepted.\r\n",
      "\r\n",
      "    --fp-subnormal\r\n",
      "        Enable the soft-based implementation of floating-point operations with\r\n",
      "        subnormals support.\r\n",
      "\r\n",
      "    --fp-exception-mode=<ieee|saturation|overflow>\r\n",
      "        Set the soft-based exception handling mode:\r\n",
      "              ieee    - IEEE754 standard exceptions (default)\r\n",
      "           saturation - Inf is replaced with max value, Nan becomes undefined behaviour\r\n",
      "            overflow  - Inf and Nan results in undefined behaviour\r\n",
      "\r\n",
      "    --fp-rounding-mode=<nearest_even|truncate>\r\n",
      "        Set the soft-based rounding handling mode:\r\n",
      "           nearest_even - IEEE754 standard rounding mode (default)\r\n",
      "              truncate  - No rounding is applied\r\n",
      "\r\n",
      "    --fp-format=<func_name>*e<exp_bits>m<frac_bits>b<exp_bias><rnd_mode><exc_mode><?spec><?sign>\r\n",
      "        Define arbitrary precision floating-point format by function (use comma separated\r\n",
      "        list for multiple definitions). (i.e.: e8m27b-127nihs represent IEEE754 single precision FP)\r\n",
      "           func_name - Set arbitrary floating-point format for a specific function (using\r\n",
      "                       @ symbol here will resolve to the top function)\r\n",
      "                       (Arbitrary floating-point format will apply to specified function\r\n",
      "                       only, use --propagate-fp-format to extend it to called functions)\r\n",
      "            exp_bits - Number of bits used by the exponent\r\n",
      "           frac_bits - Number of bits used by the fractional value\r\n",
      "            exp_bias - Bias applied to the unsigned value represented by the exponent bits\r\n",
      "            rnd_mode - Rounding mode (exclusive option):\r\n",
      "                          n - nearest_even: IEEE754 standard rounding mode\r\n",
      "                          t - truncate    : no rounding is applied\r\n",
      "            exc_mode - Exception mode (exclusive option):\r\n",
      "                          i - ieee      : IEEE754 standard exceptions\r\n",
      "                          a - saturation: Inf is replaced with max value, Nan becomes undefined behaviour\r\n",
      "                          o - overflow  : Inf and Nan results in undefined behaviour\r\n",
      "              spec   - Floating-point specialization string (multiple choice):\r\n",
      "                          h - hidden one: IEEE754 standard representation with hidden one\r\n",
      "                          s - subnormals: IEEE754 subnormal numbers\r\n",
      "              sign   - Static sign representation (exclusive option):\r\n",
      "                            - IEEE754 dynamic sign is used if omitted\r\n",
      "                          1 - all values are considered as negative numbers\r\n",
      "                          0 - all values are considered as positive numbers\r\n",
      "\r\n",
      "    --fp-format=inline-math\r\n",
      "        The \"inline-math\" flag may be added to fp-format option to force floating-point\r\n",
      "        arithmetic operators always inline policy\r\n",
      "\r\n",
      "    --fp-format=inline-conversion\r\n",
      "        The \"inline-conversion\" flag may be added to fp-format option to force floating-point\r\n",
      "        conversion operators always inline policy\r\n",
      "\r\n",
      "    --fp-format-interface\r\n",
      "        User-defined floating-point format is applied to top interface signature if required\r\n",
      "        (default modifies top function body only)\r\n",
      "\r\n",
      "    --fp-format-propagate\r\n",
      "        Propagate user-defined floating-point format to called function when possible\r\n",
      "\r\n",
      "    --hls-div=<method>\r\n",
      "        Perform the high-level synthesis of integer division and modulo\r\n",
      "        operations starting from a C library based implementation or a HDL component:\r\n",
      "             none  - use a HDL based pipelined restoring division\r\n",
      "             nr1   - use a C-based non-restoring division with unrolling factor equal to 1 (default)\r\n",
      "             nr2   - use a C-based non-restoring division with unrolling factor equal to 2\r\n",
      "             NR    - use a C-based Newton-Raphson division\r\n",
      "             as    - use a C-based align divisor shift dividend method\r\n",
      "\r\n",
      "    --hls-fpdiv=<method>\r\n",
      "        Perform the high-level synthesis of floating point division \r\n",
      "        operations starting from a C library based implementation:\r\n",
      "             SRT4 - use a C-based Sweeney, Robertson, Tocher floating point division with radix 4 (default)\r\n",
      "             G    - use a C-based Goldschmidt floating point division.\r\n",
      "             SF   - use a C-based floating point division as describe in soft-fp library\r\n",
      "                    (it requires --soft-fp).\r\n",
      "    --skip-pipe-parameter=<value>\r\n",
      "        Used during the allocation of pipelined units. <value> specifies how\r\n",
      "        many pipelined units, compliant with the clock period, will be skipped.\r\n",
      "        (default=0).\r\n",
      "\r\n",
      "    --reset-type=value\r\n",
      "        Specify the type of reset:\r\n",
      "             no    - use registers without reset (default)\r\n",
      "             async - use registers with asynchronous reset\r\n",
      "             sync  - use registers with synchronous reset\r\n",
      "\r\n",
      "    --reset-level=value\r\n",
      "        Specify if the reset is active high or low:\r\n",
      "             low   - use registers with active low reset (default)\r\n",
      "             high  - use registers with active high reset\r\n",
      "\r\n",
      "    --disable-reg-init-value\r\n",
      "        Used to remove the INIT value from registers (useful for ASIC designs)\r\n",
      "\r\n",
      "    --registered-inputs=value\r\n",
      "        Specify if inputs are registered or not:\r\n",
      "             auto  - inputs are registered only for proxy functions (default)\r\n",
      "             top   - inputs and return are registered only for top and proxy functions\r\n",
      "             yes   - all inputs are registered\r\n",
      "             no    - none of the inputs is registered\r\n",
      "\r\n",
      "    --fsm-encoding=value\r\n",
      "             auto    - it depends on the target technology. VVD prefers one encoding\r\n",
      "                       while the other are fine with the standard binary encoding. (default)\r\n",
      "             one-hot - one hot encoding\r\n",
      "             binary  - binary encoding\r\n",
      "\r\n",
      "    --cprf=value\r\n",
      "        Clock Period Resource Fraction (default = 1.0).\r\n",
      "\r\n",
      "    --DSP-allocation-coefficient=value\r\n",
      "        During the allocation step the timing of the DSP-based modules is\r\n",
      "        multiplied by value (default = 1.0).\r\n",
      "\r\n",
      "    --DSP-margin-combinational=value\r\n",
      "        Timing of combinational DSP-based modules is multiplied by value.\r\n",
      "        (default = 1.0).\r\n",
      "\r\n",
      "    --DSP-margin-pipelined=value\r\n",
      "        Timing of pipelined DSP-based modules is multiplied by value.\r\n",
      "        (default = 1.0).\r\n",
      "\r\n",
      "    --mux-margins=n\r\n",
      "        Scheduling reserves a margin corresponding to the delay of n 32 bit\r\n",
      "        multiplexers.\r\n",
      "\r\n",
      "    --timing-model=value\r\n",
      "        Specify the timing model used by HLS:\r\n",
      "             EC     - estimate timing overhead of glue logics and connections\r\n",
      "                      between resources (default)\r\n",
      "             SIMPLE - just consider the resource delay\r\n",
      "\r\n",
      "    --experimental-setup=<setup>\r\n",
      "        Specify the experimental setup. This is a shorthand to set multiple\r\n",
      "        options with a single command.\r\n",
      "        Available values for <setup> are the following:\r\n",
      "             BAMBU-AREA           - this setup implies:\r\n",
      "                                    -Os  -D'printf(fmt, ...)='\r\n",
      "                                    --memory-allocation-policy=ALL_BRAM\r\n",
      "                                    --DSP-allocation-coefficient=1.75\r\n",
      "                                    --distram-threshold=256\r\n",
      "             BAMBU-AREA-MP        - this setup implies:\r\n",
      "                                    -Os  -D'printf(fmt, ...)='\r\n",
      "                                    --channels-type=MEM_ACC_NN\r\n",
      "                                    --channels-number=2\r\n",
      "                                    --memory-allocation-policy=ALL_BRAM\r\n",
      "                                    --DSP-allocation-coefficient=1.75\r\n",
      "                                    --distram-threshold=256\r\n",
      "             BAMBU-BALANCED       - this setup implies:\r\n",
      "                                    -O2  -D'printf(fmt, ...)='\r\n",
      "                                    --channels-type=MEM_ACC_11\r\n",
      "                                    --memory-allocation-policy=ALL_BRAM\r\n",
      "                                    -fgcse-after-reload  -fipa-cp-clone\r\n",
      "                                    -ftree-partial-pre  -funswitch-loops\r\n",
      "                                    -finline-functions  -fdisable-tree-bswap\r\n",
      "                                    --param max-inline-insns-auto=25\r\n",
      "                                    -fno-tree-loop-ivcanon\r\n",
      "                                    --distram-threshold=256\r\n",
      "             BAMBU-BALANCED-MP    - (default) this setup implies:\r\n",
      "                                    -O2  -D'printf(fmt, ...)='\r\n",
      "                                    --channels-type=MEM_ACC_NN\r\n",
      "                                    --channels-number=2\r\n",
      "                                    --memory-allocation-policy=ALL_BRAM\r\n",
      "                                    -fgcse-after-reload  -fipa-cp-clone\r\n",
      "                                    -ftree-partial-pre  -funswitch-loops\r\n",
      "                                    -finline-functions  -fdisable-tree-bswap\r\n",
      "                                    --param max-inline-insns-auto=25\r\n",
      "                                    -fno-tree-loop-ivcanon\r\n",
      "                                    --distram-threshold=256\r\n",
      "             BAMBU-TASTE          - this setup concatenate the input files and\r\n",
      "                                    passes these options to the compiler:\r\n",
      "                                    -O2  -D'printf(fmt, ...)='\r\n",
      "                                    --channels-type=MEM_ACC_NN\r\n",
      "                                    --memory-allocation-policy=ALL_BRAM\r\n",
      "                                    -fgcse-after-reload  -fipa-cp-clone\r\n",
      "                                    -ftree-partial-pre  -funswitch-loops\r\n",
      "                                    -finline-functions  -fdisable-tree-bswap\r\n",
      "                                    --param max-inline-insns-auto=25\r\n",
      "                                    -fno-tree-loop-ivcanon\r\n",
      "                                    --distram-threshold=256\r\n",
      "             BAMBU-PERFORMANCE    - this setup implies:\r\n",
      "                                    -O3  -D'printf(fmt, ...)='\r\n",
      "                                    --memory-allocation-policy=ALL_BRAM\r\n",
      "                                    --distram-threshold=512\r\n",
      "                                    --disable-function-proxy\r\n",
      "             BAMBU-PERFORMANCE-MP - this setup implies:\r\n",
      "                                    -O3  -D'printf(fmt, ...)='\r\n",
      "                                    --channels-type=MEM_ACC_NN\r\n",
      "                                    --channels-number=2\r\n",
      "                                    --memory-allocation-policy=ALL_BRAM\r\n",
      "                                    --distram-threshold=512\r\n",
      "                                    --disable-function-proxy\r\n",
      "             BAMBU                - this setup implies:\r\n",
      "                                    -O0 --channels-type=MEM_ACC_11\r\n",
      "                                    --memory-allocation-policy=LSS\r\n",
      "                                    --distram-threshold=256\r\n",
      "             BAMBU092             - this setup implies:\r\n",
      "                                    -O3  -D'printf(fmt, ...)='\r\n",
      "                                    --timing-model=SIMPLE\r\n",
      "                                    --DSP-margin-combinational=1.3\r\n",
      "                                    --cprf=0.9  -skip-pipe-parameter=1\r\n",
      "                                    --channels-type=MEM_ACC_11\r\n",
      "                                    --memory-allocation-policy=LSS\r\n",
      "                                    --distram-threshold=256\r\n",
      "             VVD                  - this setup implies:\r\n",
      "                                    -O3  -D'printf(fmt, ...)='\r\n",
      "                                    --channels-type=MEM_ACC_NN\r\n",
      "                                    --memory-allocation-policy=ALL_BRAM\r\n",
      "                                    --distram-threshold=256\r\n",
      "                                    --DSP-allocation-coefficient=1.75\r\n",
      "                                    --cprf=0.875\r\n",
      "\r\n",
      "\r\n",
      "  Other options:\r\n",
      "\r\n",
      "    --pragma-parse\r\n",
      "        Perform source code parsing to extract information about pragmas.\r\n",
      "        (default=no).\r\n",
      "\r\n",
      "    --num-accelerators\r\n",
      "        Set the number of physical accelerator instantiated in parallel sections. It must\r\n",
      "        be a power of two (default=4).\r\n",
      "\r\n",
      "    --time, -t <time>\r\n",
      "        Set maximum execution time (in seconds) for ILP solvers. (infinite).\r\n",
      "\r\n",
      "    --host-profiling\r\n",
      "        Perform host-profiling.\r\n",
      "\r\n",
      "    --disable-bitvalue-ipa\r\n",
      "        Disable inter-procedural bitvalue analysis.\r\n",
      "    --disable-function-proxy\r\n",
      "        Disable function proxy. May increase FSMD parallelism.\r\n",
      "\r\n",
      "\r\n",
      "  Debug options:\r\n",
      "\r\n",
      "    --discrepancy\r\n",
      "           Performs automated discrepancy analysis between the execution\r\n",
      "           of the original source code and the generated HDL (currently\r\n",
      "           supports only Verilog). If a mismatch is detected reports\r\n",
      "           useful information to the user.\r\n",
      "           Uninitialized variables in C are legal, but if they are used\r\n",
      "           before initialization in HDL it is possible to obtain X values\r\n",
      "           in simulation. This is not necessarily wrong, so these errors\r\n",
      "           are not reported by default to avoid reporting false positives.\r\n",
      "           If you can guarantee that in your C code there are no\r\n",
      "           uninitialized variables and you want the X values in HDL to be\r\n",
      "           reported use the option --discrepancy-force-uninitialized.\r\n",
      "           Note that the discrepancy of pointers relies on ASAN to properly\r\n",
      "           allocate objects in memory. Unfortunately, there is a well-known\r\n",
      "           bug on ASAN (https://github.com/google/sanitizers/issues/914)\r\n",
      "           when -fsanitize=address is passed to GCC or CLANG.\r\n",
      "           On some compiler versions this issues has been fixed but since the\r\n",
      "           fix has not been upstreamed the bambu option --discrepancy may not\r\n",
      "           work. To circumvent the issue, the user may perform the discrepancy\r\n",
      "           by adding these two options: --discrepancy --discrepancy-permissive-ptrs.\r\n",
      "\r\n",
      "    --discrepancy-force-uninitialized\r\n",
      "           Reports errors due to uninitialized values in HDL.\r\n",
      "           See the option --discrepancy for details\r\n",
      "\r\n",
      "    --discrepancy-no-load-pointers\r\n",
      "           Assume that the data loaded from memories in HDL are never used\r\n",
      "           to represent addresses, unless they are explicitly assigned to\r\n",
      "           pointer variables.\r\n",
      "           The discrepancy analysis is able to compare pointers in software\r\n",
      "           execution and addresses in hardware. By default all the values\r\n",
      "           loaded from memory are treated as if they could contain addresses,\r\n",
      "           even if they are integer variables. This is due to the fact that\r\n",
      "           C code doing this tricks is valid and actually used in embedded\r\n",
      "           systems, but it can lead to imprecise bug reports, because only\r\n",
      "           pointers pointing to actual data are checked by the discrepancy\r\n",
      "           analysis.\r\n",
      "           If you can guarantee that your code always manipulates addresses\r\n",
      "           using pointers and never using plain int, then you can use this\r\n",
      "           option to get more precise bug reports.\r\n",
      "\r\n",
      "    --discrepancy-only=comma,separated,list,of,function,names\r\n",
      "           Restricts the discrepancy analysis only to the functions whose\r\n",
      "           name is in the list passed as argument.\r\n",
      "\r\n",
      "    --discrepancy-permissive-ptrs\r\n",
      "           Do not trigger hard errors on pointer variables.\r\n",
      "\r\n",
      "    --discrepancy-hw\r\n",
      "           Hardware Discrepancy Analysis.\r\n",
      "\r\n",
      "    --assert-debug\r\n",
      "        Enable assertion debugging performed by Modelsim.\r\n",
      "        (Mentor Modelsim should be selected to use this option)\r\n",
      "\r\n",
      "\r\n",
      "  Backend configuration:\r\n",
      "\r\n",
      "    --mentor-visualizer\r\n",
      "        Simulate the RTL implementation and then open Mentor Visualizer.\r\n",
      "        (Mentor root has to be correctly set, see --mentor-root)\r\n",
      "\r\n",
      "    --mentor-optimizer=<0|1>\r\n",
      "        Enable or disable mentor optimizer. (default=enabled)\r\n",
      "\r\n",
      "    --nanoxplore-bypass=<name>\r\n",
      "        Define NanoXplore bypass when using NanoXplore. User may set NANOXPLORE_BYPASS\r\n",
      "        variable otherwise.\r\n",
      "\r\n",
      "    --altera-root=<path>\r\n",
      "        Define Altera tools path. Given path is searched for Quartus.\r\n",
      "        (default=/opt/altera:/opt/intelFPGA)\r\n",
      "\r\n",
      "    --lattice-root=<path>\r\n",
      "        Define Lattice tools path. Given path is searched for Diamond.\r\n",
      "        (default=/opt/diamond:/usr/local/diamond)\r\n",
      "\r\n",
      "    --mentor-root=<path>\r\n",
      "        Define Mentor tools path. Given directory is searched for Modelsim and Visualizer\r\n",
      "        (default=/opt/mentor)\r\n",
      "\r\n",
      "    --nanoxplore-root=<path>\r\n",
      "        Define NanoXplore tools path. Given directory is searched for NXMap.\r\n",
      "        (default=/opt/NanoXplore/NXMap3)\r\n",
      "\r\n",
      "    --xilinx-root=<path>\r\n",
      "        Define Xilinx tools path. Given directory is searched for both ISE and Vivado\r\n",
      "        (default=/opt/Xilinx)\r\n",
      "\r\n",
      "\r\n"
     ]
    }
   ],
   "source": [
    "!bambu --help"
   ]
  },
  {
   "cell_type": "markdown",
   "metadata": {
    "id": ""
   },
   "source": [
    "Modify the command line to change the amount of debug information displayed, and generate VHDL instead of Verilog code:\n"
   ]
  },
  {
   "cell_type": "code",
   "execution_count": 4,
   "metadata": {
    "id": ""
   },
   "outputs": [
    {
     "name": "stdout",
     "output_type": "stream",
     "text": [
      " ==  Bambu executed with: /tmp/.mount_bambuNgYcaa/usr/bin/bambu --top-fname=icrc1 icrc.c \n",
      "\n",
      "\n",
      "********************************************************************************\n",
      "                    ____                  _\n",
      "                   | __ )  __ _ _ __ ___ | |_   _   _\n",
      "                   |  _ \\ / _` | '_ ` _ \\| '_ \\| | | |\n",
      "                   | |_) | (_| | | | | | | |_) | |_| |\n",
      "                   |____/ \\__,_|_| |_| |_|_.__/ \\__,_|\n",
      "\n",
      "********************************************************************************\n",
      "                         High-Level Synthesis Tool\n",
      "\n",
      "                         Politecnico di Milano - DEIB\n",
      "                          System Architectures Group\n",
      "********************************************************************************\n",
      "                Copyright (C) 2004-2022 Politecnico di Milano\n",
      "Version: PandA 0.9.8 - Revision 136523957d7935c4772f8e5a9199602f1f172eff-dev/panda\n",
      "\n",
      "Target technology = FPGA\n",
      "Error in compilation\n",
      "clang-12: error: no such file or directory: '/home/claudio/Desktop/panda/PandA-bambu/documentation/tutorial_fpl_2022/icrc.c'\n",
      "clang-12: error: no input files\n",
      "error -> Front-end compiler returns an error during compilation 2\n",
      "\n"
     ]
    }
   ],
   "source": [
    "!bambu icrc.c --top-fname=icrc1"
   ]
  },
  {
   "cell_type": "markdown",
   "metadata": {
    "id": ""
   },
   "source": [
    "## **Exercise 2**\n",
    "\n",
    "We remain on the same input C code as before, let's add co-simulation:\n"
   ]
  },
  {
   "cell_type": "code",
   "execution_count": 5,
   "metadata": {
    "id": ""
   },
   "outputs": [
    {
     "name": "stdout",
     "output_type": "stream",
     "text": [
      "[Errno 2] No such file or directory: '/content/bambu-tutorial/01-introduction/Exercise1'\n",
      "/home/claudio/Desktop/panda/PandA-bambu/documentation/tutorial_fpl_2022\n",
      " ==  Bambu executed with: /tmp/.mount_bambuFZEcQG/usr/bin/bambu --top-fname=icrc1 --simulate --simulator=VERILATOR icrc.c \n",
      "\n",
      "\n",
      "********************************************************************************\n",
      "                    ____                  _\n",
      "                   | __ )  __ _ _ __ ___ | |_   _   _\n",
      "                   |  _ \\ / _` | '_ ` _ \\| '_ \\| | | |\n",
      "                   | |_) | (_| | | | | | | |_) | |_| |\n",
      "                   |____/ \\__,_|_| |_| |_|_.__/ \\__,_|\n",
      "\n",
      "********************************************************************************\n",
      "                         High-Level Synthesis Tool\n",
      "\n",
      "                         Politecnico di Milano - DEIB\n",
      "                          System Architectures Group\n",
      "********************************************************************************\n",
      "                Copyright (C) 2004-2022 Politecnico di Milano\n",
      "Version: PandA 0.9.8 - Revision 136523957d7935c4772f8e5a9199602f1f172eff-dev/panda\n",
      "\n",
      "Target technology = FPGA\n",
      "Error in compilation\n",
      "clang-12: error: no such file or directory: '/home/claudio/Desktop/panda/PandA-bambu/documentation/tutorial_fpl_2022/icrc.c'\n",
      "clang-12: error: no input files\n",
      "error -> Front-end compiler returns an error during compilation 2\n",
      "\n"
     ]
    }
   ],
   "source": [
    "%cd /content/bambu-tutorial/01-introduction/Exercise1\n",
    "!bambu icrc.c --top-fname=icrc1 --simulate --simulator=VERILATOR"
   ]
  },
  {
   "cell_type": "markdown",
   "metadata": {
    "id": ""
   },
   "source": [
    "We did not specify any input values. Inspect what Bambu generated automatically:"
   ]
  },
  {
   "cell_type": "code",
   "execution_count": 6,
   "metadata": {
    "id": ""
   },
   "outputs": [
    {
     "name": "stdout",
     "output_type": "stream",
     "text": [
      "cat: test.xml: No such file or directory\r\n"
     ]
    }
   ],
   "source": [
    "!cat test.xml"
   ]
  },
  {
   "cell_type": "markdown",
   "metadata": {
    "id": ""
   },
   "source": [
    "You can find the actual testbench in HLS_output/simulation."
   ]
  },
  {
   "cell_type": "markdown",
   "metadata": {
    "id": ""
   },
   "source": [
    "## **Exercise 3**\n",
    "\n",
    "Implement and synthesize a module that returns the minimum and maximum value in an array of integers with arbitrary size.\n",
    "\n",
    "Write the input C code starting from this snippet:"
   ]
  },
  {
   "cell_type": "code",
   "execution_count": 7,
   "metadata": {
    "id": ""
   },
   "outputs": [
    {
     "name": "stdout",
     "output_type": "stream",
     "text": [
      "Writing /content/bambu-tutorial/01-introduction/Exercise2/minmax.c\n"
     ]
    },
    {
     "ename": "FileNotFoundError",
     "evalue": "[Errno 2] No such file or directory: '/content/bambu-tutorial/01-introduction/Exercise2/minmax.c'",
     "output_type": "error",
     "traceback": [
      "\u001b[0;31m---------------------------------------------------------------------------\u001b[0m",
      "\u001b[0;31mFileNotFoundError\u001b[0m                         Traceback (most recent call last)",
      "Input \u001b[0;32mIn [7]\u001b[0m, in \u001b[0;36m<cell line: 1>\u001b[0;34m()\u001b[0m\n\u001b[0;32m----> 1\u001b[0m \u001b[43mget_ipython\u001b[49m\u001b[43m(\u001b[49m\u001b[43m)\u001b[49m\u001b[38;5;241;43m.\u001b[39;49m\u001b[43mrun_cell_magic\u001b[49m\u001b[43m(\u001b[49m\u001b[38;5;124;43m'\u001b[39;49m\u001b[38;5;124;43mwritefile\u001b[39;49m\u001b[38;5;124;43m'\u001b[39;49m\u001b[43m,\u001b[49m\u001b[43m \u001b[49m\u001b[38;5;124;43m'\u001b[39;49m\u001b[38;5;124;43m/content/bambu-tutorial/01-introduction/Exercise2/minmax.c\u001b[39;49m\u001b[38;5;124;43m'\u001b[39;49m\u001b[43m,\u001b[49m\u001b[43m \u001b[49m\u001b[38;5;124;43m'\u001b[39;49m\u001b[38;5;124;43mvoid min_max(int input[10], int* out_max)\u001b[39;49m\u001b[38;5;130;43;01m\\n\u001b[39;49;00m\u001b[38;5;124;43m{\u001b[39;49m\u001b[38;5;130;43;01m\\n\u001b[39;49;00m\u001b[38;5;124;43m   int local_max = input[0];\u001b[39;49m\u001b[38;5;130;43;01m\\n\u001b[39;49;00m\u001b[38;5;124;43m   int i = 0;\u001b[39;49m\u001b[38;5;130;43;01m\\n\u001b[39;49;00m\u001b[38;5;124;43m   for(i = 0; i < 10; i++)\u001b[39;49m\u001b[38;5;130;43;01m\\n\u001b[39;49;00m\u001b[38;5;124;43m   \u001b[39;49m\u001b[38;5;124;43m{\u001b[39;49m\u001b[38;5;130;43;01m\\n\u001b[39;49;00m\u001b[38;5;124;43m      if(input[i] > local_max)\u001b[39;49m\u001b[38;5;130;43;01m\\n\u001b[39;49;00m\u001b[38;5;124;43m      \u001b[39;49m\u001b[38;5;124;43m{\u001b[39;49m\u001b[38;5;130;43;01m\\n\u001b[39;49;00m\u001b[38;5;124;43m         local_max = input[i];\u001b[39;49m\u001b[38;5;130;43;01m\\n\u001b[39;49;00m\u001b[38;5;124;43m      }\u001b[39;49m\u001b[38;5;130;43;01m\\n\u001b[39;49;00m\u001b[38;5;124;43m   }\u001b[39;49m\u001b[38;5;130;43;01m\\n\u001b[39;49;00m\u001b[38;5;124;43m   *out_max = local_max;\u001b[39;49m\u001b[38;5;130;43;01m\\n\u001b[39;49;00m\u001b[38;5;124;43m}\u001b[39;49m\u001b[38;5;130;43;01m\\n\u001b[39;49;00m\u001b[38;5;124;43m'\u001b[39;49m\u001b[43m)\u001b[49m\n",
      "File \u001b[0;32m~/.local/lib/python3.10/site-packages/IPython/core/interactiveshell.py:2358\u001b[0m, in \u001b[0;36mInteractiveShell.run_cell_magic\u001b[0;34m(self, magic_name, line, cell)\u001b[0m\n\u001b[1;32m   2356\u001b[0m \u001b[38;5;28;01mwith\u001b[39;00m \u001b[38;5;28mself\u001b[39m\u001b[38;5;241m.\u001b[39mbuiltin_trap:\n\u001b[1;32m   2357\u001b[0m     args \u001b[38;5;241m=\u001b[39m (magic_arg_s, cell)\n\u001b[0;32m-> 2358\u001b[0m     result \u001b[38;5;241m=\u001b[39m \u001b[43mfn\u001b[49m\u001b[43m(\u001b[49m\u001b[38;5;241;43m*\u001b[39;49m\u001b[43margs\u001b[49m\u001b[43m,\u001b[49m\u001b[43m \u001b[49m\u001b[38;5;241;43m*\u001b[39;49m\u001b[38;5;241;43m*\u001b[39;49m\u001b[43mkwargs\u001b[49m\u001b[43m)\u001b[49m\n\u001b[1;32m   2359\u001b[0m \u001b[38;5;28;01mreturn\u001b[39;00m result\n",
      "File \u001b[0;32m~/.local/lib/python3.10/site-packages/IPython/core/magics/osm.py:853\u001b[0m, in \u001b[0;36mOSMagics.writefile\u001b[0;34m(self, line, cell)\u001b[0m\n\u001b[1;32m    850\u001b[0m     \u001b[38;5;28mprint\u001b[39m(\u001b[38;5;124m\"\u001b[39m\u001b[38;5;124mWriting \u001b[39m\u001b[38;5;132;01m%s\u001b[39;00m\u001b[38;5;124m\"\u001b[39m \u001b[38;5;241m%\u001b[39m filename)\n\u001b[1;32m    852\u001b[0m mode \u001b[38;5;241m=\u001b[39m \u001b[38;5;124m'\u001b[39m\u001b[38;5;124ma\u001b[39m\u001b[38;5;124m'\u001b[39m \u001b[38;5;28;01mif\u001b[39;00m args\u001b[38;5;241m.\u001b[39mappend \u001b[38;5;28;01melse\u001b[39;00m \u001b[38;5;124m'\u001b[39m\u001b[38;5;124mw\u001b[39m\u001b[38;5;124m'\u001b[39m\n\u001b[0;32m--> 853\u001b[0m \u001b[38;5;28;01mwith\u001b[39;00m \u001b[43mio\u001b[49m\u001b[38;5;241;43m.\u001b[39;49m\u001b[43mopen\u001b[49m\u001b[43m(\u001b[49m\u001b[43mfilename\u001b[49m\u001b[43m,\u001b[49m\u001b[43m \u001b[49m\u001b[43mmode\u001b[49m\u001b[43m,\u001b[49m\u001b[43m \u001b[49m\u001b[43mencoding\u001b[49m\u001b[38;5;241;43m=\u001b[39;49m\u001b[38;5;124;43m'\u001b[39;49m\u001b[38;5;124;43mutf-8\u001b[39;49m\u001b[38;5;124;43m'\u001b[39;49m\u001b[43m)\u001b[49m \u001b[38;5;28;01mas\u001b[39;00m f:\n\u001b[1;32m    854\u001b[0m     f\u001b[38;5;241m.\u001b[39mwrite(cell)\n",
      "\u001b[0;31mFileNotFoundError\u001b[0m: [Errno 2] No such file or directory: '/content/bambu-tutorial/01-introduction/Exercise2/minmax.c'"
     ]
    }
   ],
   "source": [
    "%%writefile /content/bambu-tutorial/01-introduction/Exercise2/minmax.c\n",
    "void min_max(int input[10], int* out_max)\n",
    "{\n",
    "   int local_max = input[0];\n",
    "   int i = 0;\n",
    "   for(i = 0; i < 10; i++)\n",
    "   {\n",
    "      if(input[i] > local_max)\n",
    "      {\n",
    "         local_max = input[i];\n",
    "      }\n",
    "   }\n",
    "   *out_max = local_max;\n",
    "}"
   ]
  },
  {
   "cell_type": "markdown",
   "metadata": {
    "id": ""
   },
   "source": [
    "Write a testbench to test arrays with different elements and different sizes.\n",
    "\n",
    "Start from the XML snippet below **(parameter names need to correspond to function arguments in your code)**:"
   ]
  },
  {
   "cell_type": "code",
   "execution_count": null,
   "metadata": {
    "id": ""
   },
   "outputs": [],
   "source": [
    "%%writefile /content/bambu-tutorial/01-introduction/Exercise2/testbench.xml\n",
    "<?xml version=\"1.0\"?>\n",
    "<function>\n",
    "   <testbench input=\"{0,1,2,3,4}\" num_elements=\"5\" out_max=\"{0}\" out_min=\"{0}\"/>\n",
    "   <testbench input=\"{15,10,5}\" num_elements=\"3\" out_max=\"{15}\" out_min=\"{5}\"/>\n",
    "</function>"
   ]
  },
  {
   "cell_type": "markdown",
   "metadata": {
    "id": ""
   },
   "source": [
    "Synthesize with Bambu and simulate with Verilator **(double check the command line if you changed file/function names)**:"
   ]
  },
  {
   "cell_type": "code",
   "execution_count": null,
   "metadata": {
    "id": ""
   },
   "outputs": [],
   "source": [
    "%cd /content/bambu-tutorial/01-introduction/Exercise2/\n",
    "!bambu minmax.c --top-fname=min_max --generate-tb=testbench.xml --simulate --simulator=VERILATOR"
   ]
  },
  {
   "cell_type": "markdown",
   "metadata": {
    "id": ""
   },
   "source": [
    "What happens if you pass an array with a different number of elements than what is specified in num_elements? **(remember to fix the XML file afterwards, we will need it again)**"
   ]
  },
  {
   "cell_type": "markdown",
   "metadata": {
    "id": ""
   },
   "source": [
    "## **Exercise 4**\n",
    "\n",
    "Bambu can synthesize accelerators described in an LLVM IR through the Clang frontend.\n",
    "\n",
    "Synthesize /content/bambu-tutorial/01-introduction/Exercise3/matmul.ll, which contains a matrix multiplication kernel generated by [soda-opt](https://gitlab.pnnl.gov/sodalite/soda-opt):"
   ]
  },
  {
   "cell_type": "code",
   "execution_count": null,
   "metadata": {
    "id": ""
   },
   "outputs": [],
   "source": [
    "%cd /content/bambu-tutorial/01-introduction/Exercise3/\n",
    "!bambu matmul.ll --top-fname=main_kernel --generate-tb=test.xml --simulate --simulator=VERILATOR --compiler=I386_CLANG12"
   ]
  },
  {
   "cell_type": "markdown",
   "metadata": {
    "id": ""
   },
   "source": [
    "Note: kernels generated by soda-opt require at least Clang 10."
   ]
  },
  {
   "cell_type": "markdown",
   "metadata": {
    "id": ""
   },
   "source": [
    "## **Exercise 5**\n",
    "\n",
    "Let's go back to the C code that finds minumim and maximum in an array of numbers, and compare performance across different target platforms and frequencies.\n",
    "\n",
    "Start from the given command and modify the options appropriately to test the following combinations:\n",
    "\n",
    "\n",
    "*   xc4vlx100-10ff1513 (Xilinx Virtex 4) – 66MHz\n",
    "*   5SGXEA7N2F45C1 (Intel Stratix V) – 200MHz\n",
    "*   xc7vx690t-3ffg1930-VVD (Xilinx Virtex 7) – 100MHz\n",
    "*   xc7vx690t-3ffg1930-VVD (Xilinx Virtex 7) – 333MHz\n",
    "*   xc7vx690t-3ffg1930-VVD (Xilinx Virtex 7) – 400MHz\n",
    "*   nangate45 (45nm ASIC) – 200MHz\n",
    "\n"
   ]
  },
  {
   "cell_type": "code",
   "execution_count": null,
   "metadata": {
    "id": ""
   },
   "outputs": [],
   "source": [
    "%cd /content/bambu-tutorial/01-introduction/Exercise2\n",
    "!bambu minmax.c --top-fname=min_max --device-name=xc4vlx100-10ff1513 --clock-period=15 --no-iob --simulate --simulator=VERILATOR --generate-tb=testbench.xml"
   ]
  },
  {
   "cell_type": "markdown",
   "metadata": {
    "id": ""
   },
   "source": [
    "Look also at the different simulation and synthesis scripts generated by Bambu."
   ]
  },
  {
   "cell_type": "markdown",
   "metadata": {
    "id": ""
   },
   "source": [
    "## **Exercise 6**\n",
    "\n",
    "Ask Bambu to print a C verion of its internal IR and all relevant graphs:"
   ]
  },
  {
   "cell_type": "code",
   "execution_count": null,
   "metadata": {
    "id": ""
   },
   "outputs": [],
   "source": [
    "!bambu minmax.c --top-fname=min_max --pretty-print=out.c --print-dot"
   ]
  },
  {
   "cell_type": "markdown",
   "metadata": {
    "id": ""
   },
   "source": [
    "Look at /content/bambu-tutorial/01-introduction/Exercise2/out.c and then print the FSM graph:"
   ]
  },
  {
   "cell_type": "code",
   "execution_count": null,
   "metadata": {
    "id": ""
   },
   "outputs": [],
   "source": [
    "from graphviz import Source\n",
    "Source.from_file('HLS_output/dot/min_max/fsm.dot')"
   ]
  },
  {
   "cell_type": "markdown",
   "metadata": {
    "id": ""
   },
   "source": [
    "## **Exercise 7**\n",
    "\n",
    "Bambu automatically enables the synthesis of function proxies to save area.\n",
    "\n",
    "Synthesize the dummy example in /content/bambu-tutorial/01-introduction/Exercise4/proxies.c, and then look for the PROXY_PREF_funcC module in the generated Verilog:\n"
   ]
  },
  {
   "cell_type": "code",
   "execution_count": null,
   "metadata": {
    "id": ""
   },
   "outputs": [],
   "source": [
    "%cd /content/bambu-tutorial/01-introduction/Exercise4/\n",
    "!bambu proxies.c --top-fname=funcA"
   ]
  },
  {
   "cell_type": "markdown",
   "metadata": {
    "id": ""
   },
   "source": [
    "Note: floating point operations are synthesized as functions! Look at the kernels in /content/bambu-tutorial/01-introduction/Exercise5a/helm.c (adapted from the computational fluid dynamics applications in the [EVEREST](https://everest-h2020.eu/) project). Synthesize one of them:"
   ]
  },
  {
   "cell_type": "code",
   "execution_count": null,
   "metadata": {
    "id": ""
   },
   "outputs": [],
   "source": [
    "%cd /content/bambu-tutorial/01-introduction/Exercise5a/\n",
    "!bambu helm.c --top-fname=helm_naive --simulate --simulator=VERILATOR --generate-tb=test.xml --compiler=I386_CLANG6"
   ]
  },
  {
   "cell_type": "markdown",
   "metadata": {
    "id": ""
   },
   "source": [
    "Run the same synthesis disabling function proxies:"
   ]
  },
  {
   "cell_type": "code",
   "execution_count": null,
   "metadata": {
    "id": ""
   },
   "outputs": [],
   "source": [
    "!bambu helm.c --top-fname=helm_naive --simulate --simulator=VERILATOR --generate-tb=test.xml --compiler=I386_CLANG6 --disable-function-proxy"
   ]
  },
  {
   "cell_type": "markdown",
   "metadata": {
    "id": "NKH7rLb8fgk7"
   },
   "source": [
    "## **Exercise 8** \n",
    "Generate an accelerator with outer loop vectorization, try different vector sizes (-fopenmp-simd) and see how performance changes."
   ]
  },
  {
   "cell_type": "code",
   "execution_count": null,
   "metadata": {
    "id": ""
   },
   "outputs": [],
   "source": [
    "%cd /content/bambu-tutorial/04-simd/Exercise1/\n",
    "!bambu --compiler=I386_GCC49 --device-name=5SGXEA7N2F45C1 --simulate -fwhole-program -fno-delete-null-pointer-checks --clock-period=10 --experimental-setup=BAMBU-BALANCED-MP -fdisable-tree-cunroll -fdisable-tree-ivopts --param max-inline-insns-auto=1000 histogram.c -fopenmp-simd=1"
   ]
  },
  {
   "cell_type": "markdown",
   "metadata": {
    "id": ""
   },
   "source": [
    "## **Other examples**\n",
    "\n",
    "You can play around with a set of other examples that contain different applications and showcase different features of Bambu.\n",
    "\n",
    " - /content/bambu-tutorial/01-introduction/Exercise5: LU decomposition\n",
    " - /content/bambu-tutorial/01-introduction/Exercise6: integration of IPs written in Verilog\n",
    " - /content/bambu-tutorial/01-introduction/Exercise7: sorting algorithm\n",
    " - /content/bambu-tutorial/01-introduction/Exercise8: cryptographic core\n",
    " - /content/bambu-tutorial/01-introduction/Exercise9: search and insertion in a binary tree\n"
   ]
  },
  {
   "cell_type": "markdown",
   "metadata": {
    "id": "IlQDB6nqHqz0"
   },
   "source": [
    "# **Optimizations**\n"
   ]
  },
  {
   "cell_type": "markdown",
   "metadata": {
    "id": "dWWTy4TGZLfk"
   },
   "source": [
    "## **Exercise 1** \n",
    "\n",
    "Modify Bambu options to evaluate the effect of:\n",
    "\n",
    "\n",
    "*   different levels of optimization (-O0, -O1, -O2, -O3, -Os)\n",
    "*   vectorization (-ftree-vectorize)\n",
    "*   inlining (-finline-limit=100000)\n",
    "*   different frontend compilers (--compiler={I386_GCC49|I386_GCC7|I386_CLANG6|I386_CLANG12})\n",
    "\n",
    "#### **ADPCM from CHStone benchmark suite**\n",
    "Adaptive Diferential Pulse-Code Modulation is an algorithm used to perform audio compression (mainly in telephony). It is part of the CHStone benchmark suite for C-based HLS tools.\n",
    "* Yuko Hara, Hiroyuki Tomiyama, Shinya Honda and Hiroaki Takada, \"Proposal and Quantitative Analysis of the CHStone Benchmark Program Suite for Practical C-based High-level Synthesis\", *Journal of Information Processing*, Vol. 17, pp.242-254, (2009)."
   ]
  },
  {
   "cell_type": "code",
   "execution_count": null,
   "metadata": {
    "id": "YOXiFqzSIDR9"
   },
   "outputs": [],
   "source": [
    "%cd /content/bambu-tutorial/03-optimizations/Exercise1/\n",
    "!bambu adpcm.c -O0 --simulate"
   ]
  },
  {
   "cell_type": "markdown",
   "metadata": {
    "id": "mJOV50V4IiE2"
   },
   "source": [
    "## **Exercise 2** \n",
    "\n",
    "Use the command that yielded the best result in Exercise 1 and verify if SDC scheduling can introduce further improvements.\n",
    "\n",
    "* -s or --speculative-sdc-scheduling"
   ]
  },
  {
   "cell_type": "code",
   "execution_count": null,
   "metadata": {
    "id": "Qi_ZpIr1IzZ7"
   },
   "outputs": [],
   "source": [
    "%cd /content/bambu-tutorial/03-optimizations/Exercise1/\n",
    "!bambu adpcm.c -O0 --simulate"
   ]
  },
  {
   "cell_type": "markdown",
   "metadata": {
    "id": "StGBkKaJJEfr"
   },
   "source": [
    "## **Exercise 3**\n",
    "\n",
    "Modify Bambu options to evaluate the effect of different integer division implementations.\n",
    "\n",
    "--hls-div=<method\\>\n",
    "* none  - use a HDL based pipelined restoring division\n",
    "* nr1   - use a C-based non-restoring division with unrolling factor equal to 1 (default)\n",
    "* nr2   - use a C-based non-restoring division with unrolling factor equal to 2\n",
    "* NR    - use a C-based Newton-Raphson division\n",
    "* as    - use a C-based align divisor shift dividend method\n",
    "\n",
    "#### **FPDiv from CHStone**\n",
    "Soft floating-point division implementation from the CHStone benchmark suite for C-based HLS.\n",
    "* Yuko Hara, Hiroyuki Tomiyama, Shinya Honda and Hiroaki Takada, \"Proposal and Quantitative Analysis of the CHStone Benchmark Program Suite for Practical C-based High-level Synthesis\", *Journal of Information Processing*, Vol. 17, pp.242-254, (2009).\n"
   ]
  },
  {
   "cell_type": "code",
   "execution_count": null,
   "metadata": {
    "id": "bnEJ4nwuJLfo"
   },
   "outputs": [],
   "source": [
    "%cd /content/bambu-tutorial/03-optimizations/Exercise3/\n",
    "!bambu dfdiv.c --simulate --clock-period=15 --hls-div=none"
   ]
  },
  {
   "cell_type": "markdown",
   "metadata": {
    "id": "YSRwNv1o2Jqx"
   },
   "source": [
    "## **Exercise 4** \n",
    "\n",
    "Write C implementation that compute the following function:\n",
    "\n",
    "# $awesome\\_math(a,b,c) = acos(\\frac{a^2+b^2-c^2}{2ab})$\n",
    "\n",
    "Experiment with single and double precision data types, different softfloat and libm implementations offered by bambu.\n",
    "\n",
    "Start by editing this code and then try different bambu options:\n",
    "* Different floating-point arithmetic implementations (--softfloat, --soft-fp, --flopoco)\n",
    "* Different libm implementations (--libm-std-rounding)\n",
    "* Different square implementation (pow, simple multiplication)"
   ]
  },
  {
   "cell_type": "code",
   "execution_count": null,
   "metadata": {
    "id": "LuhiArbj6XnA"
   },
   "outputs": [],
   "source": [
    "%%writefile /content/bambu-tutorial/03-optimizations/Exercise4/module.c\n",
    "#include <math.h>\n",
    "float awesome_math(float a, float b, float c)\n",
    "{\n",
    "   return acosf((powf(a,2) + powf(b,2) - powf(c,2))/(2*a*b));\n",
    "}"
   ]
  },
  {
   "cell_type": "code",
   "execution_count": null,
   "metadata": {
    "id": "_Rg4Gthy2vDm"
   },
   "outputs": [],
   "source": [
    "%cd /content/bambu-tutorial/03-optimizations/Exercise4/\n",
    "!bambu module.c -O3 -lm --simulate --top-fname=awesome_math --generate-tb=\"a=3.0,b=4.0,c=5.0\" --speculative-sdc-scheduling --libm-std-rounding --hls-div=none --soft-float"
   ]
  },
  {
   "cell_type": "markdown",
   "metadata": {},
   "source": [
    "# AXI"
   ]
  },
  {
   "cell_type": "markdown",
   "metadata": {},
   "source": [
    "## **Exercise 1**\n",
    "Start by writing a C function called read that simply reads a number from an AXI bus and returns the value that is retrieved from the bus.\n"
   ]
  },
  {
   "cell_type": "code",
   "execution_count": null,
   "metadata": {},
   "outputs": [],
   "source": [
    "%%writefile /content/bambu-tutorial/04-axi/Exercise1/module.c\n"
   ]
  },
  {
   "cell_type": "markdown",
   "metadata": {},
   "source": [
    "Now add the interface infer flag to the bambu command and execute."
   ]
  },
  {
   "cell_type": "code",
   "execution_count": null,
   "metadata": {},
   "outputs": [],
   "source": [
    "%cd /content/bambu-tutorial/04-axi/Exercise1/\n",
    "!bambu module.c --top-fname=read --compiler=I386_CLANG6"
   ]
  },
  {
   "cell_type": "markdown",
   "metadata": {},
   "source": [
    "Open the generated Verilog file and look for the top module, called read. Notice the presence of the AXI signals and how their size matches the size of the data.\n",
    "\n"
   ]
  },
  {
   "cell_type": "code",
   "execution_count": null,
   "metadata": {},
   "outputs": [],
   "source": [
    "%cd /content/bambu-tutorial/04-axi/Exercise1/\n",
    "cat module.v"
   ]
  },
  {
   "cell_type": "markdown",
   "metadata": {},
   "source": [
    "Finally, launch the simulation and check that everything works properly."
   ]
  },
  {
   "cell_type": "code",
   "execution_count": null,
   "metadata": {},
   "outputs": [],
   "source": [
    "%cd /content/bambu-tutorial/04-axi/Exercise1/\n",
    "!bambu module.c --top-fname=read --compiler=I386_CLANG6 --generate-interface=INFER --generate-tb=\"data={96}\" --simulator=VERILATOR --simulate -v4"
   ]
  },
  {
   "cell_type": "markdown",
   "metadata": {},
   "source": [
    "## **Exercise 2**"
   ]
  },
  {
   "cell_type": "markdown",
   "metadata": {},
   "source": [
    "Consider the following code, that adds up all of the n elements of a vector v. Edit the code so that both the number of elements and the elements of the vector are read from an external memory through an AXI bus."
   ]
  },
  {
   "cell_type": "code",
   "execution_count": null,
   "metadata": {},
   "outputs": [],
   "source": [
    "%%writefile /content/bambu-tutorial/04-axi/Exercise2/module.c\n",
    "\n",
    "int sum(int* v, unsigned* n)\n",
    "{\n",
    "   int sum = 0;\n",
    "\n",
    "   for(unsigned i = 0; i < *(n); i++)\n",
    "   {\n",
    "      sum += v[i];\n",
    "   }\n",
    "\n",
    "   return sum;\n",
    "}"
   ]
  },
  {
   "cell_type": "markdown",
   "metadata": {},
   "source": [
    "Launch bambu and simulate the execution."
   ]
  },
  {
   "cell_type": "code",
   "execution_count": null,
   "metadata": {},
   "outputs": [],
   "source": [
    "%cd /content/bambu-tutorial/04-axi/Exercise2/\n",
    "!bambu module.c --top-fname=sum --compiler=I386_CLANG6 --generate-interface=INFER --generate-tb=\"data={1, 5, -6, 2, 8},n={5}\" --simulator=VERILATOR --simulate -v4"
   ]
  },
  {
   "cell_type": "markdown",
   "metadata": {},
   "source": [
    "## **Exercise 3**"
   ]
  },
  {
   "cell_type": "markdown",
   "metadata": {},
   "source": [
    "Let's consider the following code, that computes the maximum among the elements of a vector. We want to read the number of elements of the vector and its data from an AXI bus, however, instead of returning the result, we then want to write the result to an external memory available over a different AXI bus. In order for bambu to generate the module according to our needs, we will need to provide additional information through \"bundle\", an optional parameter of the pragma directive.\n",
    "With the addition of the optional parameter, the directive becomes:\n",
    "\n",
    "#pragma HLS_interface <variable_name> m_axi direct bundle=<bundle_name>\n",
    "\n",
    "By associating different variables to the same bundle name, we are telling bambu that they will use the same bus. When different names are used, bambu will generate a bus for each bundle.\n",
    "\n"
   ]
  },
  {
   "cell_type": "code",
   "execution_count": null,
   "metadata": {},
   "outputs": [],
   "source": [
    "%%writefile /content/bambu-tutorial/04-axi/Exercise3/module.c\n",
    "\n",
    "void maxNumbers(int* a, unsigned int* n_ptr, int* res)\n",
    "\n",
    "{\n",
    "   unsigned i;\n",
    "   int result;\n",
    "   unsigned int n = *n_ptr;\n",
    "\n",
    "   if(n == 0)\n",
    "   {\n",
    "      *res = (int)(1 << 31);\n",
    "      return;\n",
    "   }\n",
    "   result = a[0];\n",
    "   for(i = 1; i < n; ++i)\n",
    "      result = result < a[i] ? a[i] : result;\n",
    "   *res = result;\n",
    "}"
   ]
  },
  {
   "cell_type": "markdown",
   "metadata": {},
   "source": [
    "Once again, we can run bambu with the same command and perform a simulation."
   ]
  },
  {
   "cell_type": "code",
   "execution_count": null,
   "metadata": {},
   "outputs": [],
   "source": [
    "%cd /content/bambu-tutorial/04-axi/Exercise3/\n",
    "!bambu module.c --top-fname=maxNumbers --compiler=I386_CLANG6 --generate-interface=INFER --generate-tb=\"a={21, 8, -3, -90},n_ptr={4}\" --simulator=VERILATOR --simulate -v4"
   ]
  },
  {
   "cell_type": "markdown",
   "metadata": {},
   "source": [
    "If we open the module definition, we can actually check that two AXI buses are defined and used."
   ]
  },
  {
   "cell_type": "code",
   "execution_count": null,
   "metadata": {},
   "outputs": [],
   "source": [
    "%cd /content/bambu-tutorial/04-axi/Exercise3/\n",
    "!cat module.v"
   ]
  }
 ],
 "metadata": {
  "colab": {
   "collapsed_sections": [],
   "name": "bambu.ipynb",
   "provenance": [],
   "toc_visible": true
  },
  "kernelspec": {
   "display_name": "Python 3 (ipykernel)",
   "language": "python",
   "name": "python3"
  },
  "language_info": {
   "codemirror_mode": {
    "name": "ipython",
    "version": 3
   },
   "file_extension": ".py",
   "mimetype": "text/x-python",
   "name": "python",
   "nbconvert_exporter": "python",
   "pygments_lexer": "ipython3",
   "version": "3.10.4"
  },
  "vscode": {
   "interpreter": {
    "hash": "916dbcbb3f70747c44a77c7bcd40155683ae19c65e1c03b4aa3499c5328201f1"
   }
  }
 },
 "nbformat": 4,
 "nbformat_minor": 1
}
