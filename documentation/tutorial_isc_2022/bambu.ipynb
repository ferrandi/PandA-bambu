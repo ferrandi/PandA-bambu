{
  "cells": [
    {
      "cell_type": "markdown",
      "metadata": {
        "id": ""
      },
      "source": [
        "# **Initial setup**\n",
        "\n",
        "Install Bambu and required packages:"
      ]
    },
    {
      "cell_type": "code",
      "execution_count": null,
      "metadata": {
        "id": ""
      },
      "outputs": [],
      "source": [
        "!echo \"deb http://ppa.launchpad.net/git-core/ppa/ubuntu $(cat /etc/os-release | grep UBUNTU_CODENAME | sed 's/.*=//g') main\" >> /etc/apt/sources.list.d/git-core.list\n",
        "!apt-key adv --keyserver keyserver.ubuntu.com --recv-keys A1715D88E1DF1F24\n",
        "!apt-get update\n",
        "!apt-get install -y --no-install-recommends build-essential ca-certificates gcc-multilib git iverilog verilator wget\n",
        "!wget https://release.bambuhls.eu/appimage/bambu-date2022.AppImage\n",
        "!chmod +x bambu-*.AppImage\n",
        "!ln -sf $PWD/bambu-*.AppImage /bin/bambu\n",
        "!ln -sf $PWD/bambu-*.AppImage /bin/spider\n",
        "!ln -sf $PWD/bambu-*.AppImage /bin/tree-panda-gcc\n",
        "!ln -sf $PWD/bambu-*.AppImage /bin/clang-12\n",
        "!git clone --depth 1 --filter=blob:none --sparse https://github.com/ferrandi/PandA-bambu.git\n",
        "%cd PandA-bambu\n",
        "!git sparse-checkout set documentation/tutorial_isc_2022\n",
        "%cd ..\n",
        "!mv PandA-bambu/documentation/tutorial_isc_2022/ bambu-tutorial"
      ]
    },
    {
      "cell_type": "markdown",
      "metadata": {
        "id": ""
      },
      "source": [
        "# **Productive HLS with Bambu**\n"
      ]
    },
    {
      "cell_type": "markdown",
      "metadata": {
        "id": ""
      },
      "source": [
        "## **Exercise 1**\n",
        "\n",
        "Have a look at the C code in /content/bambu-tutorial/01-introduction/Exercise1/icrc.c\n",
        "\n",
        "Launch bambu:"
      ]
    },
    {
      "cell_type": "code",
      "execution_count": null,
      "metadata": {
        "id": ""
      },
      "outputs": [],
      "source": [
        "%cd /content/bambu-tutorial/01-introduction/Exercise1\n",
        "!bambu icrc.c --top-fname=icrc1"
      ]
    },
    {
      "cell_type": "markdown",
      "metadata": {
        "id": ""
      },
      "source": [
        "Inspect the generated Verilog file in the explorer tab on the left (icrc1.v)\n"
      ]
    },
    {
      "cell_type": "markdown",
      "metadata": {
        "id": ""
      },
      "source": [
        "Take a brief look at the available Bambu options:\n"
      ]
    },
    {
      "cell_type": "code",
      "execution_count": null,
      "metadata": {
        "id": ""
      },
      "outputs": [],
      "source": [
        "!bambu --help"
      ]
    },
    {
      "cell_type": "markdown",
      "metadata": {
        "id": ""
      },
      "source": [
        "Modify the command line to change the amount of debug information displayed, and generate VHDL instead of Verilog code:\n"
      ]
    },
    {
      "cell_type": "code",
      "execution_count": null,
      "metadata": {
        "id": ""
      },
      "outputs": [],
      "source": [
        "!bambu icrc.c --top-fname=icrc1"
      ]
    },
    {
      "cell_type": "markdown",
      "metadata": {
        "id": ""
      },
      "source": [
        "## **Exercise 2**\n",
        "\n",
        "We remain on the same input C code as before, let's add co-simulation:\n"
      ]
    },
    {
      "cell_type": "code",
      "execution_count": null,
      "metadata": {
        "id": ""
      },
      "outputs": [],
      "source": [
        "%cd /content/bambu-tutorial/01-introduction/Exercise1\n",
        "!bambu icrc.c --top-fname=icrc1 --simulate --simulator=VERILATOR"
      ]
    },
    {
      "cell_type": "markdown",
      "metadata": {
        "id": ""
      },
      "source": [
        "We did not specify any input values. Inspect what Bambu generated automatically:"
      ]
    },
    {
      "cell_type": "code",
      "execution_count": null,
      "metadata": {
        "id": ""
      },
      "outputs": [],
      "source": [
        "!cat test.xml"
      ]
    },
    {
      "cell_type": "markdown",
      "metadata": {
        "id": ""
      },
      "source": [
        "You can find the actual testbench in HLS_output/simulation."
      ]
    },
    {
      "cell_type": "markdown",
      "metadata": {
        "id": ""
      },
      "source": [
        "## **Exercise 3**\n",
        "\n",
        "Implement and synthesize a module that returns the minimum and maximum value in an array of integers with arbitrary size.\n",
        "\n",
        "Write the input C code starting from this snippet:"
      ]
    },
    {
      "cell_type": "code",
      "execution_count": null,
      "metadata": {
        "id": ""
      },
      "outputs": [],
      "source": [
        "%%writefile /content/bambu-tutorial/01-introduction/Exercise2/minmax.c\n",
        "void min_max(int input[10], int* out_max)\n",
        "{\n",
        "   int local_max = input[0];\n",
        "   int i = 0;\n",
        "   for(i = 0; i < 10; i++)\n",
        "   {\n",
        "      if(input[i] > local_max)\n",
        "      {\n",
        "         local_max = input[i];\n",
        "      }\n",
        "   }\n",
        "   *out_max = local_max;\n",
        "}"
      ]
    },
    {
      "cell_type": "markdown",
      "metadata": {
        "id": ""
      },
      "source": [
        "Write a testbench to test arrays with different elements and different sizes.\n",
        "\n",
        "Start from the XML snippet below **(parameter names need to correspond to function arguments in your code)**:"
      ]
    },
    {
      "cell_type": "code",
      "execution_count": null,
      "metadata": {
        "id": ""
      },
      "outputs": [],
      "source": [
        "%%writefile /content/bambu-tutorial/01-introduction/Exercise2/testbench.xml\n",
        "<?xml version=\"1.0\"?>\n",
        "<function>\n",
        "   <testbench input=\"{0,1,2,3,4}\" num_elements=\"5\" out_max=\"{0}\" out_min=\"{0}\"/>\n",
        "   <testbench input=\"{15,10,5}\" num_elements=\"3\" out_max=\"{15}\" out_min=\"{5}\"/>\n",
        "</function>"
      ]
    },
    {
      "cell_type": "markdown",
      "metadata": {
        "id": ""
      },
      "source": [
        "Synthesize with Bambu and simulate with Verilator **(double check the command line if you changed file/function names)**:"
      ]
    },
    {
      "cell_type": "code",
      "execution_count": null,
      "metadata": {
        "id": ""
      },
      "outputs": [],
      "source": [
        "%cd /content/bambu-tutorial/01-introduction/Exercise2/\n",
        "!bambu minmax.c --top-fname=min_max --generate-tb=testbench.xml --simulate --simulator=VERILATOR"
      ]
    },
    {
      "cell_type": "markdown",
      "metadata": {
        "id": ""
      },
      "source": [
        "What happens if you pass an array with a different number of elements than what is specified in num_elements? **(remember to fix the XML file afterwards, we will need it again)**"
      ]
    },
    {
      "cell_type": "markdown",
      "metadata": {
        "id": ""
      },
      "source": [
        "## **Exercise 4**\n",
        "\n",
        "Bambu can synthesize accelerators described in an LLVM IR through the Clang frontend.\n",
        "\n",
        "Synthesize /content/bambu-tutorial/01-introduction/Exercise3/matmul.ll, which contains a matrix multiplication kernel generated by [soda-opt](https://gitlab.pnnl.gov/sodalite/soda-opt):"
      ]
    },
    {
      "cell_type": "code",
      "execution_count": null,
      "metadata": {
        "id": ""
      },
      "outputs": [],
      "source": [
        "%cd /content/bambu-tutorial/01-introduction/Exercise3/\n",
        "!bambu matmul.ll --top-fname=main_kernel --generate-tb=test.xml --simulate --simulator=VERILATOR --compiler=I386_CLANG12"
      ]
    },
    {
      "cell_type": "markdown",
      "metadata": {
        "id": ""
      },
      "source": [
        "Note: kernels generated by soda-opt require at least Clang 10."
      ]
    },
    {
      "cell_type": "markdown",
      "metadata": {
        "id": ""
      },
      "source": [
        "## **Exercise 5**\n",
        "\n",
        "Let's go back to the C code that finds minumim and maximum in an array of numbers, and compare performance across different target platforms and frequencies.\n",
        "\n",
        "Start from the given command and modify the options appropriately to test the following combinations:\n",
        "\n",
        "\n",
        "*   xc4vlx100-10ff1513 (Xilinx Virtex 4) – 66MHz\n",
        "*   5SGXEA7N2F45C1 (Intel Stratix V) – 200MHz\n",
        "*   xc7vx690t-3ffg1930-VVD (Xilinx Virtex 7) – 100MHz\n",
        "*   xc7vx690t-3ffg1930-VVD (Xilinx Virtex 7) – 333MHz\n",
        "*   xc7vx690t-3ffg1930-VVD (Xilinx Virtex 7) – 400MHz\n",
        "*   nangate45 (45nm ASIC) – 200MHz\n",
        "\n"
      ]
    },
    {
      "cell_type": "code",
      "execution_count": null,
      "metadata": {
        "id": ""
      },
      "outputs": [],
      "source": [
        "%cd /content/bambu-tutorial/01-introduction/Exercise2\n",
        "!bambu minmax.c --top-fname=min_max --device-name=xc4vlx100-10ff1513 --clock-period=15 --no-iob --simulate --simulator=VERILATOR --generate-tb=testbench.xml"
      ]
    },
    {
      "cell_type": "markdown",
      "metadata": {
        "id": ""
      },
      "source": [
        "Look also at the different simulation and synthesis scripts generated by Bambu."
      ]
    },
    {
      "cell_type": "markdown",
      "metadata": {
        "id": ""
      },
      "source": [
        "## **Exercise 6**\n",
        "\n",
        "Ask Bambu to print a C verion of its internal IR and all relevant graphs:"
      ]
    },
    {
      "cell_type": "code",
      "execution_count": null,
      "metadata": {
        "id": ""
      },
      "outputs": [],
      "source": [
        "!bambu minmax.c --top-fname=min_max --pretty-print=out.c --print-dot"
      ]
    },
    {
      "cell_type": "markdown",
      "metadata": {
        "id": ""
      },
      "source": [
        "Look at /content/bambu-tutorial/01-introduction/Exercise2/out.c and then print the FSM graph:"
      ]
    },
    {
      "cell_type": "code",
      "execution_count": null,
      "metadata": {
        "id": ""
      },
      "outputs": [],
      "source": [
        "from graphviz import Source\n",
        "Source.from_file('HLS_output/dot/min_max/fsm.dot')"
      ]
    },
    {
      "cell_type": "markdown",
      "metadata": {
        "id": ""
      },
      "source": [
        "## **Exercise 7**\n",
        "\n",
        "Bambu automatically enables the synthesis of function proxies to save area.\n",
        "\n",
        "Synthesize the dummy example in /content/bambu-tutorial/01-introduction/Exercise4/proxies.c, and then look for the PROXY_PREF_funcC module in the generated Verilog:\n"
      ]
    },
    {
      "cell_type": "code",
      "execution_count": null,
      "metadata": {
        "id": ""
      },
      "outputs": [],
      "source": [
        "%cd /content/bambu-tutorial/01-introduction/Exercise4/\n",
        "!bambu proxies.c --top-fname=funcA"
      ]
    },
    {
      "cell_type": "markdown",
      "metadata": {
        "id": ""
      },
      "source": [
        "Note: floating point operations are synthesized as functions! Look at the kernels in /content/bambu-tutorial/01-introduction/Exercise5a/helm.c (adapted from the computational fluid dynamics applications in the [EVEREST](https://everest-h2020.eu/) project). Synthesize one of them:"
      ]
    },
    {
      "cell_type": "code",
      "execution_count": null,
      "metadata": {
        "id": ""
      },
      "outputs": [],
      "source": [
        "%cd /content/bambu-tutorial/01-introduction/Exercise5a/\n",
        "!bambu helm.c --top-fname=helm_naive --simulate --simulator=VERILATOR --generate-tb=test.xml --compiler=I386_CLANG6"
      ]
    },
    {
      "cell_type": "markdown",
      "metadata": {
        "id": ""
      },
      "source": [
        "Run the same synthesis disabling function proxies:"
      ]
    },
    {
      "cell_type": "code",
      "execution_count": null,
      "metadata": {
        "id": ""
      },
      "outputs": [],
      "source": [
        "!bambu helm.c --top-fname=helm_naive --simulate --simulator=VERILATOR --generate-tb=test.xml --compiler=I386_CLANG6 --disable-function-proxy"
      ]
    },
    {
      "cell_type": "markdown",
      "metadata": {
        "id": "NKH7rLb8fgk7"
      },
      "source": [
        "## **Exercise 8** \n",
        "Generate an accelerator with outer loop vectorization, try different vector sizes (-fopenmp-simd) and see how performance changes."
      ]
    },
    {
      "cell_type": "code",
      "execution_count": null,
      "metadata": {
        "id": ""
      },
      "outputs": [],
      "source": [
        "%cd /content/bambu-tutorial/04-simd/Exercise1/\n",
        "!bambu --compiler=I386_GCC49 --device-name=5SGXEA7N2F45C1 --simulate -fwhole-program -fno-delete-null-pointer-checks --clock-period=10 --experimental-setup=BAMBU-BALANCED-MP -fdisable-tree-cunroll -fdisable-tree-ivopts --param max-inline-insns-auto=1000 histogram.c -fopenmp-simd=1"
      ]
    },
    {
      "cell_type": "markdown",
      "metadata": {
        "id": ""
      },
      "source": [
        "## **Other examples**\n",
        "\n",
        "You can play around with a set of other examples that contain different applications and showcase different features of Bambu.\n",
        "\n",
        " - /content/bambu-tutorial/01-introduction/Exercise5: LU decomposition\n",
        " - /content/bambu-tutorial/01-introduction/Exercise6: integration of IPs written in Verilog\n",
        " - /content/bambu-tutorial/01-introduction/Exercise7: sorting algorithm\n",
        " - /content/bambu-tutorial/01-introduction/Exercise8: cryptographic core\n",
        " - /content/bambu-tutorial/01-introduction/Exercise9: search and insertion in a binary tree\n"
      ]
    },
    {
      "cell_type": "markdown",
      "metadata": {
        "id": "IlQDB6nqHqz0"
      },
      "source": [
        "# **Optimizations**\n"
      ]
    },
    {
      "cell_type": "markdown",
      "metadata": {
        "id": "dWWTy4TGZLfk"
      },
      "source": [
        "## **Exercise 1** \n",
        "\n",
        "Modify Bambu options to evaluate the effect of:\n",
        "\n",
        "\n",
        "*   different levels of optimization (-O0, -O1, -O2, -O3, -Os)\n",
        "*   vectorization (-ftree-vectorize)\n",
        "*   inlining (-finline-limit=100000)\n",
        "*   different frontend compilers (--compiler={I386_GCC49|I386_GCC7|I386_CLANG6|I386_CLANG12})\n",
        "\n",
        "#### **ADPCM from CHStone benchmark suite**\n",
        "Adaptive Diferential Pulse-Code Modulation is an algorithm used to perform audio compression (mainly in telephony). It is part of the CHStone benchmark suite for C-based HLS tools.\n",
        "* Yuko Hara, Hiroyuki Tomiyama, Shinya Honda and Hiroaki Takada, \"Proposal and Quantitative Analysis of the CHStone Benchmark Program Suite for Practical C-based High-level Synthesis\", *Journal of Information Processing*, Vol. 17, pp.242-254, (2009)."
      ]
    },
    {
      "cell_type": "code",
      "execution_count": null,
      "metadata": {
        "id": "YOXiFqzSIDR9"
      },
      "outputs": [],
      "source": [
        "%cd /content/bambu-tutorial/03-optimizations/Exercise1/\n",
        "!bambu adpcm.c -O0 --simulate"
      ]
    },
    {
      "cell_type": "markdown",
      "metadata": {
        "id": "mJOV50V4IiE2"
      },
      "source": [
        "## **Exercise 2** \n",
        "\n",
        "Use the command that yielded the best result in Exercise 1 and verify if SDC scheduling can introduce further improvements.\n",
        "\n",
        "* -s or --speculative-sdc-scheduling"
      ]
    },
    {
      "cell_type": "code",
      "execution_count": null,
      "metadata": {
        "id": "Qi_ZpIr1IzZ7"
      },
      "outputs": [],
      "source": [
        "%cd /content/bambu-tutorial/03-optimizations/Exercise1/\n",
        "!bambu adpcm.c -O0 --simulate"
      ]
    },
    {
      "cell_type": "markdown",
      "metadata": {
        "id": "StGBkKaJJEfr"
      },
      "source": [
        "## **Exercise 3**\n",
        "\n",
        "Modify Bambu options to evaluate the effect of different integer division implementations.\n",
        "\n",
        "--hls-div=<method\\>\n",
        "* none  - use a HDL based pipelined restoring division\n",
        "* nr1   - use a C-based non-restoring division with unrolling factor equal to 1 (default)\n",
        "* nr2   - use a C-based non-restoring division with unrolling factor equal to 2\n",
        "* NR    - use a C-based Newton-Raphson division\n",
        "* as    - use a C-based align divisor shift dividend method\n",
        "\n",
        "#### **FPDiv from CHStone**\n",
        "Soft floating-point division implementation from the CHStone benchmark suite for C-based HLS.\n",
        "* Yuko Hara, Hiroyuki Tomiyama, Shinya Honda and Hiroaki Takada, \"Proposal and Quantitative Analysis of the CHStone Benchmark Program Suite for Practical C-based High-level Synthesis\", *Journal of Information Processing*, Vol. 17, pp.242-254, (2009).\n"
      ]
    },
    {
      "cell_type": "code",
      "execution_count": null,
      "metadata": {
        "id": "bnEJ4nwuJLfo"
      },
      "outputs": [],
      "source": [
        "%cd /content/bambu-tutorial/03-optimizations/Exercise3/\n",
        "!bambu dfdiv.c --simulate --clock-period=15 --hls-div=none"
      ]
    },
    {
      "cell_type": "markdown",
      "metadata": {
        "id": "YSRwNv1o2Jqx"
      },
      "source": [
        "## **Exercise 4** \n",
        "\n",
        "Write C implementation that compute the following function:\n",
        "\n",
        "# $awesome\\_math(a,b,c) = acos(\\frac{a^2+b^2-c^2}{2ab})$\n",
        "\n",
        "Experiment with single and double precision data types, different softfloat and libm implementations offered by bambu.\n",
        "\n",
        "Start by editing this code and then try different bambu options:\n",
        "* Different floating-point arithmetic implementations (--softfloat, --soft-fp, --flopoco)\n",
        "* Different libm implementations (--libm-std-rounding)\n",
        "* Different square implementation (pow, simple multiplication)"
      ]
    },
    {
      "cell_type": "code",
      "execution_count": null,
      "metadata": {
        "id": "LuhiArbj6XnA"
      },
      "outputs": [],
      "source": [
        "%%writefile /content/bambu-tutorial/03-optimizations/Exercise4/module.c\n",
        "#include <math.h>\n",
        "float awesome_math(float a, float b, float c)\n",
        "{\n",
        "   return acosf((powf(a,2) + powf(b,2) - powf(c,2))/(2*a*b));\n",
        "}"
      ]
    },
    {
      "cell_type": "code",
      "execution_count": null,
      "metadata": {
        "id": "_Rg4Gthy2vDm"
      },
      "outputs": [],
      "source": [
        "%cd /content/bambu-tutorial/03-optimizations/Exercise4/\n",
        "!bambu module.c -O3 -lm --simulate --top-fname=awesome_math --generate-tb=\"a=3.0,b=4.0,c=5.0\" --speculative-sdc-scheduling --libm-std-rounding --hls-div=none --soft-float"
      ]
    },
    {
      "cell_type": "markdown",
      "metadata": {
        "id": "dqYtjGVigqpp"
      },
      "source": [
        "# **Context switching**"
      ]
    },
    {
      "cell_type": "markdown",
      "metadata": {
        "id": "gryqeIGXiRS0"
      },
      "source": [
        "## **Exercise 1** \n",
        "Create a sequential accelerator for the LUBM-t4 benchmark.\n",
        "\n",
        "Edit /common/bambu-tutorial/05-context-switch/Exercise1/bambu.sh as follows:\n",
        "\n",
        "\n",
        "*   set `search` as top function\n",
        "*   specify that all memories need to be allocated outside the accelerator\n",
        "*   set the external memory latency to 20 for both read and write\n",
        "*   add the `test-1.xml` testbench for simulation\n",
        "\n",
        "Hint: you can find out all Bambu options by running `bambu --help`."
      ]
    },
    {
      "cell_type": "code",
      "execution_count": null,
      "metadata": {
        "id": "B-9M47ZxHkui"
      },
      "outputs": [],
      "source": [
        "%cd /content/bambu-tutorial/05-context-switch/Exercise1/\n",
        "!./bambu.sh"
      ]
    },
    {
      "cell_type": "markdown",
      "metadata": {
        "id": "enf-YqUHIK_V"
      },
      "source": [
        "## **Exercise 2** \n",
        "Create a parallel accelerator without context switching.\n",
        "\n",
        "Edit the script with Bambu options as follows:\n",
        "\n",
        "*   specify that 2 copies of the kernel need to be synthesized\n",
        "*   select 4 external memory banks with 2 channels\n",
        "*   disable context switching by setting the correspondent option to 1\n"
      ]
    },
    {
      "cell_type": "code",
      "execution_count": null,
      "metadata": {
        "id": "52HsQm4KaPiH"
      },
      "outputs": [],
      "source": [
        "!./bambu.sh"
      ]
    },
    {
      "cell_type": "markdown",
      "metadata": {
        "id": "b2lheBF0azgJ"
      },
      "source": [
        "## **Exercise 3**\n",
        "Introduce context switching.\n",
        "\n",
        "Keep all options as before, but set 4 logic threads per kernel."
      ]
    },
    {
      "cell_type": "code",
      "execution_count": null,
      "metadata": {
        "id": "rzWIDXyAbVO8"
      },
      "outputs": [],
      "source": [
        "!./bambu.sh"
      ]
    },
    {
      "cell_type": "markdown",
      "metadata": {
        "id": "FiiteRZ5ba6x"
      },
      "source": [
        "## **Exercise 4**\n",
        "Explore different configurations.\n",
        "\n",
        "Change the number of contexts, memory banks and memory channels to find a better solution."
      ]
    },
    {
      "cell_type": "code",
      "execution_count": null,
      "metadata": {
        "id": "lU-kWtVEbZFY"
      },
      "outputs": [],
      "source": [
        "!./bambu.sh"
      ]
    }
  ],
  "metadata": {
    "colab": {
      "collapsed_sections": [],
      "name": "bambu.ipynb",
      "provenance": [],
      "toc_visible": true
    },
    "interpreter": {
      "hash": "c2ded5060c890e0765904e643087c411be8eeadcfb591bbeef60065a3a6a4202"
    },
    "kernelspec": {
      "display_name": "Python 3.9.7 ('base')",
      "language": "python",
      "name": "python3"
    },
    "language_info": {
      "codemirror_mode": {
        "name": "ipython",
        "version": 3
      },
      "file_extension": ".py",
      "mimetype": "text/x-python",
      "name": "python",
      "nbconvert_exporter": "python",
      "pygments_lexer": "ipython3",
      "version": "3.9.7"
    }
  },
  "nbformat": 4,
  "nbformat_minor": 0
}
