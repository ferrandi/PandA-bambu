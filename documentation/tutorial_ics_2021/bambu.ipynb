{
  "cells": [
    {
      "cell_type": "markdown",
      "metadata": {
        "id": "c97blcSRzP24"
      },
      "source": [
        "# **Initial setup**\n",
        "\n",
        "Install Bambu and required packages:"
      ]
    },
    {
      "cell_type": "code",
      "execution_count": null,
      "metadata": {
        "id": "ZoxqLkfA9zqM",
        "tags": [
          "outputPrepend"
        ]
      },
      "outputs": [],
      "source": [
        "!add-apt-repository -y ppa:git-core/ppa\n",
        "!apt-get update\n",
        "!apt-get install -y --no-install-recommends build-essential ca-certificates gcc-multilib git iverilog verilator\n",
        "!wget https://release.bambuhls.eu/appimage/bambu-showcase.AppImage\n",
        "!chmod +x bambu-*.AppImage\n",
        "!ln -sf $PWD/bambu-*.AppImage /bin/bambu\n",
        "!ln -sf $PWD/bambu-*.AppImage /bin/spider\n",
        "!ln -sf $PWD/bambu-*.AppImage /bin/tree-panda-gcc\n",
        "!git clone --depth 1 --filter=blob:none --branch tutorial_2021 --sparse https://github.com/ferrandi/PandA-bambu.git\n",
        "%cd PandA-bambu\n",
        "!git sparse-checkout set documentation/tutorial_ics_2021\n",
        "%cd ..\n",
        "!mv PandA-bambu/documentation/tutorial_ics_2021/ bambu-tutorial"
      ]
    },
    {
      "cell_type": "markdown",
      "metadata": {
        "id": "la-zNHdckW4f"
      },
      "source": [
        "# **Introduction**\n"
      ]
    },
    {
      "cell_type": "markdown",
      "metadata": {
        "id": "la-zNHdckW4f"
      },
      "source": [
        "## **Exercise 1**\n",
        "\n",
        "Have a look at the C code in /content/bambu-tutorial/01-introduction/Exercise1/icrc.c\n",
        "\n",
        "Launch bambu:"
      ]
    },
    {
      "cell_type": "code",
      "execution_count": null,
      "metadata": {
        "id": "pjUguz8lZr_2"
      },
      "outputs": [],
      "source": [
        "%cd /content/bambu-tutorial/01-introduction/Exercise1\n",
        "!bambu icrc.c --top-fname=icrc1 --simulator=VERILATOR --simulate --generate-tb=test_icrc1.xml -v2 --print-dot --pretty-print=a.c 2>&1 | tee icrc1.log"
      ]
    },
    {
      "cell_type": "markdown",
      "metadata": {
        "id": "zXTGPFLA1Dmj"
      },
      "source": [
        "Inspect the generated files in the explorer tab on the left:\n",
        "\n",
        "*   icrc1.v\n",
        "*   test_icrc1.xml\n",
        "*   simulate_icrc1.sh\n",
        "*   synthesize_Synthesis_icrc1.sh\n",
        "*   a.c\n",
        "\n",
        "\n",
        "\n",
        "Visualize the FSM:"
      ]
    },
    {
      "cell_type": "code",
      "execution_count": null,
      "metadata": {
        "id": "IYUayuTqzb2I"
      },
      "outputs": [],
      "source": [
        "from graphviz import Source\n",
        "Source.from_file('HLS_output/dot/icrc1/HLS_STGraph.dot')"
      ]
    },
    {
      "cell_type": "markdown",
      "metadata": {
        "id": "cZUdpPMNA-Vk"
      },
      "source": [
        "## **Exercise 2**\n",
        "\n",
        "Look into /content/bambu-tutorial/01-introduction/Exercise2/tree.c\n",
        "\n",
        "Search and insertion in a binary tree\n",
        " - Two data structures: stack and binary tree\n",
        " - Static memory allocators\n",
        " - Tail recursive functions\n",
        " - Use of pointer to pointers (some HLSs have problems)"
      ]
    },
    {
      "cell_type": "code",
      "execution_count": null,
      "metadata": {
        "id": "IoMlPfH7-wMD"
      },
      "outputs": [],
      "source": [
        "%cd /content/bambu-tutorial/01-introduction/Exercise2\n",
        "!./bambu.sh"
      ]
    },
    {
      "cell_type": "markdown",
      "metadata": {
        "id": "5oTPfkiRQ_HO"
      },
      "source": [
        "Inspect the generated files in the explorer tab on the left:\n",
        "\n",
        "*   bambu.sh\n",
        "*   profiling_results.txt"
      ]
    },
    {
      "cell_type": "markdown",
      "metadata": {
        "id": "A50OIi5sS_6C"
      },
      "source": [
        "\n",
        "## **Exercise 3**\n",
        "\n",
        "/content/bambu-tutorial/01-introduction/Exercise3/Keccak.c\n",
        "\n",
        "Crypto core: synthesis starting from .ll"
      ]
    },
    {
      "cell_type": "code",
      "execution_count": null,
      "metadata": {
        "id": "RempES6CTcvl"
      },
      "outputs": [],
      "source": [
        "%cd /content/bambu-tutorial/01-introduction/Exercise3/\n",
        "!./bambu.sh"
      ]
    },
    {
      "cell_type": "markdown",
      "metadata": {
        "id": "TDEuJ3fLUIVH"
      },
      "source": [
        "Inspect the generated files in the explorer tab on the left:\n",
        "\n",
        "* bambu.sh\n",
        "* test.ll"
      ]
    },
    {
      "cell_type": "markdown",
      "metadata": {
        "id": "u55xe2k1YikL"
      },
      "source": [
        "Same crypto core but with clang11\n"
      ]
    },
    {
      "cell_type": "code",
      "execution_count": null,
      "metadata": {
        "id": "uxDYcFVDYRbM"
      },
      "outputs": [],
      "source": [
        "%cd /content/bambu-tutorial/01-introduction/Exercise3/\n",
        "!./bambu-clang11.sh\n"
      ]
    },
    {
      "cell_type": "markdown",
      "metadata": {
        "id": "70S_CvTsZLcr"
      },
      "source": [
        "## **Exercise 4**\n",
        "\n",
        "/content/bambu-tutorial/01-introduction/Exercise4/LUdecomposition.c"
      ]
    },
    {
      "cell_type": "code",
      "execution_count": null,
      "metadata": {
        "id": "rVVbmuOLaDyk"
      },
      "outputs": [],
      "source": [
        "%cd /content/bambu-tutorial/01-introduction/Exercise4/\n",
        "!./bambu.sh"
      ]
    },
    {
      "cell_type": "code",
      "execution_count": null,
      "metadata": {
        "id": "pb72PNDCaWJY"
      },
      "outputs": [],
      "source": [
        "from graphviz import Source\n",
        "Source.from_file('ludecomp/HLS_output/dot/call_graph.dot')"
      ]
    },
    {
      "cell_type": "markdown",
      "metadata": {
        "id": "xOdDf6q7bocd"
      },
      "source": [
        "## **Exercise 5**\n",
        "\n",
        "/content/bambu-tutorial/01-introduction/Exercise5/main_test.c\n"
      ]
    },
    {
      "cell_type": "code",
      "execution_count": null,
      "metadata": {
        "id": "CyB40S-wcAsN"
      },
      "outputs": [],
      "source": [
        "%cd /content/bambu-tutorial/01-introduction/Exercise5/\n",
        "!./bambu.sh"
      ]
    },
    {
      "cell_type": "markdown",
      "metadata": {
        "id": "IUtMMEpPc-qB"
      },
      "source": [
        "## **Exercise 6**\n",
        "\n",
        "- /content/bambu-tutorial/01-introduction/Exercise6/test.c \n",
        "- /content/bambu-tutorial/01-introduction/Exercise6/less.c \n",
        "- /content/bambu-tutorial/01-introduction/Exercise6/qsort.c"
      ]
    },
    {
      "cell_type": "code",
      "execution_count": null,
      "metadata": {
        "id": "vPpnKBSidsQf"
      },
      "outputs": [],
      "source": [
        "%cd /content/bambu-tutorial/01-introduction/Exercise6/\n",
        "!./bambu.sh"
      ]
    },
    {
      "cell_type": "markdown",
      "metadata": {
        "id": "J6sGI0m8fJ1J"
      },
      "source": [
        "# **Target selection and tool integration**"
      ]
    },
    {
      "cell_type": "markdown",
      "metadata": {
        "id": "BZdmA4VKfyzL"
      },
      "source": [
        "## **Exercise 1**\n",
        "\n",
        "Synthesize a module that returns the minimum and maximum value in an array of integers with arbitrary size.\n",
        "Start by modifying the code below:"
      ]
    },
    {
      "cell_type": "code",
      "execution_count": null,
      "metadata": {
        "id": "Qk6YNsG6hFS8"
      },
      "outputs": [],
      "source": [
        "%%writefile /content/bambu-tutorial/02-target_customization/Exercise1/minmax.c\n",
        "void max(int input[10], int* out_max)\n",
        "{\n",
        "   int local_max = input[0];\n",
        "   int i = 0;\n",
        "   for(i = 0; i < 10; i++)\n",
        "   {\n",
        "      if(input[i] > local_max)\n",
        "      {\n",
        "         local_max = input[i];\n",
        "      }\n",
        "   }\n",
        "   *out_max = local_max;\n",
        "}"
      ]
    },
    {
      "cell_type": "markdown",
      "metadata": {
        "id": "l2LzyiJbhMIs"
      },
      "source": [
        "Synthesize with Bambu:"
      ]
    },
    {
      "cell_type": "code",
      "execution_count": null,
      "metadata": {
        "id": "ghLrn4d0hOH_"
      },
      "outputs": [],
      "source": [
        "%cd /content/bambu-tutorial/02-target_customization/Exercise1/\n",
        "!bambu minmax.c --top-fname=max"
      ]
    },
    {
      "cell_type": "markdown",
      "metadata": {
        "id": "mJgyQoCPBfAz"
      },
      "source": [
        "## **Exercise 2**\n",
        "\n",
        "Write a testbench to test arrays with different elements and different sizes.\n",
        "\n",
        "Start by modifying the code below **(change parameter names so that they correspond to function arguments in your code)**:"
      ]
    },
    {
      "cell_type": "code",
      "execution_count": null,
      "metadata": {
        "id": "5oOodjt2Bz9P"
      },
      "outputs": [],
      "source": [
        "%%writefile /content/bambu-tutorial/02-target_customization/Exercise1/testbench.xml\n",
        "<?xml version=\"1.0\"?>\n",
        "<function>\n",
        "   <testbench input=\"{0,1,2,3,4}\" num_elements=\"5\" out_max=\"{0}\" out_min=\"{0}\"/>\n",
        "</function>"
      ]
    },
    {
      "cell_type": "code",
      "execution_count": null,
      "metadata": {
        "id": "_n8JLBQYCzIA"
      },
      "outputs": [],
      "source": [
        "!bambu minmax.c --top-fname=max --generate-tb=testbench.xml --simulate"
      ]
    },
    {
      "cell_type": "markdown",
      "metadata": {
        "id": "cbLOvR1FEFoP"
      },
      "source": [
        "## **Exercise 3**\n",
        "Compare simulations across different target platforms and frequencies.\n",
        "\n",
        "Start from the given command and modify the options appropriately to test the following combinations:\n",
        "\n",
        "\n",
        "*   xc4vlx100-10ff1513 (Xilinx Virtex 4) – 66MHz\n",
        "*   5SGXEA7N2F45C1 (Intel Stratix V) – 200MHz\n",
        "*   xc7vx690t-3ffg1930-VVD (Xilinx Virtex 7) – 100MHz\n",
        "*   xc7vx690t-3ffg1930-VVD (Xilinx Virtex 7) – 333MHz\n",
        "*   xc7vx690t-3ffg1930-VVD (Xilinx Virtex 7) – 400MHz\n",
        "\n"
      ]
    },
    {
      "cell_type": "code",
      "execution_count": null,
      "metadata": {
        "id": "FryYdWLmEh81"
      },
      "outputs": [],
      "source": [
        "!bambu minmax.c --device-name=xc4vlx100-10ff1513 --clock-period=15 --simulate --generate-tb=testbench.xml"
      ]
    },
    {
      "cell_type": "markdown",
      "metadata": {
        "id": "IlQDB6nqHqz0"
      },
      "source": [
        "# **Optimizations**\n"
      ]
    },
    {
      "cell_type": "markdown",
      "metadata": {
        "id": "dWWTy4TGZLfk"
      },
      "source": [
        "## **Exercise 1** \n",
        "\n",
        "Modify Bambu options to evaluate the effect of:\n",
        "\n",
        "\n",
        "*   different levels of optimization (-O0, -O1, -O2, -O3, -Os)\n",
        "*   vectorization (-ftree-vectorize)\n",
        "*   inlining (-finline-limit=100000)\n",
        "*   different frontend compilers (--compiler={I386_GCC49|I386_GCC7|I386_CLANG6|I386_CLANG11})\n",
        "\n",
        "#### **ADPCM from CHStone benchmark suite**\n",
        "Adaptive Diferential Pulse-Code Modulation is an algorithm used to perform audio compression (mainly in telephony). It is part of the CHStone benchmark suite for C-based HLS tools.\n",
        "* Yuko Hara, Hiroyuki Tomiyama, Shinya Honda and Hiroaki Takada, \"Proposal and Quantitative Analysis of the CHStone Benchmark Program Suite for Practical C-based High-level Synthesis\", *Journal of Information Processing*, Vol. 17, pp.242-254, (2009)."
      ]
    },
    {
      "cell_type": "code",
      "execution_count": null,
      "metadata": {
        "id": "YOXiFqzSIDR9"
      },
      "outputs": [],
      "source": [
        "%cd /content/bambu-tutorial/03-optimizations/Exercise1/\n",
        "!bambu adpcm.c -O0 --simulate"
      ]
    },
    {
      "cell_type": "markdown",
      "metadata": {
        "id": "mJOV50V4IiE2"
      },
      "source": [
        "## **Exercise 2** \n",
        "\n",
        "Use the command that yielded the best result in Exercise 1 and verify if SDC scheduling can introduce further improvements.\n",
        "\n",
        "* -s or --speculative-sdc-scheduling"
      ]
    },
    {
      "cell_type": "code",
      "execution_count": null,
      "metadata": {
        "id": "Qi_ZpIr1IzZ7"
      },
      "outputs": [],
      "source": [
        "%cd /content/bambu-tutorial/03-optimizations/Exercise1/\n",
        "!bambu adpcm.c -O0 --simulate"
      ]
    },
    {
      "cell_type": "markdown",
      "metadata": {
        "id": "StGBkKaJJEfr"
      },
      "source": [
        "## **Exercise 3**\n",
        "\n",
        "Modify Bambu options to evaluate the effect of different integer division implementations.\n",
        "\n",
        "--hls-div=<method\\>\n",
        "* none  - use a HDL based pipelined restoring division\n",
        "* nr1   - use a C-based non-restoring division with unrolling factor equal to 1 (default)\n",
        "* nr2   - use a C-based non-restoring division with unrolling factor equal to 2\n",
        "* NR    - use a C-based Newton-Raphson division\n",
        "* as    - use a C-based align divisor shift dividend method\n",
        "\n",
        "#### **FPDiv from CHStone**\n",
        "Soft floating-point division implementation from the CHStone benchmark suite for C-based HLS.\n",
        "* Yuko Hara, Hiroyuki Tomiyama, Shinya Honda and Hiroaki Takada, \"Proposal and Quantitative Analysis of the CHStone Benchmark Program Suite for Practical C-based High-level Synthesis\", *Journal of Information Processing*, Vol. 17, pp.242-254, (2009).\n"
      ]
    },
    {
      "cell_type": "code",
      "execution_count": null,
      "metadata": {
        "id": "bnEJ4nwuJLfo"
      },
      "outputs": [],
      "source": [
        "%cd /content/bambu-tutorial/03-optimizations/Exercise3/\n",
        "!bambu dfdiv.c --simulate --clock-period=15 --hls-div=none"
      ]
    },
    {
      "cell_type": "markdown",
      "metadata": {
        "id": "YSRwNv1o2Jqx"
      },
      "source": [
        "## **Exercise 4** \n",
        "\n",
        "Write C implementation that compute the following function:\n",
        "\n",
        "# $awesome\\_math(a,b,c) = acos(\\frac{a^2+b^2-c^2}{2ab})$\n",
        "\n",
        "Experiment with single and double precision data types, different softfloat and libm implementations offered by bambu.\n",
        "\n",
        "Start by editing this code and then try different bambu options:\n",
        "* Different floating-point arithmetic implementations (--softfloat, --soft-fp, --flopoco)\n",
        "* Different libm implementations (--libm-std-rounding)\n",
        "* Different square implementation (pow, simple multiplication)"
      ]
    },
    {
      "cell_type": "code",
      "execution_count": null,
      "metadata": {
        "id": "LuhiArbj6XnA"
      },
      "outputs": [],
      "source": [
        "%%writefile /content/bambu-tutorial/03-optimizations/Exercise4/module.c\n",
        "#include <math.h>\n",
        "float awesome_math(float a, float b, float c)\n",
        "{\n",
        "   return acosf((powf(a,2) + powf(b,2) - powf(c,2))/(2*a*b));\n",
        "}"
      ]
    },
    {
      "cell_type": "code",
      "execution_count": null,
      "metadata": {
        "id": "_Rg4Gthy2vDm"
      },
      "outputs": [],
      "source": [
        "%cd /content/bambu-tutorial/03-optimizations/Exercise4/\n",
        "!bambu module.c -O3 -lm --simulate --top-fname=awesome_math --generate-tb=\"a=3.0,b=4.0,c=5.0\" --speculative-sdc-scheduling --libm-std-rounding --hls-div=none --soft-float"
      ]
    },
    {
      "cell_type": "markdown",
      "metadata": {
        "id": "RLfPwBYWgl9v"
      },
      "source": [
        "# **SIMD vectorization**"
      ]
    },
    {
      "cell_type": "markdown",
      "metadata": {
        "id": "NKH7rLb8fgk7"
      },
      "source": [
        "## **Exercise 1** \n",
        "Generate an accelerator with vector size of 1.\n"
      ]
    },
    {
      "cell_type": "code",
      "execution_count": null,
      "metadata": {
        "id": "5isGCK0jgykN"
      },
      "outputs": [],
      "source": [
        "%cd /content/bambu-tutorial/04-simd/Exercise1/\n",
        "!bambu --compiler=I386_GCC49 --device-name=5SGXEA7N2F45C1 --simulate -fwhole-program -fno-delete-null-pointer-checks --clock-period=10 --experimental-setup=BAMBU-BALANCED-MP -fdisable-tree-cunroll -fdisable-tree-ivopts --param max-inline-insns-auto=1000 histogram.c -fopenmp-simd=1 --pretty-print=output.c"
      ]
    },
    {
      "cell_type": "markdown",
      "metadata": {
        "id": "sduMUHPag6FE"
      },
      "source": [
        "Look into **output.c** to see the effects of code transformations."
      ]
    },
    {
      "cell_type": "markdown",
      "metadata": {
        "id": "Luq_0W6YhbnO"
      },
      "source": [
        "## **Exercise 2** \n",
        "**Edit** Bambu options to generate an accelerator with vector size of 4 and evaluate the speed-up."
      ]
    },
    {
      "cell_type": "code",
      "execution_count": null,
      "metadata": {
        "id": "_JyDjCrchnaq"
      },
      "outputs": [],
      "source": [
        "!bambu --compiler=I386_GCC49 --device-name=5SGXEA7N2F45C1 --simulate -fwhole-program -fno-delete-null-pointer-checks --clock-period=10 --experimental-setup=BAMBU-BALANCED-MP -fdisable-tree-cunroll -fdisable-tree-ivopts --param max-inline-insns-auto=1000 histogram.c -fopenmp-simd=1 --pretty-print=output.c"
      ]
    },
    {
      "cell_type": "markdown",
      "metadata": {
        "id": "g5VDY9N3h4cv"
      },
      "source": [
        "## **Exercise 3** \n",
        "**Edit** Bambu options to generate accelerators with vector size equal to 2, 3, 4, and 8; evaluate the speed-up."
      ]
    },
    {
      "cell_type": "code",
      "execution_count": null,
      "metadata": {
        "id": "_OTW8OrNiJTe"
      },
      "outputs": [],
      "source": [
        "!bambu --compiler=I386_GCC49 --device-name=5SGXEA7N2F45C1 --simulate -fwhole-program -fno-delete-null-pointer-checks --clock-period=10 --experimental-setup=BAMBU-BALANCED-MP -fdisable-tree-cunroll -fdisable-tree-ivopts --param max-inline-insns-auto=1000 histogram.c -fopenmp-simd=1 --pretty-print=output.c"
      ]
    },
    {
      "cell_type": "markdown",
      "metadata": {
        "id": "dqYtjGVigqpp"
      },
      "source": [
        "# **Context switching**"
      ]
    },
    {
      "cell_type": "markdown",
      "metadata": {
        "id": "gryqeIGXiRS0"
      },
      "source": [
        "## **Exercise 1** \n",
        "Create a sequential accelerator for the LUBM-t4 benchmark.\n",
        "\n",
        "Edit /common/bambu-tutorial/05-context-switch/Exercise1/bambu.sh as follows:\n",
        "\n",
        "\n",
        "*   set `search` as top function\n",
        "*   specify that all memories need to be allocated outside the accelerator\n",
        "*   set the external memory latency to 20 for both read and write\n",
        "*   add the `test-1.xml` testbench for simulation\n",
        "\n",
        "Hint: you can find out all Bambu options by running `bambu --help`."
      ]
    },
    {
      "cell_type": "code",
      "execution_count": null,
      "metadata": {
        "id": "B-9M47ZxHkui"
      },
      "outputs": [],
      "source": [
        "%cd /content/bambu-tutorial/05-context-switch/Exercise1/\n",
        "!./bambu.sh"
      ]
    },
    {
      "cell_type": "markdown",
      "metadata": {
        "id": "enf-YqUHIK_V"
      },
      "source": [
        "## **Exercise 2** \n",
        "Create a parallel accelerator without context switching.\n",
        "\n",
        "Edit the script with Bambu options as follows:\n",
        "\n",
        "*   specify that 2 copies of the kernel need to be synthesized\n",
        "*   select 4 external memory banks with 2 channels\n",
        "*   disable context switching by setting the correspondent option to 1\n"
      ]
    },
    {
      "cell_type": "code",
      "execution_count": null,
      "metadata": {
        "id": "52HsQm4KaPiH"
      },
      "outputs": [],
      "source": [
        "!./bambu.sh"
      ]
    },
    {
      "cell_type": "markdown",
      "metadata": {
        "id": "b2lheBF0azgJ"
      },
      "source": [
        "## **Exercise 3**\n",
        "Introduce context switching.\n",
        "\n",
        "Keep all options as before, but set 4 logic threads per kernel."
      ]
    },
    {
      "cell_type": "code",
      "execution_count": null,
      "metadata": {
        "id": "rzWIDXyAbVO8"
      },
      "outputs": [],
      "source": [
        "!./bambu.sh"
      ]
    },
    {
      "cell_type": "markdown",
      "metadata": {
        "id": "FiiteRZ5ba6x"
      },
      "source": [
        "## **Exercise 4**\n",
        "Explore different configurations.\n",
        "\n",
        "Change the number of contexts, memory banks and memory channels to find a better solution."
      ]
    },
    {
      "cell_type": "code",
      "execution_count": null,
      "metadata": {
        "id": "lU-kWtVEbZFY"
      },
      "outputs": [],
      "source": [
        "!./bambu.sh"
      ]
    }
  ],
  "metadata": {
    "colab": {
      "collapsed_sections": [],
      "name": "bambu.ipynb",
      "provenance": [],
      "toc_visible": true
    },
    "kernelspec": {
      "display_name": "Python 3",
      "language": "python",
      "name": "python3"
    }
  },
  "nbformat": 4,
  "nbformat_minor": 0
}