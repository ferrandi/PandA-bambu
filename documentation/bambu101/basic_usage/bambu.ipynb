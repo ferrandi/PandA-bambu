{
  "cells": [
    {
      "cell_type": "markdown",
      "metadata": {
        "id": ""
      },
      "source": [
        "# **Initial setup**\n",
        "\n",
        "Install Bambu and required packages:"
      ]
    },
    {
      "cell_type": "code",
      "execution_count": null,
      "metadata": {
        "id": ""
      },
      "outputs": [],
      "source": [
        "!echo \"deb http://ppa.launchpad.net/git-core/ppa/ubuntu $(cat /etc/os-release | grep UBUNTU_CODENAME | sed 's/.*=//g') main\" >> /etc/apt/sources.list.d/git-core.list\n",
        "!apt-key adv --keyserver keyserver.ubuntu.com --recv-keys A1715D88E1DF1F24\n",
        "!apt-get update\n",
        "!apt-get install -y --no-install-recommends build-essential ca-certificates gcc-multilib git verilator wget\n",
        "!wget https://release.bambuhls.eu/appimage/bambu-latest.AppImage\n",
        "!chmod +x bambu-*.AppImage\n",
        "!ln -sf $PWD/bambu-*.AppImage /bin/bambu\n",
        "!ln -sf $PWD/bambu-*.AppImage /bin/spider\n",
        "!ln -sf $PWD/bambu-*.AppImage /bin/tree-panda-gcc\n",
        "!git clone --depth 1 --filter=blob:none --branch doc/bambu101 --sparse https://github.com/ferrandi/PandA-bambu.git\n",
        "%cd PandA-bambu\n",
        "!git sparse-checkout set documentation/bambu101\n",
        "%cd ..\n",
        "!mv PandA-bambu/documentation/bambu101/* ."
      ]
    },
    {
      "cell_type": "markdown",
      "metadata": {},
      "source": [
        "# What does High-Level Synthesis do?\n",
        "The High-Level Synthesis process transforms an high-level language description into an hardware design. The input representation can be any high-level language supported by the HLS tool (i.e.: C/C++,FORTRAN,SystemC) which takes care of both optimization and translation to the output RTL-level language (i.e.: Verilog, VHDL).\n",
        "\n",
        "The flow is similar to that of a standard compiler like GCC/Clang while after preprocessing and generic optimization of the input description further hardware-oriented transformations are applied to the code. Finally, the backend takes care of translating the code into an hardware design instantiating functional units, generating a schedule for the operations, and binding each operation to a functional unit."
      ]
    },
    {
      "cell_type": "markdown",
      "metadata": {},
      "source": [
        "## Input application\n",
        "The HLS tool requires an input description of the application to be translated into hardware: it can be any type of application given it has a single top level function which handles all the inputs and outputs.\n",
        "\n",
        "As an example an implementation of a CRC kernel is used: /content/basic_usage/icrc.c"
      ]
    },
    {
      "cell_type": "markdown",
      "metadata": {},
      "source": [
        "## Minimal set of parameters\n",
        "The HLS tool also requires some specification about the expected output interface to be generated.\n",
        "\n",
        "### Top level interface\n",
        "As a standard compiler needs a main function to know where to start, the HLS tool needs a top level interface to be used as the interface of the generated hardware module.\n",
        "Following the CRC example, this can be specified through the --top-fname=icrc1 command line option. This will let the HLS tool know the hardware design interface has to be the same of function icrc1 from the input representation.\n",
        "\n",
        "### Target hardware device\n",
        "The HLS tool needs to know what is the hardware target for which the RTL description needs to be generated since different assumptions are made based on the target device. \n",
        "For this example a Xilinx FPGA board has been selected (xc7z020-1clg484) and is required through the --device-name=xc7z020-1clg484-VVD command line option.\n",
        "Furthermore, the required clock period of the generated accelerator needs to be specified throgh the --clock-period option. For a target frequency of 200MHz --clock-period=5 has to be used, as an example.\n",
        "\n",
        "### Generated design verification\n",
        "Bambu HLS offers the possibility to generate some additional code to run a verification of the output design with respect to the input representation. This can be required by passing an xml file where the top level interface parameters for the test are specified.\n",
        "This is shown in the following: each testbench entry contains the two parameters of the icrc1 function.\n",
        "The file is passed to the tool through --generate-tb=test.icrc1.xml.\n",
        "Output values are automatically gathered from live execution of the input code and stored into the generated verification IP. "
      ]
    },
    {
      "cell_type": "code",
      "execution_count": null,
      "metadata": {},
      "outputs": [],
      "source": [
        "%%writefile /content/basic_usage/test.icrc1.xml\n",
        "<?xml version=\"1.0\"?>\n",
        "<function>\n",
        "   <testbench crc=\"6452\" onech=\"5\" />\n",
        "   <testbench crc=\"942856\" onech=\"3\" />\n",
        "</function>"
      ]
    },
    {
      "cell_type": "markdown",
      "metadata": {},
      "source": [
        "## Generating the accelerator\n",
        "We are now ready to generate the hardware design of the icrc1 function using the following:"
      ]
    },
    {
      "cell_type": "code",
      "execution_count": null,
      "metadata": {},
      "outputs": [],
      "source": [
        "%cd /content/basic_usage \n",
        "!bambu icrc1.c --top-fname=icrc1 --device-name=xc7z020-1clg484-VVD --clock-period=5 --generate-tb=test.icrc1.xml --simulate |& tee log.txt"
      ]
    },
    {
      "cell_type": "markdown",
      "metadata": {},
      "source": [
        "# Output hardware design\n",
        "After the High-Level Synthesis process has completed successfully, the user can find the generated RTL design in the /content/basic_usage/icrc1.v file.\n",
        "\n",
        "The HLS tool also generates a synthesis script /content/basic_usage/synthesize_Synthesis_icrc1.sh along with the Verilog description so that it can be used to run the vendor specific synthesis tool to generate the bitstream for the target FPGA."
      ]
    }
  ],
  "metadata": {
    "colab": {
      "collapsed_sections": [],
      "name": "bambu.ipynb",
      "provenance": [],
      "toc_visible": true
    },
    "kernelspec": {
      "display_name": "Python 3",
      "language": "python",
      "name": "python3"
    }
  },
  "nbformat": 4,
  "nbformat_minor": 0
}
