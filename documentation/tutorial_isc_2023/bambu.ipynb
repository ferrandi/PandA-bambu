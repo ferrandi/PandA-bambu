{
  "cells": [
    {
      "cell_type": "markdown",
      "metadata": {
        "id": ""
      },
      "source": [
        "# **Initial setup**\n",
        "\n",
        "Install Bambu and required packages:"
      ]
    },
    {
      "cell_type": "code",
      "execution_count": null,
      "metadata": {
        "id": ""
      },
      "outputs": [],
      "source": [
        "!echo \"deb http://ppa.launchpad.net/git-core/ppa/ubuntu $(cat /etc/os-release | grep UBUNTU_CODENAME | sed 's/.*=//g') main\" >> /etc/apt/sources.list.d/git-core.list\n",
        "!apt-key adv --keyserver keyserver.ubuntu.com --recv-keys A1715D88E1DF1F24\n",
        "!apt-get update\n",
        "!apt-get install -y --no-install-recommends build-essential ca-certificates gcc-multilib git iverilog verilator wget\n",
        "!wget https://release.bambuhls.eu/appimage/bambu-latest.AppImage\n",
        "!chmod +x bambu-*.AppImage\n",
        "!ln -sf $PWD/bambu-*.AppImage /bin/bambu\n",
        "!ln -sf $PWD/bambu-*.AppImage /bin/spider\n",
        "!ln -sf $PWD/bambu-*.AppImage /bin/tree-panda-gcc\n",
        "!ln -sf $PWD/bambu-*.AppImage /bin/clang-12\n",
        "!git clone --depth 1 --filter=blob:none --sparse https://github.com/ferrandi/PandA-bambu.git -b feature/tutorial_isc23\n",
        "%cd PandA-bambu\n",
        "!git sparse-checkout set documentation/tutorial_isc_2023 \n",
        "%cd ..\n",
        "!mv PandA-bambu/documentation/tutorial_isc_2023/ bambu-tutorial"
      ]
    },
    {
      "cell_type": "markdown",
      "metadata": {
        "id": ""
      },
      "source": [
        "# **Productive HLS with Bambu**\n"
      ]
    },
    {
      "cell_type": "markdown",
      "metadata": {
        "id": ""
      },
      "source": [
        "## **Exercise 1**\n",
        "\n",
        "Have a look at the C code in /content/bambu-tutorial/01-introduction/Exercise1/icrc.c\n",
        "\n",
        "Launch bambu:"
      ]
    },
    {
      "cell_type": "code",
      "execution_count": null,
      "metadata": {
        "id": ""
      },
      "outputs": [],
      "source": [
        "%cd /content/bambu-tutorial/01-introduction/Exercise1\n",
        "!bambu icrc.c --top-fname=icrc1"
      ]
    },
    {
      "cell_type": "markdown",
      "metadata": {
        "id": ""
      },
      "source": [
        "Inspect the generated Verilog file in the explorer tab on the left (icrc1.v)\n"
      ]
    },
    {
      "cell_type": "markdown",
      "metadata": {
        "id": ""
      },
      "source": [
        "Take a brief look at the available Bambu options:\n"
      ]
    },
    {
      "cell_type": "code",
      "execution_count": null,
      "metadata": {
        "id": ""
      },
      "outputs": [],
      "source": [
        "!bambu --help"
      ]
    },
    {
      "cell_type": "markdown",
      "metadata": {
        "id": ""
      },
      "source": [
        "Modify the command line to change the amount of debug information displayed, and generate VHDL instead of Verilog code:\n"
      ]
    },
    {
      "cell_type": "code",
      "execution_count": null,
      "metadata": {
        "id": ""
      },
      "outputs": [],
      "source": [
        "!bambu icrc.c --top-fname=icrc1 -wH"
      ]
    },
    {
      "cell_type": "markdown",
      "metadata": {
        "id": ""
      },
      "source": [
        "## **Exercise 2**\n",
        "\n",
        "We remain on the same input C code as before, let's add co-simulation:\n"
      ]
    },
    {
      "cell_type": "code",
      "execution_count": null,
      "metadata": {
        "id": ""
      },
      "outputs": [],
      "source": [
        "%cd /content/bambu-tutorial/01-introduction/Exercise1\n",
        "!bambu icrc.c --top-fname=icrc1 --simulate --simulator=VERILATOR"
      ]
    },
    {
      "cell_type": "markdown",
      "metadata": {
        "id": ""
      },
      "source": [
        "We did not specify any input values. Inspect what Bambu generated automatically:"
      ]
    },
    {
      "cell_type": "code",
      "execution_count": null,
      "metadata": {
        "id": ""
      },
      "outputs": [],
      "source": [
        "!cat test.xml"
      ]
    },
    {
      "cell_type": "markdown",
      "metadata": {
        "id": ""
      },
      "source": [
        "You can find the actual testbench in HLS_output/simulation."
      ]
    },
    {
      "cell_type": "markdown",
      "metadata": {
        "id": ""
      },
      "source": [
        "## **Exercise 3**\n",
        "\n",
        "Implement and synthesize a module that returns the minimum and maximum value in an array of integers with arbitrary size.\n",
        "\n",
        "Write the input C code starting from this snippet:"
      ]
    },
    {
      "cell_type": "code",
      "execution_count": null,
      "metadata": {
        "id": ""
      },
      "outputs": [],
      "source": [
        "%%writefile /content/bambu-tutorial/01-introduction/Exercise2/minmax.c\n",
        "void min_max(int * input, int num_elements, int * max, int * min)\n",
        "{\n",
        "   int local_max = input[0];\n",
        "   int local_min = input[0];\n",
        "   int i = 0;\n",
        "   for(i = 0; i < num_elements; i++)\n",
        "   {\n",
        "      if(input[i] > local_max)\n",
        "      {\n",
        "         local_max = input[i];\n",
        "      }\n",
        "      else if(input[i] < local_min)\n",
        "      {\n",
        "         local_min = input[i];\n",
        "      }\n",
        "   }\n",
        "   *min = local_min;\n",
        "   *max = local_max;\n",
        "}"
      ]
    },
    {
      "cell_type": "markdown",
      "metadata": {
        "id": ""
      },
      "source": [
        "Write a testbench to test arrays with different elements and different sizes.\n",
        "\n",
        "Start from the XML snippet below **(parameter names need to correspond to function arguments in your code)**:"
      ]
    },
    {
      "cell_type": "code",
      "execution_count": null,
      "metadata": {
        "id": ""
      },
      "outputs": [],
      "source": [
        "%%writefile /content/bambu-tutorial/01-introduction/Exercise2/testbench.xml\n",
        "<?xml version=\"1.0\"?>\n",
        "<function>\n",
        "   <testbench input=\"{0,1,2,3,4}\" num_elements=\"5\" max=\"{0}\" min=\"{0}\"/>\n",
        "   <testbench input=\"{0,1,2,3,4,5,6,7,8,9}\" num_elements=\"10\" max=\"{0}\" min=\"{0}\"/>\n",
        "   <testbench input=\"{0,0,0,0,0,0,0,0,0,0}\" num_elements=\"10\" max=\"{0}\" min=\"{0}\"/>\n",
        "   <testbench input=\"{0}\" num_elements=\"1\" max=\"{0}\" min=\"{0}\"/>\n",
        "</function>"
      ]
    },
    {
      "cell_type": "markdown",
      "metadata": {
        "id": ""
      },
      "source": [
        "Synthesize with Bambu and simulate with Verilator **(double check the command line if you changed file/function names)**:"
      ]
    },
    {
      "cell_type": "code",
      "execution_count": null,
      "metadata": {
        "id": ""
      },
      "outputs": [],
      "source": [
        "%cd /content/bambu-tutorial/01-introduction/Exercise2/\n",
        "!bambu minmax.c --top-fname=min_max --generate-tb=testbench.xml --simulate --simulator=VERILATOR"
      ]
    },
    {
      "cell_type": "markdown",
      "metadata": {
        "id": ""
      },
      "source": [
        "What happens if you pass an array with a different number of elements than what is specified in num_elements? **(remember to fix the XML file afterwards, we will need it again)**"
      ]
    },
    {
      "cell_type": "markdown",
      "metadata": {
        "id": ""
      },
      "source": [
        "## **Exercise 4**\n",
        "\n",
        "Bambu can synthesize accelerators described in an LLVM IR through the Clang frontend.\n",
        "\n",
        "Synthesize /content/bambu-tutorial/01-introduction/Exercise3/matmul.ll, which contains a matrix multiplication kernel generated by [soda-opt](https://gitlab.pnnl.gov/sodalite/soda-opt):"
      ]
    },
    {
      "cell_type": "code",
      "execution_count": null,
      "metadata": {
        "id": ""
      },
      "outputs": [],
      "source": [
        "%cd /content/bambu-tutorial/01-introduction/Exercise3/\n",
        "!bambu matmul.ll --top-fname=main_kernel --generate-tb=test.xml --simulate --simulator=VERILATOR --compiler=I386_CLANG13"
      ]
    },
    {
      "cell_type": "markdown",
      "metadata": {
        "id": ""
      },
      "source": [
        "Note: kernels generated by soda-opt require at least Clang 10."
      ]
    },
    {
      "cell_type": "markdown",
      "metadata": {
        "id": ""
      },
      "source": [
        "## **Exercise 5**\n",
        "\n",
        "Let's go back to the C code that finds minumim and maximum in an array of numbers, and compare performance across different target platforms and frequencies.\n",
        "\n",
        "Start from the given command and modify the options appropriately to test the following combinations:\n",
        "\n",
        "\n",
        "*   nx1h140tsp (NG-LARGE) – 66MHz\n",
        "*   nx1h35S (NG-MEDIUM) - 50Mhz\n",
        "\n"
      ]
    },
    {
      "cell_type": "code",
      "execution_count": null,
      "metadata": {
        "id": ""
      },
      "outputs": [],
      "source": [
        "%cd /content/bambu-tutorial/01-introduction/Exercise2\n",
        "!bambu minmax.c --top-fname=min_max --device-name=nx1h35S --clock-period=20 --simulate --simulator=VERILATOR --generate-tb=testbench.xml"
      ]
    },
    {
      "cell_type": "markdown",
      "metadata": {
        "id": ""
      },
      "source": [
        "Look also at the different simulation and synthesis scripts generated by Bambu."
      ]
    },
    {
      "cell_type": "markdown",
      "metadata": {
        "id": ""
      },
      "source": [
        "## **Exercise 6**\n",
        "\n",
        "Ask Bambu to print a C verion of its internal IR and all relevant graphs:"
      ]
    },
    {
      "cell_type": "code",
      "execution_count": null,
      "metadata": {
        "id": ""
      },
      "outputs": [],
      "source": [
        "!bambu minmax.c --top-fname=min_max --pretty-print=out.c --print-dot"
      ]
    },
    {
      "cell_type": "markdown",
      "metadata": {
        "id": ""
      },
      "source": [
        "Look at /content/bambu-tutorial/01-introduction/Exercise2/out.c and then print the FSM graph:"
      ]
    },
    {
      "cell_type": "code",
      "execution_count": null,
      "metadata": {
        "id": ""
      },
      "outputs": [],
      "source": [
        "from graphviz import Source\n",
        "Source.from_file('HLS_output/dot/min_max/fsm.dot')"
      ]
    },
    {
      "cell_type": "code",
      "execution_count": null,
      "metadata": {
        "id": ""
      },
      "outputs": [],
      "source": [
        "from graphviz import Source\n",
        "Source.from_file('HLS_output/dot/min_max/HLS_STGraph.dot')"
      ]
    },
    {
      "attachments": {},
      "cell_type": "markdown",
      "metadata": {
        "id": ""
      },
      "source": [
        "## **Other examples**\n",
        "\n",
        "You can play around with a set of other examples that contain different applications and showcase different features of Bambu.\n",
        "\n",
        " - /content/bambu-tutorial/01-introduction/Exercise4: Function Proxy\n",
        " - /content/bambu-tutorial/01-introduction/Exercise5: LU decomposition\n",
        " - /content/bambu-tutorial/01-introduction/Exercise6: integration of IPs written in Verilog\n",
        " - /content/bambu-tutorial/01-introduction/Exercise7: sorting algorithm\n",
        " - /content/bambu-tutorial/01-introduction/Exercise8: cryptographic core\n",
        " - /content/bambu-tutorial/01-introduction/Exercise9: search and insertion in a binary tree\n"
      ]
    },
    {
      "cell_type": "markdown",
      "metadata": {
        "id": "IlQDB6nqHqz0"
      },
      "source": [
        "# **Optimizations**"
      ]
    },
    {
      "cell_type": "markdown",
      "metadata": {
        "id": "dWWTy4TGZLfk"
      },
      "source": [
        "## **Exercise 1** \n",
        "\n",
        "Modify Bambu options to evaluate the effect of:\n",
        "\n",
        "\n",
        "*   different levels of optimization (-O0, -O1, -O2, -O3, -Os)\n",
        "*   vectorization (-ftree-vectorize)\n",
        "*   inlining (-finline-limit=100000)\n",
        "*   different frontend compilers (--compiler={I386_GCC49|I386_GCC7|I386_CLANG12|I386_CLANG13})\n",
        "\n",
        "#### **ADPCM from CHStone benchmark suite**\n",
        "Adaptive Diferential Pulse-Code Modulation is an algorithm used to perform audio compression (mainly in telephony). It is part of the CHStone benchmark suite for C-based HLS tools.\n",
        "* Yuko Hara, Hiroyuki Tomiyama, Shinya Honda and Hiroaki Takada, \"Proposal and Quantitative Analysis of the CHStone Benchmark Program Suite for Practical C-based High-level Synthesis\", *Journal of Information Processing*, Vol. 17, pp.242-254, (2009)."
      ]
    },
    {
      "cell_type": "code",
      "execution_count": null,
      "metadata": {
        "id": ""
      },
      "outputs": [],
      "source": [
        "%cd /content/bambu-tutorial/03-optimizations/Exercise1/\n",
        "!bambu adpcm.c -O0 --simulate"
      ]
    },
    {
      "cell_type": "markdown",
      "metadata": {
        "id": "mJOV50V4IiE2"
      },
      "source": [
        "## **Exercise 2** \n",
        "\n",
        "Use the command that yielded the best result in Exercise 1 and verify if SDC scheduling can introduce further improvements.\n",
        "\n",
        "* -s or --speculative-sdc-scheduling"
      ]
    },
    {
      "cell_type": "code",
      "execution_count": null,
      "metadata": {
        "id": ""
      },
      "outputs": [],
      "source": [
        "%cd /content/bambu-tutorial/03-optimizations/Exercise1/\n",
        "!bambu adpcm.c -O0 --simulate"
      ]
    },
    {
      "cell_type": "markdown",
      "metadata": {
        "id": "StGBkKaJJEfr"
      },
      "source": [
        "## **Exercise 3**\n",
        "\n",
        "Modify Bambu options to evaluate the effect of different integer division implementations.\n",
        "\n",
        "--hls-div=<method\\>\n",
        "* none  - use a HDL based pipelined restoring division\n",
        "* nr1   - use a C-based non-restoring division with unrolling factor equal to 1 (default)\n",
        "* nr2   - use a C-based non-restoring division with unrolling factor equal to 2\n",
        "* NR    - use a C-based Newton-Raphson division\n",
        "* as    - use a C-based align divisor shift dividend method\n",
        "\n",
        "#### **FPDiv from CHStone**\n",
        "Soft floating-point division implementation from the CHStone benchmark suite for C-based HLS.\n",
        "* Yuko Hara, Hiroyuki Tomiyama, Shinya Honda and Hiroaki Takada, \"Proposal and Quantitative Analysis of the CHStone Benchmark Program Suite for Practical C-based High-level Synthesis\", *Journal of Information Processing*, Vol. 17, pp.242-254, (2009).\n"
      ]
    },
    {
      "cell_type": "code",
      "execution_count": null,
      "metadata": {
        "id": ""
      },
      "outputs": [],
      "source": [
        "%cd /content/bambu-tutorial/03-optimizations/Exercise3/\n",
        "!bambu dfdiv.c --simulate --clock-period=15 --hls-div=none"
      ]
    },
    {
      "attachments": {},
      "cell_type": "markdown",
      "metadata": {
        "id": "YSRwNv1o2Jqx"
      },
      "source": [
        "## **Exercise 5** \n",
        "Bambu expose a complete support for floating-point arithemtic and all libm functions.\n",
        "In the following you can define any arbitrary floating-point computation and take a look at the generated design structure.\n",
        "\n",
        "As an example, try to write a C implementation that compute the following:\n",
        "\n",
        "# $awesome\\_math(a,b,c) = acos(\\frac{a^2+b^2-c^2}{2ab})$\n",
        "\n",
        "Experiment with single and double precision data types, different softfloat and libm implementations offered by bambu.\n",
        "\n",
        "Start by editing this code and then try different bambu options:\n",
        "* Different floating-point arithmetic implementations (--softfloat, --soft-fp, --flopoco)\n",
        "* Different libm implementations (--libm-std-rounding)\n",
        "* Different square implementation (pow, simple multiplication)"
      ]
    },
    {
      "cell_type": "code",
      "execution_count": null,
      "metadata": {
        "id": "LuhiArbj6XnA"
      },
      "outputs": [],
      "source": [
        "%%writefile /content/bambu-tutorial/03-optimizations/Exercise5/module.c\n",
        "#include <math.h>\n",
        "float awesome_math(float a, float b, float c)\n",
        "{\n",
        "   return a * b + c;\n",
        "}"
      ]
    },
    {
      "cell_type": "markdown",
      "metadata": {
        "id": "4dstvQzcCt9z"
      },
      "source": [
        "Make sure you run the above cell after you write the C implementation inside, so that the file is updated, then launch Bambu to perform the synthesis."
      ]
    },
    {
      "cell_type": "code",
      "execution_count": null,
      "metadata": {
        "id": "_Rg4Gthy2vDm"
      },
      "outputs": [],
      "source": [
        "%cd /content/bambu-tutorial/03-optimizations/Exercise5/\n",
        "!bambu module.c -O3 -lm --simulate --top-fname=awesome_math --generate-tb=\"a=3.0,b=4.0,c=5.0\" --panda-parameter=function-opt=0 --print-dot"
      ]
    },
    {
      "cell_type": "markdown",
      "metadata": {
        "id": "Rlg6keEyDARF"
      },
      "source": [
        "After the synthesis has completed it is possible to observe how the floating-point operations have been converted to function calls to the internal Bambu arithmetic cores and libm implementation."
      ]
    },
    {
      "cell_type": "code",
      "execution_count": null,
      "metadata": {
        "id": "r9Lplti4nD-H"
      },
      "outputs": [],
      "source": [
        "from graphviz import Source\n",
        "Source.from_file('HLS_output/dot/call_graph_final.dot')"
      ]
    },
    {
      "cell_type": "code",
      "execution_count": null,
      "metadata": {
        "id": "wUcQsiLvn_nF"
      },
      "outputs": [],
      "source": [
        "from graphviz import Source\n",
        "Source.from_file('HLS_output/dot/__float_adde8m23b_127nih/fsm.dot')"
      ]
    },
    {
      "cell_type": "markdown",
      "metadata": {
        "id": "W7Xm7x00kY8k"
      },
      "source": [
        "# AXI"
      ]
    },
    {
      "cell_type": "markdown",
      "metadata": {
        "id": "astRZQCPkY8k"
      },
      "source": [
        "## **Exercise 1**\n",
        "Start by writing a C function called read that simply reads a number from an AXI bus and returns the value that is retrieved from the bus.\n"
      ]
    },
    {
      "cell_type": "code",
      "execution_count": null,
      "metadata": {
        "id": "8WWTClIgkY8k"
      },
      "outputs": [],
      "source": [
        "%%writefile /content/bambu-tutorial/04-axi/Exercise1/module.c\n",
        "int read(int * data)\n",
        "{\n",
        "    return *data;\n",
        "}"
      ]
    },
    {
      "cell_type": "markdown",
      "metadata": {
        "id": "k6gr5V0OkY8l"
      },
      "source": [
        "Now add the interface infer flag to the bambu command and execute."
      ]
    },
    {
      "cell_type": "code",
      "execution_count": null,
      "metadata": {
        "id": "DPtMp3i9kY8l"
      },
      "outputs": [],
      "source": [
        "%cd /content/bambu-tutorial/04-axi/Exercise1/\n",
        "!bambu module.c --top-fname=read --compiler=I386_CLANG13"
      ]
    },
    {
      "cell_type": "markdown",
      "metadata": {
        "id": "vlliLe-skY8l"
      },
      "source": [
        "Open the generated Verilog file and look for the top module, called read. Notice the presence of the AXI signals and how their size matches the size of the data.\n",
        "\n"
      ]
    },
    {
      "cell_type": "code",
      "execution_count": null,
      "metadata": {
        "id": "E2Skz8FskY8m"
      },
      "outputs": [],
      "source": [
        "%cd /content/bambu-tutorial/04-axi/Exercise1/\n",
        "!cat read.v"
      ]
    },
    {
      "cell_type": "markdown",
      "metadata": {
        "id": "_bARuIvZkY8m"
      },
      "source": [
        "Finally, launch the simulation and check that everything works properly."
      ]
    },
    {
      "cell_type": "code",
      "execution_count": null,
      "metadata": {
        "id": "F35QAjj-kY8m"
      },
      "outputs": [],
      "source": [
        "%cd /content/bambu-tutorial/04-axi/Exercise1/\n",
        "!bambu module.c --top-fname=read --compiler=I386_CLANG13 --generate-interface=INFER --generate-tb=\"data={96}\" --simulator=VERILATOR --simulate -v4"
      ]
    },
    {
      "cell_type": "markdown",
      "metadata": {
        "id": "C_GmMHuokY8m"
      },
      "source": [
        "## **Exercise 2**"
      ]
    },
    {
      "cell_type": "markdown",
      "metadata": {
        "id": "RQWFRIg4kY8n"
      },
      "source": [
        "Consider the following code, that adds up all of the n elements of a vector v. Edit the code so that both the number of elements and the elements of the vector are read from an external memory through an AXI bus."
      ]
    },
    {
      "cell_type": "code",
      "execution_count": null,
      "metadata": {
        "id": "4QUMMgpnkY8n"
      },
      "outputs": [],
      "source": [
        "%%writefile /content/bambu-tutorial/04-axi/Exercise2/module.c\n",
        "\n",
        "int sum(int* v, unsigned* n)\n",
        "{\n",
        "   int sum = 0;\n",
        "\n",
        "   for(unsigned i = 0; i < *(n); i++)\n",
        "   {\n",
        "      sum += v[i];\n",
        "   }\n",
        "\n",
        "   return sum;\n",
        "}"
      ]
    },
    {
      "cell_type": "markdown",
      "metadata": {},
      "source": [
        "Let's also write a test file"
      ]
    },
    {
      "cell_type": "code",
      "execution_count": null,
      "metadata": {},
      "outputs": [],
      "source": [
        "%%writefile /content/bambu-tutorial/04-axi/Exercise2/test.xml\n",
        "<?xml version=\"1.0\"?>\n",
        "<function>\n",
        "   <testbench v=\"{1, 5, -6, 2, 8}\" n=\"{5}\"/>\n",
        "</function>"
      ]
    },
    {
      "cell_type": "markdown",
      "metadata": {
        "id": "XFRxYuA5kY8n"
      },
      "source": [
        "Launch bambu and simulate the execution."
      ]
    },
    {
      "cell_type": "code",
      "execution_count": null,
      "metadata": {
        "id": "j6_SFQLbkY8n"
      },
      "outputs": [],
      "source": [
        "%cd /content/bambu-tutorial/04-axi/Exercise2/\n",
        "!bambu module.c --top-fname=sum --compiler=I386_CLANG13 --generate-interface=INFER --generate-tb=test.xml --simulator=VERILATOR --simulate -v4"
      ]
    },
    {
      "cell_type": "markdown",
      "metadata": {
        "id": "X9fgghWdkY8n"
      },
      "source": [
        "## **Exercise 3**"
      ]
    },
    {
      "attachments": {},
      "cell_type": "markdown",
      "metadata": {
        "id": "QbhpuMj1kY8n"
      },
      "source": [
        "Let's consider the following code, that computes the maximum among the elements of a vector. We want to read the number of elements of the vector and its data from an AXI bus, however, instead of returning the result, we then want to write the result to an external memory available over a different AXI bus. In order for bambu to generate the module according to our needs, we will need to provide additional information through \"bundle\", an optional parameter of the pragma directive.\n",
        "With the addition of the optional parameter, the directive becomes:\n",
        "\n",
        "\\#pragma HLS interface port=\\<variable_name> mode=m_axi offset=direct bundle=\\<bundle_name>\n",
        "\n",
        "By associating different variables to the same bundle name, we are telling bambu that they will use the same bus. When different names are used, bambu will generate a bus for each bundle.\n",
        "\n"
      ]
    },
    {
      "cell_type": "code",
      "execution_count": null,
      "metadata": {
        "id": "hay4ndWJkY8o"
      },
      "outputs": [],
      "source": [
        "%%writefile /content/bambu-tutorial/04-axi/Exercise3/module.c\n",
        "\n",
        "void maxNumbers(int* a, unsigned int* n_ptr, int* res)\n",
        "\n",
        "{\n",
        "   unsigned i;\n",
        "   int result;\n",
        "   unsigned int n = *n_ptr;\n",
        "\n",
        "   if(n == 0)\n",
        "   {\n",
        "      *res = (int)(1 << 31);\n",
        "      return;\n",
        "   }\n",
        "   result = a[0];\n",
        "   for(i = 1; i < n; ++i)\n",
        "      result = result < a[i] ? a[i] : result;\n",
        "   *res = result;\n",
        "}"
      ]
    },
    {
      "cell_type": "code",
      "execution_count": null,
      "metadata": {},
      "outputs": [],
      "source": [
        "%%writefile /content/bambu-tutorial/04-axi/Exercise3/test.xml\n",
        "<?xml version=\"1.0\"?>\n",
        "<function>\n",
        "   <testbench a=\"{21, 8, -3, -90}\" n_ptr=\"{4}\" res=\"{0}\"/>\n",
        "</function>"
      ]
    },
    {
      "cell_type": "markdown",
      "metadata": {
        "id": "3Z5AxO4jkY8o"
      },
      "source": [
        "Once again, we can run bambu with the same command and perform a simulation."
      ]
    },
    {
      "cell_type": "code",
      "execution_count": null,
      "metadata": {
        "id": "3vtw_MkckY8o"
      },
      "outputs": [],
      "source": [
        "%cd /content/bambu-tutorial/04-axi/Exercise3/\n",
        "!bambu module.c --top-fname=maxNumbers --compiler=I386_CLANG13 --generate-interface=INFER --generate-tb=test.xml --simulator=VERILATOR --simulate -v4"
      ]
    },
    {
      "cell_type": "markdown",
      "metadata": {
        "id": "MRgKzu0VkY8o"
      },
      "source": [
        "If we open the module definition, we can actually check that two AXI buses are defined and used."
      ]
    },
    {
      "cell_type": "code",
      "execution_count": null,
      "metadata": {
        "id": "bld4NJSlkY8o"
      },
      "outputs": [],
      "source": [
        "%cd /content/bambu-tutorial/04-axi/Exercise3/\n",
        "!cat maxNumbers.v"
      ]
    },
    {
      "attachments": {},
      "cell_type": "markdown",
      "metadata": {},
      "source": [
        "## **Exercise 4**"
      ]
    },
    {
      "attachments": {},
      "cell_type": "markdown",
      "metadata": {},
      "source": [
        "Let's consider an example of a matrix multiplication algorithm. It might be a bit more complex compared to the standard one, but it has much better locality. Let's compare the performance with and without caches. "
      ]
    },
    {
      "cell_type": "code",
      "execution_count": null,
      "metadata": {},
      "outputs": [],
      "source": [
        "%%writefile /content/bambu-tutorial/04-axi/Exercise4/module.c\n",
        "\n",
        "#define rank 32\n",
        "#define tile_rank 2\n",
        "\n",
        "/* AXI pragmas */\n",
        "#pragma HLS interface port=a mode=m_axi offset=direct bundle = gmem0\n",
        "#pragma HLS interface port=b mode=m_axi offset=direct bundle = gmem1\n",
        "#pragma HLS interface port=output mode=m_axi offset=direct bundle = gmem2\n",
        "\n",
        "/* Cache pragmas */\n",
        "#pragma HLS cache bundle = gmem0 line_count = 16 line_size = 16 bus_size = 32 ways = 1 num_write_outstanding = 2 rep_policy = \\\n",
        "    lru write_policy = wt\n",
        "#pragma HLS cache bundle = gmem1 line_count = 32 line_size = 16 bus_size = 32 ways = 1 num_write_outstanding = 2 rep_policy = \\\n",
        "    tree write_policy = wt\n",
        "#pragma HLS cache bundle = gmem2 line_count = 16 line_size = 16 bus_size = 32 ways = 1 num_write_outstanding = 4 rep_policy = \\\n",
        "    tree write_policy = wb\n",
        "\n",
        "void mmult(int* a, int* b, int* output)\n",
        "{\n",
        "   int running = 0;\n",
        "\n",
        "   for(unsigned c_tile = 0; c_tile < tile_rank; c_tile++)\n",
        "   {\n",
        "      for(unsigned r_tile = 0; r_tile < tile_rank; r_tile++)\n",
        "      {\n",
        "         for(unsigned r = 0; r < rank / tile_rank; r++)\n",
        "         {\n",
        "            for(unsigned c = 0; c < rank / tile_rank; c++)\n",
        "            {\n",
        "               output[(r + r_tile * rank / tile_rank) * rank + (c + c_tile * rank / tile_rank)] = 0;\n",
        "            }\n",
        "         }\n",
        "         for(unsigned i_tile = 0; i_tile < tile_rank; i_tile++)\n",
        "         {\n",
        "            for(unsigned c = 0; c < rank / tile_rank; c++)\n",
        "            {\n",
        "               for(unsigned r = 0; r < rank / tile_rank; r++)\n",
        "               {\n",
        "                  running = 0;\n",
        "                  for(unsigned index = 0; index < rank / tile_rank; index++)\n",
        "                  {\n",
        "                     unsigned aIndex = (r + r_tile * rank / tile_rank) * rank + (index + i_tile * rank / tile_rank);\n",
        "                     unsigned bIndex = (index + i_tile * rank / tile_rank) * rank + (c + c_tile * rank / tile_rank);\n",
        "                     running += a[aIndex] * b[bIndex];\n",
        "                  }\n",
        "                  output[(r + r_tile * rank / tile_rank) * rank + (c + c_tile * rank / tile_rank)] += running;\n",
        "               }\n",
        "            }\n",
        "         }\n",
        "      }\n",
        "   }\n",
        "}\n"
      ]
    },
    {
      "cell_type": "code",
      "execution_count": null,
      "metadata": {},
      "outputs": [],
      "source": [
        "%cd /content/bambu-tutorial/04-axi/Exercise4/\n",
        "!bambu module.c --top-fname=mmult --compiler=I386_CLANG13 --generate-interface=INFER --generate-tb=test.xml --simulator=VERILATOR --simulate --mem-delay-read=15 --mem-delay-write=15"
      ]
    }
  ],
  "metadata": {
    "colab": {
      "collapsed_sections": [],
      "provenance": []
    },
    "kernelspec": {
      "display_name": "Python 3 (ipykernel)",
      "language": "python",
      "name": "python3"
    },
    "language_info": {
      "codemirror_mode": {
        "name": "ipython",
        "version": 3
      },
      "file_extension": ".py",
      "mimetype": "text/x-python",
      "name": "python",
      "nbconvert_exporter": "python",
      "pygments_lexer": "ipython3",
      "version": "3.10.4"
    },
    "vscode": {
      "interpreter": {
        "hash": "916dbcbb3f70747c44a77c7bcd40155683ae19c65e1c03b4aa3499c5328201f1"
      }
    }
  },
  "nbformat": 4,
  "nbformat_minor": 0
}