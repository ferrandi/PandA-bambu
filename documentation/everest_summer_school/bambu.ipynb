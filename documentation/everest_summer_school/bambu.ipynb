{
  "cells": [
    {
      "cell_type": "markdown",
      "metadata": {
        "id": "c97blcSRzP24"
      },
      "source": [
        "# Initial setup"
      ]
    },
    {
      "cell_type": "markdown",
      "metadata": {
        "id": "A_6a_kbExQOY"
      },
      "source": [
        "Install Bambu and required packages:"
      ]
    },
    {
      "cell_type": "code",
      "execution_count": null,
      "metadata": {
        "id": "ZoxqLkfA9zqM",
        "tags": [
          "outputPrepend"
        ]
      },
      "outputs": [],
      "source": [
        "!add-apt-repository -y ppa:git-core/ppa\n",
        "!apt-get update\n",
        "!apt-get install -y --no-install-recommends build-essential ca-certificates gcc-multilib git iverilog verilator\n",
        "!wget https://release.bambuhls.eu/appimage/bambu-latest.AppImage\n",
        "!chmod +x bambu-*.AppImage\n",
        "!ln -sf $PWD/bambu-*.AppImage /bin/bambu\n",
        "!ln -sf $PWD/bambu-*.AppImage /bin/spider\n",
        "!ln -sf $PWD/bambu-*.AppImage /bin/tree-panda-gcc\n",
        "!ln -sf $PWD/bambu-*.AppImage /bin/clang-12\n",
        "!ln -sf $PWD/bambu-*.AppImage /bin/mlir-opt-12\n",
        "!ln -sf $PWD/bambu-*.AppImage /bin/mlir-translate-12\n",
        "!rm -rf PandA-bambu bambu-tutorial\n",
        "!git clone --depth 1 --filter=blob:none --branch everest-school --sparse https://github.com/ferrandi/PandA-bambu.git\n",
        "%cd PandA-bambu\n",
        "!git sparse-checkout set documentation/everest_summer_school\n",
        "%cd ..\n",
        "!mv PandA-bambu/documentation/everest_summer_school/ bambu-tutorial"
      ]
    },
    {
      "cell_type": "markdown",
      "metadata": {
        "id": "ZQTYHMwaSn2_"
      },
      "source": [
        "Check the installation:"
      ]
    },
    {
      "cell_type": "code",
      "execution_count": null,
      "metadata": {
        "id": "k-PFiPN4S5q9"
      },
      "outputs": [],
      "source": [
        "!bambu -h"
      ]
    },
    {
      "cell_type": "code",
      "execution_count": null,
      "metadata": {},
      "outputs": [],
      "source": [
        "!mlir-opt-12 --help"
      ]
    },
    {
      "cell_type": "markdown",
      "metadata": {
        "id": "D1bDtlfzJcTS"
      },
      "source": [
        "# Bambu inputs and outputs"
      ]
    },
    {
      "cell_type": "markdown",
      "metadata": {
        "id": "hjqK9XaZ7ryo"
      },
      "source": [
        "\n",
        "Example C code in /content/bambu-tutorial/Exercise1/icrc.c"
      ]
    },
    {
      "cell_type": "code",
      "execution_count": null,
      "metadata": {
        "id": "pjUguz8lZr_2"
      },
      "outputs": [],
      "source": [
        "%cd /content/bambu-tutorial/Exercise1\n",
        "!bambu icrc.c --top-fname=icrc1 --simulator=VERILATOR --simulate --generate-tb=test_icrc1.xml -v2 --print-dot --pretty-print=a.c 2>&1 | tee icrc1.log"
      ]
    },
    {
      "cell_type": "markdown",
      "metadata": {
        "id": "zXTGPFLA1Dmj"
      },
      "source": [
        "Inspect the generated files in the explorer tab on the left:\n",
        "\n",
        "*   /content/bambu-tutorial/Exercise1/icrc1.v\n",
        "*   /content/bambu-tutorial/Exercise1/simulate_icrc1.sh\n",
        "*   /content/bambu-tutorial/Exercise1/synthesize_Synthesis_icrc1.sh\n",
        "*   /content/bambu-tutorial/Exercise1/a.c\n",
        "\n",
        "\n",
        "\n",
        "Visualize the FSM:"
      ]
    },
    {
      "cell_type": "code",
      "execution_count": null,
      "metadata": {
        "id": "IYUayuTqzb2I"
      },
      "outputs": [],
      "source": [
        "from graphviz import Source\n",
        "Source.from_file('HLS_output/dot/icrc1/HLS_STGraph.dot')"
      ]
    },
    {
      "cell_type": "markdown",
      "metadata": {},
      "source": [
        "Try out:\n",
        "\n",
        "* different target board\n",
        "* different clock period\n",
        "* VHDL instead of Verilog output\n",
        "* different verbosity level"
      ]
    },
    {
      "cell_type": "markdown",
      "metadata": {
        "id": "A50OIi5sS_6C"
      },
      "source": [
        "# HLS of an MLIR kernel"
      ]
    },
    {
      "cell_type": "markdown",
      "metadata": {
        "id": "RrL80EzbavGk"
      },
      "source": [
        "Source code: /content/bambu-tutorial/Exercise2/gemm_32.mlir and /content/bambu-tutorial/Exercise2/helmholtz.mlir"
      ]
    },
    {
      "cell_type": "code",
      "execution_count": null,
      "metadata": {
        "id": "RempES6CTcvl"
      },
      "outputs": [],
      "source": [
        "%cd /content/bambu-tutorial/Exercise2/\n",
        "!mlir-opt-12 /content/bambu-tutorial/Exercise2/gemm_32.mlir -lower-affine -convert-scf-to-std -convert-std-to-llvm='use-bare-ptr-memref-call-conv=1' -o /content/bambu-tutorial/Exercise2/gemm_32.llvm.mlir\n",
        "!mlir-translate-12 /content/bambu-tutorial/Exercise2/gemm_32.llvm.mlir --mlir-to-llvmir -o /content/bambu-tutorial/Exercise2/gemm_32.ll\n",
        "!bambu gemm_32.ll --simulate --generate-tb=gemm_32_test.xml --no-clean --compiler=I386_CLANG13 --top-fname=gemm_32 --simulator=VERILATOR -v2 --print-dot |& tee log.txt"
      ]
    },
    {
      "cell_type": "markdown",
      "metadata": {},
      "source": [
        "Try out:\n",
        "* synthesize the Helmholtz kernel\n",
        "* use the --generate-interface option\n",
        "* apply mlir-opt optimizations before synthesis\n",
        "* disable function proxies to allocate floating point units in parallel"
      ]
    },
    {
      "cell_type": "markdown",
      "metadata": {
        "id": "ZZx_VzZhVjPM"
      },
      "source": [
        "# OpenMP parallel for"
      ]
    },
    {
      "cell_type": "markdown",
      "metadata": {
        "id": "xWz2csytVp8L"
      },
      "source": [
        "Source code: /content/bambu-tutorial/Exercise3/trinityq4/lubm_trinityq4.c\n"
      ]
    },
    {
      "cell_type": "code",
      "execution_count": null,
      "metadata": {
        "id": "ialdoCMUWFJb"
      },
      "outputs": [],
      "source": [
        "%cd /content/bambu-tutorial/Exercise3/\n",
        "!bambu trinityq4/lubm_trinityq4.c --top-fname=search \\\n",
        "   common/atominIncrement.c common/data.c -Icommon/ \\\n",
        "   --compiler=I386_GCC49 --experimental-set=BAMBU -O3 --std=c99 -fno-delete-null-pointer-checks \\\n",
        "   --channels-type=MEM_ACC_11 --memory-allocation-policy=NO_BRAM \\\n",
        "   --device-name=xc7vx690t-3ffg1930-VVD --clock-period=10 \\\n",
        "   -DMAX_VERTEX_NUMBER=26455 -DMAX_EDGE_NUMBER=100573 -DN_THREADS=2  \\\n",
        "   --mem-delay-read=20 --mem-delay-write=20 \\\n",
        "   --generate-tb=test-1.xml --simulator=VERILATOR --simulate \\\n",
        "   --pragma-parse --num-accelerators=2 --memory-banks-number=4 --channels-number=2 --context_switch=4 \\\n",
        "   -v3 |& tee log.txt"
      ]
    },
    {
      "cell_type": "markdown",
      "metadata": {
        "id": "UQk1Ejx7UOvn"
      },
      "source": [
        "# ap_types and ac_types support"
      ]
    },
    {
      "cell_type": "markdown",
      "metadata": {
        "id": "bxF6AZ_bopOF"
      },
      "source": [
        "Synthesis of an accelerator with 11-bit data, input and output fifo ports."
      ]
    },
    {
      "cell_type": "code",
      "execution_count": null,
      "metadata": {
        "id": "64KpRMlulJ9H"
      },
      "outputs": [],
      "source": [
        "%cd /content/bambu-tutorial/Exercise4\n",
        "!bambu ap_example.cpp --simulate --no-clean --compiler=I386_CLANG13 --generate-interface=INFER --top-fname=gcd --simulator=VERILATOR"
      ]
    },
    {
      "cell_type": "markdown",
      "metadata": {
        "id": "fiAhPOCr65BN"
      },
      "source": [
        "## Custom floating point synthesis\n",
        "\n"
      ]
    },
    {
      "cell_type": "code",
      "execution_count": null,
      "metadata": {
        "id": "5TmC9hsp6_oJ"
      },
      "outputs": [],
      "source": [
        "%cp /content/bambu-tutorial/Exercise2/gemm_32.ll /content/bambu-tutorial/Exercise4\n",
        "%cp /content/bambu-tutorial/Exercise2/gemm_32_test.xml /content/bambu-tutorial/Exercise4\n",
        "!bambu gemm_32.ll --simulate --no-clean --compiler=I386_CLANG13 --top-fname=gemm_32 --simulator=VERILATOR --generate-tb=gemm_32_test.xml -v4 --disable-function-proxy --print-dot --fp-format=\"gemm_32*e8m7b-127tih0\" --max-ulp=2000000 |& tee log.bfloat16.txt"
      ]
    }
  ],
  "metadata": {
    "colab": {
      "collapsed_sections": [],
      "provenance": []
    },
    "kernelspec": {
      "display_name": "Python 2.7.18 ('.venv_soda': venv)",
      "language": "python",
      "name": "python3"
    },
    "language_info": {
      "codemirror_mode": {
        "name": "ipython",
        "version": 2
      },
      "file_extension": ".py",
      "mimetype": "text/x-python",
      "name": "python",
      "nbconvert_exporter": "python",
      "pygments_lexer": "ipython2",
      "version": "2.7.18"
    },
    "vscode": {
      "interpreter": {
        "hash": "ad6ec13b37167c9322c586dd4a0d547738ae296af85cae52c29a9012bd101b62"
      }
    }
  },
  "nbformat": 4,
  "nbformat_minor": 0
}